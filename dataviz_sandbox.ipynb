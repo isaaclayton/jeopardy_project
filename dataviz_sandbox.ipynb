{
 "cells": [
  {
   "cell_type": "code",
   "execution_count": 2,
   "metadata": {
    "collapsed": true
   },
   "outputs": [],
   "source": [
    "import pandas as pd\n",
    "import numpy as np\n",
    "import pickle\n",
    "import itertools\n",
    "import re\n",
    "from typing import List, Tuple, Dict\n",
    "import operator\n",
    "import math\n",
    "from scipy.stats import sem\n",
    "import matplotlib.pyplot as plt\n",
    "from functools import reduce\n",
    "from nltk.tokenize import word_tokenize\n",
    "from nltk.corpus import stopwords\n",
    "from collections import defaultdict\n",
    "%matplotlib inline"
   ]
  },
  {
   "cell_type": "code",
   "execution_count": 2,
   "metadata": {
    "collapsed": true
   },
   "outputs": [],
   "source": [
    "# Set max columns displayed to 500\n",
    "pd.set_option('display.max_columns', 500)"
   ]
  },
  {
   "cell_type": "code",
   "execution_count": 3,
   "metadata": {
    "collapsed": true
   },
   "outputs": [],
   "source": [
    "def np_equal(list1, list2):\n",
    "    \"\"\"Return a boolean list of whether 2 elements of the same index are equal in the two given lists\"\"\"\n",
    "    return [x == y for x,y in zip(list1,list2)]"
   ]
  },
  {
   "cell_type": "code",
   "execution_count": 4,
   "metadata": {
    "collapsed": true
   },
   "outputs": [],
   "source": [
    "def any_equal(list1, value):\n",
    "    \"\"\"Return a boolean list of whether any elements of the given list are equal to the given value\"\"\"\n",
    "    return [x == value for x in list1]"
   ]
  },
  {
   "cell_type": "code",
   "execution_count": 5,
   "metadata": {
    "collapsed": true
   },
   "outputs": [],
   "source": [
    "def mult_col_search(df: pd.DataFrame, columns: List[str], \n",
    "                    string: str, strict: bool = False) -> Tuple[List[bool], List[np.ndarray]]:\n",
    "    '''Given a set of dataframe columns, which rows and columns return the substring'''\n",
    "    if strict:\n",
    "        col_bool = [df[col]==string for col in columns]\n",
    "    else:\n",
    "        col_bool = [df[col].str.contains(string) for col in columns]\n",
    "    bool_mask = np.dstack(col_bool).squeeze()\n",
    "    rows = [row.any() for row in bool_mask]\n",
    "    cols = list(itertools.compress(columns, [c.any() for c in col_bool]))\n",
    "    return rows, cols"
   ]
  },
  {
   "cell_type": "code",
   "execution_count": 6,
   "metadata": {
    "collapsed": true
   },
   "outputs": [],
   "source": [
    "def has_state(loc: str) -> bool:\n",
    "    '''See if a US state name is in location string'''\n",
    "    return any((state in loc) & (len(loc.split(','))<3) for state in states)\n",
    "def has_uni(loc: str) -> bool:\n",
    "    '''See if any college terms are in location string'''\n",
    "    return any(re.match(college, loc) \n",
    "               for college in [r'(?!.*Park)(?=.*College)^(.*)$', \n",
    "                               r'.*University.*', r'.*Tech.*',\n",
    "                               r'.* State'])\n",
    "def has_the(loc: str) -> bool:\n",
    "    '''See if the word \"The\" is in the beginning of the location string'''\n",
    "    return re.match(r'^[tT]he .*$', loc)"
   ]
  },
  {
   "cell_type": "code",
   "execution_count": 7,
   "metadata": {
    "collapsed": true
   },
   "outputs": [],
   "source": [
    "def name_order2(list1, list2, df_index=0):\n",
    "    list1 = list(enumerate(list1))\n",
    "    list2 = list(enumerate(list2))\n",
    "    l1_len = len(list1)\n",
    "    if l1_len != len(list2):\n",
    "        raise ValueError('List lengths must be equal')\n",
    "    indices = [-1]*l1_len\n",
    "    for i,x in list1:\n",
    "        if i > 2*l1_len: raise ValueError('Caught in infinite loop')\n",
    "        occurrences = sum(x in name[1] for name in list2)\n",
    "        if occurrences == 0:\n",
    "            raise ValueError('{} is not in list. Show number = {}'.format(x, df_index))\n",
    "        elif occurrences > 1:\n",
    "            list1.append((i,x))\n",
    "        else:\n",
    "            indices[next(j for j,n in list2 if x in n)] = i\n",
    "            l2_ix = next(j for j,n in enumerate(list2) if x in n[1])\n",
    "            del list2[l2_ix]\n",
    "    return indices"
   ]
  },
  {
   "cell_type": "code",
   "execution_count": 8,
   "metadata": {
    "collapsed": true
   },
   "outputs": [],
   "source": [
    "def name_order(list1, list2, df_index=0):\n",
    "    l1 = list1.copy()\n",
    "    l2 = list(enumerate(list2))\n",
    "    l1_len = len(l1)\n",
    "    indices = [-1]*l1_len\n",
    "    if l1_len != len(l2):\n",
    "        raise ValueError('List lengths must be equal')\n",
    "    for i,x in enumerate(l1):\n",
    "        if i > 2*l1_len: raise ValueError('Caught in infinite loop')\n",
    "        occurrences = sum(x in name[1] for name in l2)\n",
    "        if occurrences == 0:\n",
    "            raise ValueError('{} is not in list. Show number = {}'.format(x, df_index))\n",
    "        elif occurrences > 1:\n",
    "            l1.append(x)\n",
    "        else:\n",
    "            if i >= l1_len: i = indices.index(-1)\n",
    "            indices[i] = next(j for j,n in l2 if x in n)\n",
    "            l2_ix = next(j for j,n in enumerate(l2) if x in n[1])\n",
    "            del l2[l2_ix]\n",
    "    return indices"
   ]
  },
  {
   "cell_type": "code",
   "execution_count": 9,
   "metadata": {
    "collapsed": true
   },
   "outputs": [],
   "source": [
    "def word_increases(word_freqs: Dict[str, int], step_size: int=1, \n",
    "                   end_step_size: int=None) -> List[Tuple[str, str, int]]:\n",
    "    '''Tries to find word increases over time\n",
    "    '''\n",
    "    if end_step_size is None:\n",
    "        end_step_size = step_size\n",
    "    count = len(next(iter(word_freqs.values())))\n",
    "    next_iteration_diff = defaultdict(lambda : [[[]]]*(end_step_size + 1 - step_size))\n",
    "    for step in range(step_size, end_step_size+1):\n",
    "        for key, value in word_freqs.items():\n",
    "            next_iteration_diff[key][step-1] = next_iteration_diff[key][step-1] + [step]\n",
    "            for i in range(0, count-step):\n",
    "                next_iteration_diff[key][step-1][0] = next_iteration_diff[key][step-1][0] + [value[i+step]-value[i]]\n",
    "    most_freq_diffs = {word: max([(max(it[0]), \"between {} and {}\".format(it[0].index(max(it[0]))+1,\n",
    "                                                                            it[0].index(max(it[0]))+it[1]+1),\n",
    "                                   it[1]) for it in freq], key=lambda x:x[0]) \n",
    "                       for word, freq in next_iteration_diff.items()}    \n",
    "    return sorted(most_freq_diffs.items(), key=lambda x: x[1][0], reverse=True)"
   ]
  },
  {
   "cell_type": "code",
   "execution_count": 9,
   "metadata": {
    "collapsed": true
   },
   "outputs": [],
   "source": [
    "#Contestant information dataframe\n",
    "contestants = pd.read_csv('contestants.txt', header=None, sep='\\|\\|', error_bad_lines=True,\n",
    "                     names = ['show_num','date','comments','c1', 'c1_job', 'c1_loc', 'c2', \n",
    "                              'c2_job', 'c2_loc', 'c3', 'c3_job', 'c3_loc', 'c4', 'c4_job', 'c4_loc'], \n",
    "                     engine='python')"
   ]
  },
  {
   "cell_type": "code",
   "execution_count": 10,
   "metadata": {
    "collapsed": true
   },
   "outputs": [],
   "source": [
    "contestants.fillna(\"\", inplace=True)\n",
    "\n",
    "#Keep to only first names for easier matching\n",
    "for i in range(1,5):\n",
    "    #contestants['c'+str(i)] = [re.findall('^([\\w\"]+)?', name)[0] for name in contestants['c'+str(i)]]\n",
    "    contestants['c{}_loc'.format(i)] = [loc.strip() for loc in contestants['c{}_loc'.format(i)]]\n",
    "\n",
    "#Make super jeopardy show numbers unique\n",
    "superjep_filter = contestants['comments'].str.contains('Super Jeopardy')\n",
    "#contestants = contestants[~superjep_filter]\n",
    "contestants.loc[superjep_filter ,'show_num'] = [i + 10000 for i in contestants.loc[superjep_filter ,'show_num']]\n",
    "#Make super jeopardy show numbers unique\n",
    "pilot_filter = contestants['comments'].str.contains('Trebek pilot')\n",
    "contestants.loc[pilot_filter ,'show_num'] = [i + 20000 for i in contestants.loc[pilot_filter ,'show_num']]"
   ]
  },
  {
   "cell_type": "code",
   "execution_count": 11,
   "metadata": {
    "collapsed": true
   },
   "outputs": [],
   "source": [
    "#Question dataframe\n",
    "reader = pd.read_csv('jeopardy_questions.txt', header=None, sep='\\|\\|', error_bad_lines=True,\n",
    "                     names = ['season','show_num','question_num','round', 'category', 'difficulty', \n",
    "                              'question', 'answer', 'DD', 'c1', 'c1_add', 'c2', 'c2_add', 'c3', 'c3_add', \n",
    "                              'c4', 'c4_add'], \n",
    "                     engine='python', chunksize = 1000)\n",
    "episodes = pd.concat([chunk for chunk in reader], ignore_index=True)"
   ]
  },
  {
   "cell_type": "code",
   "execution_count": 12,
   "metadata": {
    "collapsed": true
   },
   "outputs": [],
   "source": [
    "for i in range(1,5):\n",
    "    episodes['c'+str(i)].fillna(\"\", inplace=True)\n",
    "    episodes['c{}_add'.format(i)].fillna(0, inplace=True)\n",
    "    episodes['c'+str(i)] = [re.findall('^([\\w\" ]+)?', name)[0] for name in episodes['c'+str(i)]]\n",
    "    \n",
    "#Make super jeopardy show numbers unique\n",
    "superjep_filter = episodes['season']=='superjeopardy'\n",
    "#episodes = episodes[~superjep_filter]\n",
    "episodes.loc[superjep_filter ,'show_num'] = [i + 10000 for i in episodes.loc[superjep_filter ,'show_num']]\n",
    "#Make Trebek Pilot show numbers unique\n",
    "pilot_filter = episodes['season']=='trebekpilots'\n",
    "episodes.loc[pilot_filter ,'show_num'] = [i + 20000 for i in episodes.loc[pilot_filter ,'show_num']]"
   ]
  },
  {
   "cell_type": "code",
   "execution_count": 13,
   "metadata": {
    "collapsed": true
   },
   "outputs": [],
   "source": [
    "episodes = episodes[(episodes['season'] != 'superjeopardy') & (episodes['season'] != 'trebekpilots')]"
   ]
  },
  {
   "cell_type": "code",
   "execution_count": 14,
   "metadata": {
    "collapsed": true
   },
   "outputs": [],
   "source": [
    "#filter for seeing if any episodes have contestants with the same first name\n",
    "name_columns = ['c1', 'c2', 'c3',]\n",
    "first_names = [[name.split(' ')[0] for name in \n",
    "                episodes[contestant]] for contestant in \n",
    "               name_columns]\n",
    "same_names = [any(names) for names in \n",
    "              zip(*[np_equal(*name_couple) for name_couple in \n",
    "                    itertools.combinations(first_names, 2)])]"
   ]
  },
  {
   "cell_type": "code",
   "execution_count": 15,
   "metadata": {
    "collapsed": true
   },
   "outputs": [],
   "source": [
    "num_names = [[len(name.split(' ')) for name in episodes[contestant]] for contestant in name_columns]\n",
    "two_name_indices = [i for contestant in num_names for i,x in enumerate(contestant) if x>1]"
   ]
  },
  {
   "cell_type": "code",
   "execution_count": 16,
   "metadata": {
    "collapsed": true
   },
   "outputs": [],
   "source": [
    "#question dataframe (qdf) name corrections\n",
    "qdf_name_changes = {(61, 'c2'): 'Daniel', (62, 'c2'): 'Daniel', (63, 'c1'): 'Daniel', (191, 'c2'): 'Michael',\n",
    "                    (308, 'c1'): 'Paul Croshier', (690, 'c2'): 'Denny', (712, 'c3'): 'Chloe', (789, 'c1'): 'Ernest', \n",
    "                    (789, 'c2'): 'Christine', (804, 'c2'): 'David Javerbaum', (805, 'c2'): 'David Javerbaum', \n",
    "                    (829, 'c1'): 'Arthur', (834, 'c3'): 'Michael', (834, 'c2'): 'Daniel', \n",
    "                    (842, 'c1'): 'Dorothy', (1245, 'c3'): 'Steven', (1246, 'c3'): 'Steven', (1286, 'c3'): 'Mary', \n",
    "                    (1635, 'c1'): 'Vincent', (2574, 'c1'): 'Charles', (2575, 'c3'): 'Thomas', (2926, 'c1'): 'Rob', \n",
    "                    (2929, 'c1'): 'Benjamin',(3023, 'c2'): 'Jimmy', (3124, 'c2'): 'Bob', (3123, 'c2'): 'Bob', \n",
    "                    (3125, 'c2'): 'Bob', (3756, 'c3'): 'Sandra', (3757, 'c3'): 'Benjamin', (3757, 'c1'): 'Anastasia',\n",
    "                    (4520, 'c3'): 'Scott', (4521, 'c1'): 'Scott', (4519, 'c2'): 'Scott', (4522, 'c2'): 'Scott',\n",
    "                    (4523, 'c2'): 'Scott', (4608, 'c3'): 'Scott', (4647, 'c2'): 'Christina', (5097, 'c3'): 'Ozgun',\n",
    "                    (5104, 'c2'): 'Brian', (5110, 'c2'): 'Jacob', (5716, 'c1'): 'Francois',\n",
    "                    (5717, 'c1'): 'Francois', (5718, 'c2'): 'Francois', (5772, 'c2'): 'Debra', (6432, 'c2'): 'Injee',\n",
    "                    (6179, 'c3'): 'Andrew', (6380, 'c2'): 'Thomas', (6934, 'c1'): 'Che', \n",
    "                    (7301, 'c2'): 'Jonathan', (7301, 'c3'): 'S.E.', (7437, 'c2'): 'Rebecca',}"
   ]
  },
  {
   "cell_type": "code",
   "execution_count": 17,
   "metadata": {
    "collapsed": true
   },
   "outputs": [],
   "source": [
    "for key in qdf_name_changes:\n",
    "    episodes.loc[episodes['show_num']==key[0], key[1]] = qdf_name_changes[key]"
   ]
  },
  {
   "cell_type": "code",
   "execution_count": 18,
   "metadata": {
    "collapsed": true
   },
   "outputs": [],
   "source": [
    "for i in range(1,5):\n",
    "    contestants.loc[:,'c{}_add'.format(i)] = 0"
   ]
  },
  {
   "cell_type": "code",
   "execution_count": 19,
   "metadata": {
    "collapsed": true
   },
   "outputs": [],
   "source": [
    "episodes = pd.merge(episodes,\n",
    "                        contestants, \n",
    "                        on='show_num', \n",
    "                        suffixes=['_y',''])"
   ]
  },
  {
   "cell_type": "code",
   "execution_count": 20,
   "metadata": {
    "collapsed": true
   },
   "outputs": [],
   "source": [
    "df2_name_filter = ['c{}_y'.format(i) for i in range(1,4)]\n",
    "df1_name_filter = ['c{}'.format(i) for i in range(1,4)]\n",
    "episode_df2_slice = episodes[df2_name_filter].copy()"
   ]
  },
  {
   "cell_type": "code",
   "execution_count": 21,
   "metadata": {
    "collapsed": true
   },
   "outputs": [],
   "source": [
    "df2_correct_order = [name_order2(list(ep[df2_name_filter].values), list(ep[df1_name_filter].values), i) \n",
    "                     for i,ep in episodes.iterrows()]"
   ]
  },
  {
   "cell_type": "code",
   "execution_count": 22,
   "metadata": {
    "collapsed": true
   },
   "outputs": [],
   "source": [
    "add_columns = ['c{}_add'.format(x) for x in range(1,4)]\n",
    "episodes.loc[:,add_columns] = [[episodes.loc[i,'c{}_add_y'.format(df2_i+1)] for df2_i in order] \n",
    "                               for i,order in enumerate(df2_correct_order)]\n",
    "episodes.drop(['c{}_y'.format(i) for i in range(1,4)], axis=1, inplace=True)\n",
    "episodes.drop(['c{}_add_y'.format(i) for i in range(1,4)], axis=1, inplace=True)"
   ]
  },
  {
   "cell_type": "code",
   "execution_count": 23,
   "metadata": {
    "collapsed": true
   },
   "outputs": [],
   "source": [
    "episodes.to_csv('episode_debugging_df_saved.csv', sep='¤')"
   ]
  },
  {
   "cell_type": "code",
   "execution_count": 93,
   "metadata": {
    "collapsed": true
   },
   "outputs": [],
   "source": [
    "episodes = pd.read_csv('episode_debugging_df_saved.csv', sep='¤', engine='python')\n",
    "episodes.drop('Unnamed: 0', axis=1, inplace=True)\n",
    "episodes.sort_values('show_num', inplace=True)"
   ]
  },
  {
   "cell_type": "code",
   "execution_count": 94,
   "metadata": {
    "collapsed": true
   },
   "outputs": [],
   "source": [
    "episodes['weekday'] = [date.split(',')[0] for date in episodes['date']]"
   ]
  },
  {
   "cell_type": "code",
   "execution_count": 95,
   "metadata": {
    "collapsed": true
   },
   "outputs": [],
   "source": [
    "episodes['date'] = [date.split(',',1)[1] for date in episodes['date']]"
   ]
  },
  {
   "cell_type": "code",
   "execution_count": 96,
   "metadata": {
    "collapsed": true
   },
   "outputs": [],
   "source": [
    "episodes['date'] = pd.to_datetime(episodes['date'])\n",
    "episodes['season'] = pd.to_numeric(episodes['season'])\n",
    "episodes['round'] = pd.Categorical(episodes['round'], ['jeopardy_round', 'double_jeopardy_round', 'final_jeopardy_round'])"
   ]
  },
  {
   "cell_type": "code",
   "execution_count": 97,
   "metadata": {
    "collapsed": true
   },
   "outputs": [],
   "source": [
    "episodes.loc[:, episodes.columns != 'round'] = episodes.loc[:, episodes.columns != 'round'].replace(np.nan, '', regex=True)"
   ]
  },
  {
   "cell_type": "code",
   "execution_count": 102,
   "metadata": {
    "collapsed": true
   },
   "outputs": [],
   "source": [
    "states = ['Alabama', 'Alaska', 'Arizona', 'Arkansas', 'California', \n",
    "          'Colorado', 'Connecticut', 'Delaware', 'District of Columbia', \n",
    "          'Florida', 'Georgia', 'Hawaii', 'Idaho', 'Illinois', 'Indiana', \n",
    "          'Iowa', 'Kansas', 'Kentucky', 'Louisiana', 'Maine', 'Maryland', \n",
    "          'Massachusetts', 'Michigan', 'Minnesota', 'Mississippi', 'Missouri', \n",
    "          'Montana', 'Nebraska', 'Nevada', 'New Hampshire', 'New Jersey', 'New Mexico', \n",
    "          'New York', 'North Carolina', 'North Dakota', 'Ohio', 'Oklahoma', 'Oregon', \n",
    "          'Pennsylvania', 'Rhode Island', 'South Carolina', 'South Dakota', 'Tennessee', \n",
    "          'Texas', 'Utah', 'Vermont', 'Virginia', 'Washington', 'West Virginia', 'Wisconsin', \n",
    "          'Wyoming']"
   ]
  },
  {
   "cell_type": "code",
   "execution_count": 103,
   "metadata": {
    "collapsed": true
   },
   "outputs": [],
   "source": [
    "state_errors = {'Missouri': ['Missiouri',], 'Virginia': ['Vriginia',], 'Kentucky': ['Kenrucky',], \n",
    "               'Illinois': ['Ilinois', 'IL',], 'Massachusetts': ['Masachusetts',], \n",
    "               'California': ['Caifornia',], 'Ohio': ['Onio',], 'New York': ['New Nork',],\n",
    "               'Delaware': ['Deleware',], 'Indiana': ['Indinia',], 'Nevada': ['Nevade',],\n",
    "               'Wyoming': ['Wyoming and Montana',],\n",
    "               }"
   ]
  },
  {
   "cell_type": "code",
   "execution_count": 104,
   "metadata": {
    "collapsed": true
   },
   "outputs": [],
   "source": [
    "for state in state_errors:\n",
    "    for error in state_errors[state]:\n",
    "        episodes.loc[mult_col_search(episodes, ['c{}_loc'.format(i) for i in range(1,4)], error)] = \\\n",
    "        [[string.replace(error, state) for string in question]\n",
    "        for question in episodes.loc[mult_col_search(episodes, ['c{}_loc'.format(i) \n",
    "                                                                for i in range(1,4)], error)].values]"
   ]
  },
  {
   "cell_type": "code",
   "execution_count": 90,
   "metadata": {
    "collapsed": true
   },
   "outputs": [],
   "source": [
    "city_errors = dict(**{',{}'.format(state): state for state in states},\n",
    "                   **{'New York City, New York': 'New York,New York', \n",
    "                      'New York City, New York': 'New York City',\n",
    "                      'Kansas City, Missouri': 'Kansas City',\n",
    "                      ', Texas': 'North Texas', \n",
    "                      ', New York': 'Trinidad and Tobago and now in New York',\n",
    "                      'Easton, Maryland': 'Easton Maryland',\n",
    "                      'Lynn, Massachusetts': 'Lynn Massachusetts',\n",
    "                      })"
   ]
  },
  {
   "cell_type": "code",
   "execution_count": 117,
   "metadata": {
    "collapsed": true
   },
   "outputs": [],
   "source": [
    "for city in city_errors:\n",
    "    episodes.loc[mult_col_search(episodes, ['c{}_loc'.format(i) for i in range(1,4)], \n",
    "                                 city_errors[city], strict=True)] = \\\n",
    "    [[city if string==city_errors[city] else string for string in question]\n",
    "    for question in episodes.loc[mult_col_search(episodes, ['c{}_loc'.format(i) for i in range(1,4)], \n",
    "                                                 city_errors[city], strict=True)].values]"
   ]
  },
  {
   "cell_type": "code",
   "execution_count": 119,
   "metadata": {
    "collapsed": true
   },
   "outputs": [],
   "source": [
    "for i in range(1,4):\n",
    "    episodes['c{}_state'.format(i)] = [loc.split(',')[1].strip() \n",
    "                                       if (has_state(loc) and not any([has_uni(loc),has_the(loc)])) \n",
    "                                       else '' if loc=='' \n",
    "                                       else 'Other'  \n",
    "                                       for loc in episodes['c{}_loc'.format(i)]]"
   ]
  },
  {
   "cell_type": "code",
   "execution_count": 120,
   "metadata": {
    "collapsed": true
   },
   "outputs": [],
   "source": [
    "state_counts = dict(zip(*np.unique(episodes.groupby('show_num').first()[['c{}_state'.format(i) \n",
    "                                                                        for i in range(1,4)]], return_counts=True)))"
   ]
  },
  {
   "cell_type": "code",
   "execution_count": 121,
   "metadata": {
    "collapsed": true,
    "scrolled": false
   },
   "outputs": [],
   "source": [
    "unique_categories = list(zip(*np.unique(np.concatenate(list(episodes.groupby('show_num').category.unique())), return_counts=True)))"
   ]
  },
  {
   "cell_type": "code",
   "execution_count": 122,
   "metadata": {
    "collapsed": true,
    "scrolled": true
   },
   "outputs": [],
   "source": [
    "unique_categories.sort(key=operator.itemgetter(1), reverse=True)"
   ]
  },
  {
   "cell_type": "code",
   "execution_count": 1147,
   "metadata": {
    "collapsed": true
   },
   "outputs": [],
   "source": [
    "#episodes.set_index(['season', 'show_num', 'round'], inplace=True)\n",
    "#episodes.sort_index(inplace=True)"
   ]
  },
  {
   "cell_type": "code",
   "execution_count": 1153,
   "metadata": {
    "collapsed": true
   },
   "outputs": [],
   "source": [
    "#episodes.reset_index(inplace=True)"
   ]
  },
  {
   "cell_type": "code",
   "execution_count": 522,
   "metadata": {
    "collapsed": true
   },
   "outputs": [],
   "source": [
    "#episodes.drop(labels = ['winner', 'winner_locs', 'winner_winnings'], axis=1, inplace=True)"
   ]
  },
  {
   "cell_type": "code",
   "execution_count": 123,
   "metadata": {
    "collapsed": true
   },
   "outputs": [],
   "source": [
    "for i in range(1,5):\n",
    "    episodes['c{}_cumsum'.format(i)] = episodes.groupby('show_num')['c{}_add'.format(i)].transform(pd.Series.cumsum)"
   ]
  },
  {
   "cell_type": "code",
   "execution_count": 124,
   "metadata": {
    "collapsed": true
   },
   "outputs": [],
   "source": [
    "winner = episodes.groupby('show_num').last()[['c1_cumsum','c2_cumsum', 'c3_cumsum']].idxmax(axis=1)"
   ]
  },
  {
   "cell_type": "code",
   "execution_count": 125,
   "metadata": {
    "collapsed": true
   },
   "outputs": [],
   "source": [
    "winner = pd.DataFrame([[i, x[:2]] for i,x in zip(winner.index, winner)], columns = ['show_num', 'winner'])"
   ]
  },
  {
   "cell_type": "code",
   "execution_count": 126,
   "metadata": {
    "collapsed": true
   },
   "outputs": [],
   "source": [
    "winner_winnings = episodes.groupby('show_num').last()[['c1_cumsum','c2_cumsum', 'c3_cumsum']].max(axis=1)"
   ]
  },
  {
   "cell_type": "code",
   "execution_count": 127,
   "metadata": {
    "collapsed": true
   },
   "outputs": [],
   "source": [
    "winner_winnings = pd.DataFrame([[i, x] \n",
    "                                for i,x in zip(winner_winnings.index, winner_winnings)], \n",
    "                               columns = ['show_num', 'winner_winnings'])"
   ]
  },
  {
   "cell_type": "code",
   "execution_count": 128,
   "metadata": {
    "collapsed": true
   },
   "outputs": [],
   "source": [
    "episodes = pd.merge(episodes,\n",
    "                    winner, \n",
    "                    on='show_num', \n",
    "                    suffixes=['','_y'])"
   ]
  },
  {
   "cell_type": "code",
   "execution_count": 129,
   "metadata": {
    "collapsed": true
   },
   "outputs": [],
   "source": [
    "episodes = pd.merge(episodes,\n",
    "                    winner_winnings, \n",
    "                    on='show_num', \n",
    "                    suffixes=['','_y'])"
   ]
  },
  {
   "cell_type": "code",
   "execution_count": 130,
   "metadata": {
    "collapsed": true
   },
   "outputs": [],
   "source": [
    "winner_locs = [episodes[contestant+'_loc'].iloc[i]\n",
    "                 for i, contestant in enumerate(episodes['winner'])]"
   ]
  },
  {
   "cell_type": "code",
   "execution_count": 131,
   "metadata": {
    "collapsed": true
   },
   "outputs": [],
   "source": [
    "episodes['winner_loc'] = winner_locs"
   ]
  },
  {
   "cell_type": "code",
   "execution_count": 132,
   "metadata": {
    "collapsed": true
   },
   "outputs": [],
   "source": [
    "winner_states = [episodes[contestant+'_state'].iloc[i]\n",
    "                 for i, contestant in enumerate(episodes['winner'])]"
   ]
  },
  {
   "cell_type": "code",
   "execution_count": 133,
   "metadata": {
    "collapsed": true
   },
   "outputs": [],
   "source": [
    "winner_name = [episodes[contestant].iloc[i] for i, contestant in enumerate(episodes['winner'])]"
   ]
  },
  {
   "cell_type": "code",
   "execution_count": 134,
   "metadata": {
    "collapsed": true
   },
   "outputs": [],
   "source": [
    "episodes['winner_name'] = winner_name"
   ]
  },
  {
   "cell_type": "code",
   "execution_count": 135,
   "metadata": {
    "collapsed": true
   },
   "outputs": [],
   "source": [
    "episodes['winner_state'] = winner_states"
   ]
  },
  {
   "cell_type": "code",
   "execution_count": 136,
   "metadata": {
    "collapsed": true
   },
   "outputs": [],
   "source": [
    "winner_state_counts = dict(zip(*np.unique(episodes.groupby('show_num').first()['winner_state'], return_counts=True)))"
   ]
  },
  {
   "cell_type": "code",
   "execution_count": 137,
   "metadata": {
    "collapsed": true
   },
   "outputs": [],
   "source": [
    "state_win_percentage = {state: math.floor(winner_state_counts[state]/state_counts[state]*100)/100 for state in state_counts}"
   ]
  },
  {
   "cell_type": "code",
   "execution_count": 138,
   "metadata": {
    "collapsed": true
   },
   "outputs": [],
   "source": [
    "state_winnings = episodes.groupby('show_num')[['winner_state','winner_winnings']].first().groupby('winner_state').mean().to_dict()['winner_winnings']"
   ]
  },
  {
   "cell_type": "code",
   "execution_count": 139,
   "metadata": {
    "collapsed": true
   },
   "outputs": [],
   "source": [
    "state_mean_winnings = {state: math.floor(state_winnings[state]*state_win_percentage[state]) for state in state_winnings}"
   ]
  },
  {
   "cell_type": "code",
   "execution_count": 13,
   "metadata": {
    "collapsed": true
   },
   "outputs": [],
   "source": [
    "sep_states = (episodes['c1_state']!=episodes['c2_state']) &\\\n",
    "            (episodes['c2_state']!=episodes['c3_state']) &\\\n",
    "            (episodes['c2_state']!=episodes['c3_state'])"
   ]
  },
  {
   "cell_type": "code",
   "execution_count": 14,
   "metadata": {
    "collapsed": true
   },
   "outputs": [],
   "source": [
    "two_states = ((episodes['c1_state'] == episodes['c2_state']) & (episodes['c1_state']!=episodes['c3_state'])) |\\\n",
    "            ((episodes['c3_state'] == episodes['c2_state']) & (episodes['c1_state']!=episodes['c3_state'])) |\\\n",
    "            ((episodes['c1_state'] == episodes['c3_state']) & (episodes['c1_state']!=episodes['c2_state']))"
   ]
  },
  {
   "cell_type": "code",
   "execution_count": 25,
   "metadata": {
    "collapsed": true
   },
   "outputs": [],
   "source": [
    "all_states = (episodes['c1_state'] == episodes['c2_state']) & (episodes['c1_state'] == episodes['c3_state'])"
   ]
  },
  {
   "cell_type": "code",
   "execution_count": 26,
   "metadata": {
    "collapsed": true
   },
   "outputs": [],
   "source": [
    "allstate_shownums = episodes[all_states].groupby('show_num', as_index=False).first()['show_num']"
   ]
  },
  {
   "cell_type": "code",
   "execution_count": 17,
   "metadata": {
    "collapsed": true
   },
   "outputs": [],
   "source": [
    "sep_show_nums = episodes[sep_states].groupby('show_num', as_index=False).first()['show_num']"
   ]
  },
  {
   "cell_type": "code",
   "execution_count": 52,
   "metadata": {
    "collapsed": true
   },
   "outputs": [],
   "source": [
    "two_show_nums = pd.concat([episodes.loc[((two_states) & (episodes.loc[two_states, 'c1_state'] == episodes.loc[two_states, 'c2_state']))\\\n",
    "             , ['c1_state', 'show_num']].groupby('show_num', as_index=False).first(),\n",
    "           episodes.loc[((two_states) & (episodes.loc[two_states, 'c1_state'] == episodes.loc[two_states, 'c3_state']))\\\n",
    "             , ['c1_state', 'show_num']].groupby('show_num', as_index=False).first()])\n",
    "two_show_nums.columns = ['show_num', 'c2_state']\n",
    "two_show_nums = pd.concat([two_show_nums, episodes.loc[((two_states) & (episodes.loc[two_states, 'c2_state'] == episodes.loc[two_states, 'c2_state']))\\\n",
    "             , ['c2_state', 'show_num']].groupby('show_num', as_index=False).first()])\n",
    "two_show_nums.columns = ['show_num', 'state']"
   ]
  },
  {
   "cell_type": "code",
   "execution_count": 116,
   "metadata": {
    "collapsed": true
   },
   "outputs": [],
   "source": [
    "sep_states = ((episodes['winner_state']==episodes['c1_state']) &\\\n",
    "              (episodes['winner_state']!=episodes['c2_state']) &\\\n",
    "              (episodes['winner_state']!=episodes['c3_state'])) |\\\n",
    "              ((episodes['winner_state']==episodes['c2_state']) &\\\n",
    "              (episodes['winner_state']!=episodes['c1_state']) &\\\n",
    "              (episodes['winner_state']!=episodes['c3_state'])) |\\\n",
    "              ((episodes['winner_state']==episodes['c3_state']) &\\\n",
    "              (episodes['winner_state']!=episodes['c2_state']) &\\\n",
    "              (episodes['winner_state']!=episodes['c1_state'])) "
   ]
  },
  {
   "cell_type": "code",
   "execution_count": 117,
   "metadata": {
    "collapsed": true
   },
   "outputs": [],
   "source": [
    "sep_show_nums = episodes[sep_states].groupby('show_num', as_index=False).first()['show_num']"
   ]
  },
  {
   "cell_type": "code",
   "execution_count": 141,
   "metadata": {
    "collapsed": true
   },
   "outputs": [],
   "source": [
    "sep_state_count = dict(zip(*np.unique(episodes[sep_states].groupby('show_num').first()[['c{}_state'.format(i) \n",
    "                  for i in range(1,4)]], return_counts=True)))"
   ]
  },
  {
   "cell_type": "code",
   "execution_count": 142,
   "metadata": {
    "collapsed": true
   },
   "outputs": [],
   "source": [
    "winner_sep_state_counts = dict(zip(*np.unique(episodes[sep_states].groupby('show_num').first()['winner_state'], return_counts=True)))"
   ]
  },
  {
   "cell_type": "code",
   "execution_count": 143,
   "metadata": {
    "collapsed": true
   },
   "outputs": [],
   "source": [
    "winner_sep_state_counts = defaultdict(int, winner_sep_state_counts)"
   ]
  },
  {
   "cell_type": "code",
   "execution_count": 144,
   "metadata": {
    "collapsed": true
   },
   "outputs": [],
   "source": [
    "sep_state_win_percentage = {state: math.floor(winner_sep_state_counts[state]/sep_state_count[state]*100)/100 for state in sep_state_count}"
   ]
  },
  {
   "cell_type": "code",
   "execution_count": 82,
   "metadata": {},
   "outputs": [
    {
     "data": {
      "text/plain": [
       "0.35"
      ]
     },
     "execution_count": 82,
     "metadata": {},
     "output_type": "execute_result"
    }
   ],
   "source": [
    "sep_state_win_percentage.pop('', None)\n",
    "sep_state_win_percentage.pop('Other', None)\n",
    "sep_state_win_percentage.pop('D.C.', None)"
   ]
  },
  {
   "cell_type": "code",
   "execution_count": 85,
   "metadata": {
    "collapsed": true
   },
   "outputs": [],
   "source": [
    "\"\"\"Taken from https://gist.githubusercontent.com/meiqimichelle/7727723/raw/0109432d22f28fd1a669a3fd113e41c4193dbb5d/USstates_avg_latLong\"\"\"\n",
    "longs_and_lats = pd.read_json('longs_and_lats.json')"
   ]
  },
  {
   "cell_type": "code",
   "execution_count": 89,
   "metadata": {
    "collapsed": true
   },
   "outputs": [],
   "source": [
    "pd.merge(longs_and_lats, pd.DataFrame(list(sep_state_win_percentage.items()), columns=['state', 'rate'])).to_csv('state_win_rates.csv')"
   ]
  },
  {
   "cell_type": "code",
   "execution_count": 84,
   "metadata": {
    "collapsed": true
   },
   "outputs": [],
   "source": [
    "pd.DataFrame(list(sep_state_win_percentage.items()), columns=['state', 'rate']).to_csv('state_win_rates.csv')"
   ]
  },
  {
   "cell_type": "code",
   "execution_count": 73,
   "metadata": {},
   "outputs": [
    {
     "data": {
      "image/png": "[encoded data removed]",
      "text/plain": [
       "<matplotlib.figure.Figure at 0x10fbebe10>"
      ]
     },
     "metadata": {},
     "output_type": "display_data"
    }
   ],
   "source": [
    "plt.hist(pd.DataFrame(list(state_win_percentage.items())[1:])[1], bins=15);"
   ]
  },
  {
   "cell_type": "code",
   "execution_count": 153,
   "metadata": {
    "collapsed": true
   },
   "outputs": [],
   "source": [
    "!mv episode_df_saved.csv episode_df_saved_backup.csv\n",
    "episodes.to_csv('episode_df_saved.csv', sep='¤')\n",
    "!rm episode_df_saved_backup.csv"
   ]
  },
  {
   "cell_type": "code",
   "execution_count": 152,
   "metadata": {
    "collapsed": true
   },
   "outputs": [],
   "source": [
    "episodes = episodes.loc[:,['season', 'show_num', 'date', 'weekday',\n",
    "                          'comments', 'question_num','round',\n",
    "                          'category', 'difficulty', 'question', 'answer', 'DD', \n",
    "                          'c1', 'c1_add', 'c1_cumsum', 'c1_job', 'c1_loc', 'c1_state',\n",
    "                          'c2', 'c2_add', 'c2_cumsum', 'c2_job', 'c2_loc', 'c2_state',\n",
    "                          'c3', 'c3_add', 'c3_cumsum', 'c3_job', 'c3_loc', 'c3_state',\n",
    "                          'winner', 'winner_loc', 'winner_state', 'winner_winnings']]"
   ]
  },
  {
   "cell_type": "code",
   "execution_count": 155,
   "metadata": {
    "collapsed": true
   },
   "outputs": [],
   "source": [
    "unique_jobs = list(zip(*np.unique([x.replace(', ', ',') \n",
    "                                   for x in \n",
    "                                   episodes.groupby('show_num')[['c1_job', 'c2_job',\n",
    "                                                                 'c3_job']].first().values.ravel('K')], \n",
    "                                  return_counts=True)))"
   ]
  },
  {
   "cell_type": "code",
   "execution_count": 156,
   "metadata": {
    "collapsed": true
   },
   "outputs": [],
   "source": [
    "unique_jobs.sort(key=operator.itemgetter(1), reverse=True)"
   ]
  },
  {
   "cell_type": "code",
   "execution_count": 157,
   "metadata": {
    "collapsed": true
   },
   "outputs": [],
   "source": [
    "job_types = {('education_job', 1): ['student', 'teacher', 'professor', 'phd', 'ph.d.', 'freshman', 'junior$', \n",
    "                                  'sophomore', 'senior$', 'librarian', 'university', 'college', 'tutor', 'educat'],\n",
    "             ('management_job', 2): ['manag', 'executive', 'director', 'producer', 'owner', 'president', 'supervisor'],\n",
    "             ('legal_job', 3): ['law', 'legal', 'attorney', 'prosecut', 'litigat', 'legislat', 'defender'],\n",
    "             ('analyst_job', 4): ['analyst', 'underwriter', 'actuary', 'supply chain', 'accountant', \n",
    "                                'consultant', 'econom', 'data'],\n",
    "             ('writing_job', 5): [r'(?<!under)writer', 'author', 'editor', 'journalist', 'newspaper', 'novel'],\n",
    "             ('computer_job', 6): ['software', 'web', 'network', r'^it ', r'^i.t.', 'computer', 'programmer'],\n",
    "             ('medical_job', 7): ['physician', 'doctor', 'pharmac', 'nurse', 'veterin', 'pediat',\n",
    "                                  'psychiatr', 'psycholog', 'medic', 'health', 'cardiol',\n",
    "                                  'dietician', 'surge'],\n",
    "             ('homemaker', 8): ['homemaker', 'stay-at-home', 'housewife'],\n",
    "             ('kid', 9): ['year-old', 'grader'],\n",
    "             ('service_job',10): ['assistant', 'bartender', 'bookseller', 'social work', 'waiter', 'waitress',\n",
    "                                  'secretary', 'sales', 'service', 'attend'],\n",
    "             ('science_job', 11): ['research', 'scien', 'astronomer', r'(?<!psycho)logist', 'engineer'],\n",
    "             ('creative_job', 12): ['chef', 'act', 'composer', 'graphic', 'design', 'art', 'culinary', \n",
    "                                     'music', 'architect',],\n",
    "             ('government_job', 13): ['firefighter', 'officer', 'letter carrier', 'mail', 'government'],\n",
    "             ('religious_job', 14): ['pastor', r'^minist', ' minist', 'priest',],\n",
    "             ('real_estate', 15): ['realt', 'real estate']\n",
    "             }"
   ]
  },
  {
   "cell_type": "code",
   "execution_count": 158,
   "metadata": {
    "collapsed": true
   },
   "outputs": [],
   "source": [
    "def assign_job_category(jobs: List[Tuple[str, int]], job_cats: Dict[str, List[str]]) -> Dict[str, str]:\n",
    "    '''Given a dict with job category key words and relevant substring list values, match each unique job\n",
    "    to a category'''\n",
    "    jobs = jobs.copy()\n",
    "    job_dict = {}\n",
    "    for key in sorted(list(job_cats.keys()),key=lambda x: x[1]):\n",
    "        job_match = [any(re.search(word, j[0].lower()) for word in job_cats[key]) for j in jobs]\n",
    "        job_dict.update({j[0]: key[0] for i,j in enumerate(jobs) if job_match[i]})\n",
    "        jobs = [j for i,j in enumerate(jobs) if not job_match[i]]\n",
    "    job_dict.update({j[0]: 'Other' for j in jobs if j[0] != ''})\n",
    "    job_dict.update({j[0]: '' for j in jobs if j[0] == ''})\n",
    "    return job_dict"
   ]
  },
  {
   "cell_type": "code",
   "execution_count": 159,
   "metadata": {
    "collapsed": true
   },
   "outputs": [],
   "source": [
    "job_cat_dict = assign_job_category(unique_jobs, job_types)"
   ]
  },
  {
   "cell_type": "code",
   "execution_count": 160,
   "metadata": {
    "collapsed": true
   },
   "outputs": [],
   "source": [
    "for i in range(1,4):\n",
    "    episodes['c{}_job_category'.format(i)] = [job_cat_dict[job.replace(', ', ',')] for job in episodes['c{}_job'.format(i)]]"
   ]
  },
  {
   "cell_type": "code",
   "execution_count": 161,
   "metadata": {
    "collapsed": true
   },
   "outputs": [],
   "source": [
    "for i in range(1,4):\n",
    "    episodes['c{}_answer'.format(i)] = ['right' if value>0 else 'wrong' if value<0 else 'neither' \n",
    "                                        for value in episodes['c{}_add'.format(i)]]"
   ]
  },
  {
   "cell_type": "code",
   "execution_count": 162,
   "metadata": {
    "collapsed": true
   },
   "outputs": [],
   "source": [
    "episodes['winner_job_category'] = [episodes.loc[i,winner+'_job_category'] for i, winner in enumerate(episodes['winner'])]"
   ]
  },
  {
   "cell_type": "code",
   "execution_count": 163,
   "metadata": {
    "collapsed": true
   },
   "outputs": [],
   "source": [
    "job_category_win_counts = episodes['show_num'].groupby(episodes['show_num']).first()\\\n",
    ".groupby(episodes['winner_job_category']).count().reset_index(name='count')"
   ]
  },
  {
   "cell_type": "code",
   "execution_count": 164,
   "metadata": {
    "collapsed": true
   },
   "outputs": [],
   "source": [
    "job_category_counts = pd.DataFrame(list(zip(*np.unique(episodes[['c{}_job_category'.format(i) \n",
    "                                                    for i in range(1,4)]].groupby(episodes['show_num']).first().values.ravel('K'),\n",
    "                                          return_counts=True))), columns = ('job_category', 'count'))"
   ]
  },
  {
   "cell_type": "code",
   "execution_count": 165,
   "metadata": {
    "collapsed": true
   },
   "outputs": [],
   "source": [
    "job_cat_counts = pd.merge(job_category_counts, job_category_win_counts, left_on='job_category', right_on='winner_job_category',\n",
    "        suffixes=['', '_win']).drop('winner_job_category', axis=1)"
   ]
  },
  {
   "cell_type": "code",
   "execution_count": 166,
   "metadata": {
    "collapsed": true
   },
   "outputs": [],
   "source": [
    "job_cat_counts['percentage'] = job_cat_counts.count_win/job_cat_counts['count']"
   ]
  },
  {
   "cell_type": "code",
   "execution_count": 167,
   "metadata": {
    "collapsed": true
   },
   "outputs": [],
   "source": [
    "#Calculations to get how many right/wrong/neither answers each contestant had per show\n",
    "contestant_num_right = pd.melt(episodes[['show_num'] + ['c{}_answer'.format(i) for i in range(1,4)]], id_vars='show_num', var_name='contestant',\n",
    "       value_name='answer').reset_index().groupby(['show_num', 'contestant', 'answer']).count()"
   ]
  },
  {
   "cell_type": "code",
   "execution_count": 168,
   "metadata": {
    "collapsed": true
   },
   "outputs": [],
   "source": [
    "contestant_percent_right = contestant_num_right.groupby(level=[0,1]).apply(lambda x: x / x.sum()).unstack().unstack()"
   ]
  },
  {
   "cell_type": "code",
   "execution_count": 169,
   "metadata": {
    "collapsed": true
   },
   "outputs": [],
   "source": [
    "contestant_percent_right.columns = [col[2].split('_')[0] + '_' + col[1] \n",
    "                                    for col in contestant_percent_right.columns.values]"
   ]
  },
  {
   "cell_type": "code",
   "execution_count": 170,
   "metadata": {
    "collapsed": true
   },
   "outputs": [],
   "source": [
    "contestant_percent_right = contestant_percent_right.reset_index()"
   ]
  },
  {
   "cell_type": "code",
   "execution_count": 171,
   "metadata": {
    "collapsed": true,
    "scrolled": true
   },
   "outputs": [],
   "source": [
    "episodes = pd.merge(episodes,\n",
    "                    contestant_percent_right, \n",
    "                    on='show_num', \n",
    "                    suffixes=['','_y'])"
   ]
  },
  {
   "cell_type": "code",
   "execution_count": 172,
   "metadata": {
    "collapsed": true
   },
   "outputs": [],
   "source": [
    "episodes.loc[:,['c{}_neither'.format(i) for i in range(1,4)] + \\\n",
    "         ['c{}_right'.format(i) for i in range(1,4)] + \\\n",
    "         ['c{}_wrong'.format(i) for i in range(1,4)]] = \\\n",
    "episodes.loc[:,['c{}_neither'.format(i) for i in range(1,4)] + \\\n",
    "         ['c{}_right'.format(i) for i in range(1,4)] + \\\n",
    "         ['c{}_wrong'.format(i) for i in range(1,4)]].replace('', np.nan, regex=True)\n",
    "episodes.loc[:,['c{}_neither'.format(i) for i in range(1,4)] + \\\n",
    "         ['c{}_right'.format(i) for i in range(1,4)] + \\\n",
    "         ['c{}_wrong'.format(i) for i in range(1,4)]] = \\\n",
    "episodes.loc[:,['c{}_neither'.format(i) for i in range(1,4)] + \\\n",
    "         ['c{}_right'.format(i) for i in range(1,4)] + \\\n",
    "         ['c{}_wrong'.format(i) for i in range(1,4)]].fillna(0)"
   ]
  },
  {
   "cell_type": "code",
   "execution_count": null,
   "metadata": {
    "collapsed": true
   },
   "outputs": [],
   "source": [
    "#This next section is focusing on me actually just working with a stacked dataframe instead of trying to finagle\n",
    "#my way around the wide dataframe with c1,c2,c3 etc. My fears of a triply long dataframe have been overcome by my\n",
    "#annoyance over this issue"
   ]
  },
  {
   "cell_type": "code",
   "execution_count": 174,
   "metadata": {
    "collapsed": true
   },
   "outputs": [],
   "source": [
    "prestack = episodes.copy().groupby('show_num')[[x for x in episodes.columns if re.search(r'c\\d', x)]].first()"
   ]
  },
  {
   "cell_type": "code",
   "execution_count": 173,
   "metadata": {
    "collapsed": true
   },
   "outputs": [],
   "source": [
    "!mv episode_df_saved.csv episode_df_saved_backup.csv\n",
    "episodes.to_csv('episode_df_saved.csv', sep='¤')\n",
    "!rm episode_df_saved_backup.csv"
   ]
  },
  {
   "cell_type": "code",
   "execution_count": 3,
   "metadata": {
    "collapsed": true
   },
   "outputs": [],
   "source": [
    "episodes = pd.read_csv('episode_df_saved.csv', sep='¤', engine='python')\n",
    "episodes.drop('Unnamed: 0', axis=1, inplace=True)"
   ]
  },
  {
   "cell_type": "code",
   "execution_count": 4,
   "metadata": {
    "collapsed": true
   },
   "outputs": [],
   "source": [
    "episodes.fillna('', inplace=True)"
   ]
  },
  {
   "cell_type": "code",
   "execution_count": 5,
   "metadata": {
    "collapsed": true
   },
   "outputs": [],
   "source": [
    "episodes['date'] = pd.to_datetime(episodes['date'])"
   ]
  },
  {
   "cell_type": "code",
   "execution_count": 42,
   "metadata": {},
   "outputs": [
    {
     "data": {
      "text/plain": [
       "'yellow'"
      ]
     },
     "execution_count": 42,
     "metadata": {},
     "output_type": "execute_result"
    }
   ],
   "source": [
    "episodes[episodes['category']=='CHINESE HISTORY']['answer'].iloc[0]"
   ]
  },
  {
   "cell_type": "code",
   "execution_count": 13,
   "metadata": {
    "collapsed": true
   },
   "outputs": [],
   "source": [
    "season_count = episodes['season'].unique().shape[0]"
   ]
  },
  {
   "cell_type": "code",
   "execution_count": 14,
   "metadata": {
    "collapsed": true
   },
   "outputs": [],
   "source": [
    "clue_count = defaultdict(lambda : [0]*season_count)"
   ]
  },
  {
   "cell_type": "code",
   "execution_count": 15,
   "metadata": {
    "collapsed": true
   },
   "outputs": [],
   "source": [
    "answer_count = defaultdict(lambda : [0]*season_count)\n",
    "phrase_count = defaultdict(lambda : [0]*season_count)"
   ]
  },
  {
   "cell_type": "code",
   "execution_count": 16,
   "metadata": {
    "collapsed": true
   },
   "outputs": [],
   "source": [
    "stopWords = set(stopwords.words('english'))\n",
    "stopWords.update([\"''\", \"``\", \"'s\"] + [x for x in ',():;&%$#@!0987654321[]\\/?><.~'])\n",
    "for season in range(1,season_count+1):\n",
    "    for _,ep in episodes[episodes['season']==season].iterrows():\n",
    "        for token in set(word_tokenize(ep['question'])): #needs to be set because counting clue appearance only\n",
    "            if not token.lower() in stopWords:\n",
    "                clue_count[token.lower()][season-1] += 1"
   ]
  },
  {
   "cell_type": "code",
   "execution_count": 98,
   "metadata": {
    "collapsed": true
   },
   "outputs": [],
   "source": [
    "for season in range(1,season_count+1):\n",
    "    for i,ep in episodes[episodes['season']==season].iterrows():\n",
    "        for token in word_tokenize(ep['answer']):\n",
    "            if not token.lower() in stopWords:\n",
    "                answer_count[token.lower()][season-1] += 1"
   ]
  },
  {
   "cell_type": "code",
   "execution_count": 106,
   "metadata": {
    "collapsed": true
   },
   "outputs": [],
   "source": [
    "for season in range(1,season_count+1):\n",
    "    for i,ep in episodes[episodes['season']==season].iterrows():\n",
    "        answer_count[ep['answer']][season-1] += 1"
   ]
  },
  {
   "cell_type": "code",
   "execution_count": 17,
   "metadata": {
    "collapsed": true
   },
   "outputs": [],
   "source": [
    "season_clue_words = [sum(word[i] for word in list(clue_count.values())) for i in range(0,season_count)]\n",
    "#season_answer_words = [sum(word[i] for word in list(answer_count.values())) for i in range(0,season_count)]\n",
    "#season_phrase_words = [sum(word[i] for word in list(phrase_count.values())) for i in range(0,season_count)]"
   ]
  },
  {
   "cell_type": "code",
   "execution_count": 18,
   "metadata": {
    "collapsed": true
   },
   "outputs": [],
   "source": [
    "season_clue_count = episodes.groupby('season')['question'].count().values"
   ]
  },
  {
   "cell_type": "code",
   "execution_count": 18,
   "metadata": {
    "collapsed": true
   },
   "outputs": [],
   "source": [
    "question_word_count = [len(question.split(' ')) for question in episodes['question']]"
   ]
  },
  {
   "cell_type": "code",
   "execution_count": 19,
   "metadata": {
    "collapsed": true
   },
   "outputs": [],
   "source": [
    "word_frequency = {word: [count/season_total \n",
    "                         for count, season_total \n",
    "                         in zip(counts, season_clue_count)]\n",
    "                 for word, counts in clue_count.items()}"
   ]
  },
  {
   "cell_type": "code",
   "execution_count": 20,
   "metadata": {
    "collapsed": true
   },
   "outputs": [],
   "source": [
    "word_list = ['trump', 'obama', 'internet', 'one', 'crew', 'internet', 'texting']\n",
    "word_list_df = pd.DataFrame(index=np.arange(0, len(word_list)), \n",
    "                            columns = ['word'] + \\\n",
    "                            ['season{}'.format(i) for i in range(1,season_count+1)] + \\\n",
    "                            ['season{}_total'.format(i) for i in range(1,season_count+1)])\n",
    "for i, word in enumerate(word_list):\n",
    "    word_list_df.loc[i] = [word] + [count for count in clue_count[word]] + list(season_clue_count)"
   ]
  },
  {
   "cell_type": "code",
   "execution_count": 21,
   "metadata": {
    "collapsed": true
   },
   "outputs": [],
   "source": [
    "word_list_df.to_csv('clue_word_list.csv')"
   ]
  },
  {
   "cell_type": "code",
   "execution_count": 34,
   "metadata": {
    "collapsed": true
   },
   "outputs": [],
   "source": [
    "episodes['question_word_count'] = question_word_count"
   ]
  },
  {
   "cell_type": "code",
   "execution_count": 169,
   "metadata": {
    "collapsed": true
   },
   "outputs": [],
   "source": [
    "#For popular word section\n",
    "pd.DataFrame([(i+1, count) for i,count in enumerate(season_clue_count)], \n",
    "             columns=['season', 'count']).to_csv('season_word_count.csv', index=False)\n",
    "\n",
    "season_timeframes = pd.DataFrame()\n",
    "season_timeframes['season'] = episodes.copy().groupby('season').first()['date'].index\n",
    "season_timeframes['start_date'] = episodes.copy().groupby('season').first()['date'].values\n",
    "season_timeframes['end_date'] = episodes.copy().groupby('season').last()['date'].values\n",
    "season_timeframes.to_csv('season_timeframes.csv', index=False)"
   ]
  },
  {
   "cell_type": "code",
   "execution_count": 101,
   "metadata": {
    "collapsed": true
   },
   "outputs": [],
   "source": [
    "biggest_spikes = word_increases(word_frequency, end_step_size=33)[0:250]"
   ]
  },
  {
   "cell_type": "code",
   "execution_count": 153,
   "metadata": {
    "collapsed": true
   },
   "outputs": [],
   "source": [
    "word_totals = {word: np.sum(count)/ for word, count in word_frequency.items()}"
   ]
  },
  {
   "cell_type": "code",
   "execution_count": 70,
   "metadata": {},
   "outputs": [
    {
     "data": {
      "text/plain": [
       "[7]"
      ]
     },
     "execution_count": 70,
     "metadata": {},
     "output_type": "execute_result"
    }
   ],
   "source": [
    "[i+1 for i,freq in enumerate(word_frequency['trumpeter']) if freq*10000>6]"
   ]
  },
  {
   "cell_type": "code",
   "execution_count": null,
   "metadata": {
    "collapsed": true
   },
   "outputs": [],
   "source": [
    "[category for category in episodes[episodes['season']==21]['category'].unique()]"
   ]
  },
  {
   "cell_type": "code",
   "execution_count": 80,
   "metadata": {},
   "outputs": [
    {
     "data": {
      "text/plain": [
       "['BUSINESS',\n",
       " 'NONFICTION',\n",
       " 'MANHATTAN NEIGHBORHOODS',\n",
       " 'KIDDIE LIT',\n",
       " 'TUXEDO JUNCTION',\n",
       " 'BOOK TITLES',\n",
       " 'DONALD TRUMP']"
      ]
     },
     "execution_count": 80,
     "metadata": {},
     "output_type": "execute_result"
    }
   ],
   "source": [
    "[category for category in episodes[episodes['season']==21]['category'].unique()\n",
    " if any('Trump' in question \n",
    "        for question in episodes[(episodes['season']==21) & (episodes['category']==category)]['question'])]"
   ]
  },
  {
   "cell_type": "code",
   "execution_count": 67,
   "metadata": {
    "collapsed": true
   },
   "outputs": [],
   "source": [
    "biggest_clue_spikes = biggest_spikes[0:1000]\n",
    "del biggest_spikes"
   ]
  },
  {
   "cell_type": "code",
   "execution_count": 178,
   "metadata": {
    "collapsed": true
   },
   "outputs": [],
   "source": [
    "values = [('name', ['c{}'.format(i) for i in range(1,4)]),\n",
    "          ('add', ['c{}_add'.format(i) for i in range(1,4)]),\n",
    "          ('cumsum', ['c{}_cumsum'.format(i) for i in range(1,4)]),\n",
    "          ('job', ['c{}_job'.format(i) for i in range(1,4)]),\n",
    "          ('loc', ['c{}_loc'.format(i) for i in range(1,4)]),\n",
    "          ('state', ['c{}_state'.format(i) for i in range(1,4)]),\n",
    "          ('job_category', ['c{}_job_category'.format(i) for i in range(1,4)]),\n",
    "          ('answered', ['c{}_answer'.format(i) for i in range(1,4)]),\n",
    "          ('percent_right', ['c{}_right'.format(i) for i in range(1,4)]),\n",
    "          ('percent_wrong', ['c{}_wrong'.format(i) for i in range(1,4)]),\n",
    "          ('percent_neither', ['c{}_neither'.format(i) for i in range(1,4)])]"
   ]
  },
  {
   "cell_type": "code",
   "execution_count": 179,
   "metadata": {
    "collapsed": true
   },
   "outputs": [],
   "source": [
    "melted_dataframes = [pd.melt(episodes.copy(), \n",
    "                id_vars=[x for x in episodes.columns if not re.search(r'c\\d', x)], \n",
    "                value_vars=val[1], var_name='contestant', \n",
    "                value_name=val[0]) for val in values]"
   ]
  },
  {
   "cell_type": "code",
   "execution_count": 180,
   "metadata": {
    "collapsed": true
   },
   "outputs": [],
   "source": [
    "for df in melted_dataframes:\n",
    "    df['contestant'] = df.contestant.str.slice(0,2)"
   ]
  },
  {
   "cell_type": "code",
   "execution_count": 181,
   "metadata": {
    "collapsed": true
   },
   "outputs": [],
   "source": [
    "stacked_eps = reduce(lambda left,right: pd.merge(left,right,on=['contestant'] + \\\n",
    "                                                 [x for x in episodes.columns \n",
    "                                                  if not re.search(r'c\\d', x)]), melted_dataframes)"
   ]
  },
  {
   "cell_type": "code",
   "execution_count": 182,
   "metadata": {
    "collapsed": true
   },
   "outputs": [],
   "source": [
    "stacked_eps['percent_attempted_correct'] = \\\n",
    "stacked_eps['percent_right'] / (stacked_eps['percent_right'] + stacked_eps['percent_wrong'])"
   ]
  },
  {
   "cell_type": "code",
   "execution_count": 183,
   "metadata": {
    "collapsed": true
   },
   "outputs": [],
   "source": [
    "fj_diffs = stacked_eps.groupby(['show_num', 'contestant']).nth(-1)['add']"
   ]
  },
  {
   "cell_type": "code",
   "execution_count": 184,
   "metadata": {
    "collapsed": true
   },
   "outputs": [],
   "source": [
    "before_fj_score = stacked_eps.groupby(['show_num', 'contestant']).nth(-2)['cumsum']"
   ]
  },
  {
   "cell_type": "code",
   "execution_count": 185,
   "metadata": {
    "collapsed": true
   },
   "outputs": [],
   "source": [
    "stacked_eps = pd.merge(stacked_eps, \n",
    "                       pd.DataFrame(abs(fj_diffs/before_fj_score), \n",
    "                                    columns=['fj_wager_percentage']).reset_index().replace(np.inf, 0).replace(-np.inf,0), \n",
    "                       on=['show_num', 'contestant'])"
   ]
  },
  {
   "cell_type": "code",
   "execution_count": 186,
   "metadata": {
    "collapsed": true
   },
   "outputs": [],
   "source": [
    "stacked_eps['date'] = pd.to_datetime(stacked_eps['date'])"
   ]
  },
  {
   "cell_type": "code",
   "execution_count": 187,
   "metadata": {
    "collapsed": true
   },
   "outputs": [],
   "source": [
    "stacked_eps['DD1'] = False #Round 1 Daily Double\n",
    "stacked_eps['DD2'] = False #Double Jeopardy First Daily Double\n",
    "stacked_eps['DD3'] = False #Double Jeopardy Second Daily Double"
   ]
  },
  {
   "cell_type": "code",
   "execution_count": 188,
   "metadata": {
    "collapsed": true
   },
   "outputs": [],
   "source": [
    "stacked_eps.loc[(stacked_eps['DD']) & \\\n",
    "            (stacked_eps['round']=='jeopardy_round'),'DD1'] = True"
   ]
  },
  {
   "cell_type": "code",
   "execution_count": 189,
   "metadata": {
    "collapsed": true
   },
   "outputs": [],
   "source": [
    "DD2 = stacked_eps.copy()[(stacked_eps['DD']) & \\\n",
    "            (stacked_eps['round']=='double_jeopardy_round')]\\\n",
    ".sort_values(by=['show_num', 'question_num']).groupby('show_num', as_index=False, sort=False)\\\n",
    "['question_num',].first()"
   ]
  },
  {
   "cell_type": "code",
   "execution_count": 190,
   "metadata": {
    "collapsed": true
   },
   "outputs": [],
   "source": [
    "DD2_index = DD2.set_index(['show_num', 'question_num']).index\n",
    "whole_index = stacked_eps.set_index(['show_num', 'question_num']).index"
   ]
  },
  {
   "cell_type": "code",
   "execution_count": 191,
   "metadata": {
    "collapsed": true
   },
   "outputs": [],
   "source": [
    "stacked_eps.loc[whole_index.isin(DD2_index),'DD2'] = True"
   ]
  },
  {
   "cell_type": "code",
   "execution_count": 192,
   "metadata": {
    "collapsed": true
   },
   "outputs": [],
   "source": [
    "DD3 = stacked_eps.copy()[(stacked_eps['DD']) & \\\n",
    "            (stacked_eps['round']=='double_jeopardy_round')]\\\n",
    ".sort_values(by=['show_num', 'question_num']).groupby('show_num', as_index=False, sort=False)\\\n",
    "[['question_num',]].last()"
   ]
  },
  {
   "cell_type": "code",
   "execution_count": 193,
   "metadata": {
    "collapsed": true
   },
   "outputs": [],
   "source": [
    "DD3_index = DD3.set_index(['show_num', 'question_num',]).index"
   ]
  },
  {
   "cell_type": "code",
   "execution_count": 194,
   "metadata": {
    "collapsed": true
   },
   "outputs": [],
   "source": [
    "stacked_eps.loc[(whole_index.isin(DD3_index)) & (~whole_index.isin(DD2_index)), 'DD3'] = True"
   ]
  },
  {
   "cell_type": "code",
   "execution_count": 195,
   "metadata": {
    "collapsed": true
   },
   "outputs": [],
   "source": [
    "for i in range(1,4):\n",
    "    stacked_eps['DD{}_answered'.format(i)] = False\n",
    "    DD_index = stacked_eps.loc[(stacked_eps['DD{}'.format(i)]) & \\\n",
    "                                (stacked_eps['answered']!='neither'),\n",
    "                                ['show_num', 'contestant']]\\\n",
    "                          .set_index(['show_num', 'contestant']).index\n",
    "    whole_index = stacked_eps.set_index(['show_num', 'contestant']).index\n",
    "    stacked_eps.loc[whole_index.isin(DD_index),'DD{}_answered'.format(i)] = True "
   ]
  },
  {
   "cell_type": "code",
   "execution_count": 196,
   "metadata": {
    "collapsed": true
   },
   "outputs": [],
   "source": [
    "stacked_eps['winner'] = stacked_eps['winner']==stacked_eps['contestant']"
   ]
  },
  {
   "cell_type": "code",
   "execution_count": 324,
   "metadata": {},
   "outputs": [
    {
     "data": {
      "text/html": [
       "<div>\n",
       "<table border=\"1\" class=\"dataframe\">\n",
       "  <thead>\n",
       "    <tr style=\"text-align: right;\">\n",
       "      <th></th>\n",
       "      <th></th>\n",
       "      <th>season</th>\n",
       "      <th>date</th>\n",
       "      <th>weekday</th>\n",
       "      <th>comments</th>\n",
       "      <th>question_num</th>\n",
       "      <th>round</th>\n",
       "      <th>category</th>\n",
       "      <th>difficulty</th>\n",
       "      <th>question</th>\n",
       "      <th>answer</th>\n",
       "      <th>...</th>\n",
       "      <th>percent_wrong</th>\n",
       "      <th>percent_neither</th>\n",
       "      <th>percent_attempted_correct</th>\n",
       "      <th>fj_wager_percentage</th>\n",
       "      <th>DD1</th>\n",
       "      <th>DD2</th>\n",
       "      <th>DD3</th>\n",
       "      <th>DD1_answered</th>\n",
       "      <th>DD2_answered</th>\n",
       "      <th>DD3_answered</th>\n",
       "    </tr>\n",
       "    <tr>\n",
       "      <th>winner</th>\n",
       "      <th>answered</th>\n",
       "      <th></th>\n",
       "      <th></th>\n",
       "      <th></th>\n",
       "      <th></th>\n",
       "      <th></th>\n",
       "      <th></th>\n",
       "      <th></th>\n",
       "      <th></th>\n",
       "      <th></th>\n",
       "      <th></th>\n",
       "      <th></th>\n",
       "      <th></th>\n",
       "      <th></th>\n",
       "      <th></th>\n",
       "      <th></th>\n",
       "      <th></th>\n",
       "      <th></th>\n",
       "      <th></th>\n",
       "      <th></th>\n",
       "      <th></th>\n",
       "      <th></th>\n",
       "    </tr>\n",
       "  </thead>\n",
       "  <tbody>\n",
       "    <tr>\n",
       "      <th rowspan=\"2\" valign=\"top\">False</th>\n",
       "      <th>right</th>\n",
       "      <td>0.587879</td>\n",
       "      <td>0.587879</td>\n",
       "      <td>0.587879</td>\n",
       "      <td>0.570093</td>\n",
       "      <td>0.587879</td>\n",
       "      <td>0.587879</td>\n",
       "      <td>0.587879</td>\n",
       "      <td>0.587879</td>\n",
       "      <td>0.587879</td>\n",
       "      <td>0.587879</td>\n",
       "      <td>...</td>\n",
       "      <td>0.587879</td>\n",
       "      <td>0.587879</td>\n",
       "      <td>0.587879</td>\n",
       "      <td>0.589041</td>\n",
       "      <td>0.587879</td>\n",
       "      <td>0.587879</td>\n",
       "      <td>0.587879</td>\n",
       "      <td>0.587879</td>\n",
       "      <td>0.587879</td>\n",
       "      <td>0.587879</td>\n",
       "    </tr>\n",
       "    <tr>\n",
       "      <th>wrong</th>\n",
       "      <td>0.552288</td>\n",
       "      <td>0.552288</td>\n",
       "      <td>0.552288</td>\n",
       "      <td>0.528846</td>\n",
       "      <td>0.552288</td>\n",
       "      <td>0.552288</td>\n",
       "      <td>0.552288</td>\n",
       "      <td>0.552288</td>\n",
       "      <td>0.552288</td>\n",
       "      <td>0.552288</td>\n",
       "      <td>...</td>\n",
       "      <td>0.552288</td>\n",
       "      <td>0.552288</td>\n",
       "      <td>0.552288</td>\n",
       "      <td>0.551724</td>\n",
       "      <td>0.552288</td>\n",
       "      <td>0.552288</td>\n",
       "      <td>0.552288</td>\n",
       "      <td>0.552288</td>\n",
       "      <td>0.552288</td>\n",
       "      <td>0.552288</td>\n",
       "    </tr>\n",
       "    <tr>\n",
       "      <th rowspan=\"2\" valign=\"top\">True</th>\n",
       "      <th>right</th>\n",
       "      <td>0.742126</td>\n",
       "      <td>0.742126</td>\n",
       "      <td>0.742126</td>\n",
       "      <td>0.771984</td>\n",
       "      <td>0.742126</td>\n",
       "      <td>0.742126</td>\n",
       "      <td>0.742126</td>\n",
       "      <td>0.742126</td>\n",
       "      <td>0.742126</td>\n",
       "      <td>0.742126</td>\n",
       "      <td>...</td>\n",
       "      <td>0.742126</td>\n",
       "      <td>0.742126</td>\n",
       "      <td>0.742126</td>\n",
       "      <td>0.742126</td>\n",
       "      <td>0.742126</td>\n",
       "      <td>0.742126</td>\n",
       "      <td>0.742126</td>\n",
       "      <td>0.742126</td>\n",
       "      <td>0.742126</td>\n",
       "      <td>0.742126</td>\n",
       "    </tr>\n",
       "    <tr>\n",
       "      <th>wrong</th>\n",
       "      <td>0.442006</td>\n",
       "      <td>0.442006</td>\n",
       "      <td>0.442006</td>\n",
       "      <td>0.433515</td>\n",
       "      <td>0.442006</td>\n",
       "      <td>0.442006</td>\n",
       "      <td>0.442006</td>\n",
       "      <td>0.442006</td>\n",
       "      <td>0.442006</td>\n",
       "      <td>0.442006</td>\n",
       "      <td>...</td>\n",
       "      <td>0.442006</td>\n",
       "      <td>0.442006</td>\n",
       "      <td>0.442006</td>\n",
       "      <td>0.442006</td>\n",
       "      <td>0.442006</td>\n",
       "      <td>0.442006</td>\n",
       "      <td>0.442006</td>\n",
       "      <td>0.442006</td>\n",
       "      <td>0.442006</td>\n",
       "      <td>0.442006</td>\n",
       "    </tr>\n",
       "  </tbody>\n",
       "</table>\n",
       "<p>4 rows × 33 columns</p>\n",
       "</div>"
      ],
      "text/plain": [
       "                   season      date   weekday  comments  question_num  \\\n",
       "winner answered                                                         \n",
       "False  right     0.587879  0.587879  0.587879  0.570093      0.587879   \n",
       "       wrong     0.552288  0.552288  0.552288  0.528846      0.552288   \n",
       "True   right     0.742126  0.742126  0.742126  0.771984      0.742126   \n",
       "       wrong     0.442006  0.442006  0.442006  0.433515      0.442006   \n",
       "\n",
       "                    round  category  difficulty  question    answer  \\\n",
       "winner answered                                                       \n",
       "False  right     0.587879  0.587879    0.587879  0.587879  0.587879   \n",
       "       wrong     0.552288  0.552288    0.552288  0.552288  0.552288   \n",
       "True   right     0.742126  0.742126    0.742126  0.742126  0.742126   \n",
       "       wrong     0.442006  0.442006    0.442006  0.442006  0.442006   \n",
       "\n",
       "                     ...       percent_wrong  percent_neither  \\\n",
       "winner answered      ...                                        \n",
       "False  right         ...            0.587879         0.587879   \n",
       "       wrong         ...            0.552288         0.552288   \n",
       "True   right         ...            0.742126         0.742126   \n",
       "       wrong         ...            0.442006         0.442006   \n",
       "\n",
       "                 percent_attempted_correct  fj_wager_percentage       DD1  \\\n",
       "winner answered                                                             \n",
       "False  right                      0.587879             0.589041  0.587879   \n",
       "       wrong                      0.552288             0.551724  0.552288   \n",
       "True   right                      0.742126             0.742126  0.742126   \n",
       "       wrong                      0.442006             0.442006  0.442006   \n",
       "\n",
       "                      DD2       DD3  DD1_answered  DD2_answered  DD3_answered  \n",
       "winner answered                                                                \n",
       "False  right     0.587879  0.587879      0.587879      0.587879      0.587879  \n",
       "       wrong     0.552288  0.552288      0.552288      0.552288      0.552288  \n",
       "True   right     0.742126  0.742126      0.742126      0.742126      0.742126  \n",
       "       wrong     0.442006  0.442006      0.442006      0.442006      0.442006  \n",
       "\n",
       "[4 rows x 33 columns]"
      ]
     },
     "execution_count": 324,
     "metadata": {},
     "output_type": "execute_result"
    }
   ],
   "source": [
    "'''stacked_eps[(stacked_eps['DD1_answered']) & (stacked_eps['DD2_answered']) & (stacked_eps['DD3_answered'])\\\n",
    "           & ((stacked_eps['DD1'])|(stacked_eps['DD2'])|(stacked_eps['DD3']))].groupby(['winner', 'show_num', 'answered',])\\\n",
    "            .count().groupby(level=[0,1]).apply(lambda x: x/x.sum()).groupby(level=[0,2]).mean()'''"
   ]
  },
  {
   "cell_type": "code",
   "execution_count": 197,
   "metadata": {},
   "outputs": [
    {
     "data": {
      "text/html": [
       "<div>\n",
       "<style scoped>\n",
       "    .dataframe tbody tr th:only-of-type {\n",
       "        vertical-align: middle;\n",
       "    }\n",
       "\n",
       "    .dataframe tbody tr th {\n",
       "        vertical-align: top;\n",
       "    }\n",
       "\n",
       "    .dataframe thead th {\n",
       "        text-align: right;\n",
       "    }\n",
       "</style>\n",
       "<table border=\"1\" class=\"dataframe\">\n",
       "  <thead>\n",
       "    <tr style=\"text-align: right;\">\n",
       "      <th></th>\n",
       "      <th>season</th>\n",
       "      <th>date</th>\n",
       "      <th>weekday</th>\n",
       "      <th>comments</th>\n",
       "      <th>question_num</th>\n",
       "      <th>round</th>\n",
       "      <th>category</th>\n",
       "      <th>difficulty</th>\n",
       "      <th>question</th>\n",
       "      <th>answer</th>\n",
       "      <th>...</th>\n",
       "      <th>percent_wrong</th>\n",
       "      <th>percent_neither</th>\n",
       "      <th>percent_attempted_correct</th>\n",
       "      <th>fj_wager_percentage</th>\n",
       "      <th>DD1</th>\n",
       "      <th>DD2</th>\n",
       "      <th>DD3</th>\n",
       "      <th>DD1_answered</th>\n",
       "      <th>DD2_answered</th>\n",
       "      <th>DD3_answered</th>\n",
       "    </tr>\n",
       "    <tr>\n",
       "      <th>winner</th>\n",
       "      <th></th>\n",
       "      <th></th>\n",
       "      <th></th>\n",
       "      <th></th>\n",
       "      <th></th>\n",
       "      <th></th>\n",
       "      <th></th>\n",
       "      <th></th>\n",
       "      <th></th>\n",
       "      <th></th>\n",
       "      <th></th>\n",
       "      <th></th>\n",
       "      <th></th>\n",
       "      <th></th>\n",
       "      <th></th>\n",
       "      <th></th>\n",
       "      <th></th>\n",
       "      <th></th>\n",
       "      <th></th>\n",
       "      <th></th>\n",
       "      <th></th>\n",
       "    </tr>\n",
       "  </thead>\n",
       "  <tbody>\n",
       "    <tr>\n",
       "      <th>False</th>\n",
       "      <td>242</td>\n",
       "      <td>242</td>\n",
       "      <td>242</td>\n",
       "      <td>242</td>\n",
       "      <td>242</td>\n",
       "      <td>242</td>\n",
       "      <td>242</td>\n",
       "      <td>242</td>\n",
       "      <td>242</td>\n",
       "      <td>242</td>\n",
       "      <td>...</td>\n",
       "      <td>242</td>\n",
       "      <td>242</td>\n",
       "      <td>242</td>\n",
       "      <td>221</td>\n",
       "      <td>242</td>\n",
       "      <td>242</td>\n",
       "      <td>242</td>\n",
       "      <td>242</td>\n",
       "      <td>242</td>\n",
       "      <td>242</td>\n",
       "    </tr>\n",
       "    <tr>\n",
       "      <th>True</th>\n",
       "      <td>518</td>\n",
       "      <td>518</td>\n",
       "      <td>518</td>\n",
       "      <td>518</td>\n",
       "      <td>518</td>\n",
       "      <td>518</td>\n",
       "      <td>518</td>\n",
       "      <td>518</td>\n",
       "      <td>518</td>\n",
       "      <td>518</td>\n",
       "      <td>...</td>\n",
       "      <td>518</td>\n",
       "      <td>518</td>\n",
       "      <td>518</td>\n",
       "      <td>518</td>\n",
       "      <td>518</td>\n",
       "      <td>518</td>\n",
       "      <td>518</td>\n",
       "      <td>518</td>\n",
       "      <td>518</td>\n",
       "      <td>518</td>\n",
       "    </tr>\n",
       "  </tbody>\n",
       "</table>\n",
       "<p>2 rows × 35 columns</p>\n",
       "</div>"
      ],
      "text/plain": [
       "        season  date  weekday  comments  question_num  round  category  \\\n",
       "winner                                                                   \n",
       "False      242   242      242       242           242    242       242   \n",
       "True       518   518      518       518           518    518       518   \n",
       "\n",
       "        difficulty  question  answer      ...       percent_wrong  \\\n",
       "winner                                    ...                       \n",
       "False          242       242     242      ...                 242   \n",
       "True           518       518     518      ...                 518   \n",
       "\n",
       "        percent_neither  percent_attempted_correct  fj_wager_percentage  DD1  \\\n",
       "winner                                                                         \n",
       "False               242                        242                  221  242   \n",
       "True                518                        518                  518  518   \n",
       "\n",
       "        DD2  DD3  DD1_answered  DD2_answered  DD3_answered  \n",
       "winner                                                      \n",
       "False   242  242           242           242           242  \n",
       "True    518  518           518           518           518  \n",
       "\n",
       "[2 rows x 35 columns]"
      ]
     },
     "execution_count": 197,
     "metadata": {},
     "output_type": "execute_result"
    }
   ],
   "source": [
    "stacked_eps[(stacked_eps['DD1_answered']) & (stacked_eps['DD2_answered']) & (stacked_eps['DD3_answered'])]\\\n",
    ".groupby('show_num').first().groupby('winner').count()"
   ]
  },
  {
   "cell_type": "code",
   "execution_count": 198,
   "metadata": {
    "collapsed": true
   },
   "outputs": [],
   "source": [
    "stacked_eps['DD_wager_percent'] = np.nan"
   ]
  },
  {
   "cell_type": "code",
   "execution_count": 199,
   "metadata": {
    "collapsed": true
   },
   "outputs": [],
   "source": [
    "DD_filter = ((stacked_eps['DD1'])&(stacked_eps['DD1_answered']))|\\\n",
    "            ((stacked_eps['DD2'])&(stacked_eps['DD2_answered']))|\\\n",
    "            ((stacked_eps['DD2'])&(stacked_eps['DD2_answered']))\n",
    "stacked_eps.loc[DD_filter, 'DD_wager_percent'] = \\\n",
    "abs(stacked_eps.loc[DD_filter, 'add'] / (stacked_eps.loc[DD_filter, 'cumsum'] - stacked_eps.loc[DD_filter, 'add']))"
   ]
  },
  {
   "cell_type": "code",
   "execution_count": 200,
   "metadata": {
    "collapsed": true
   },
   "outputs": [],
   "source": [
    "stacked_eps[np.isinf(stacked_eps['DD_wager_percent'])] = np.nan"
   ]
  },
  {
   "cell_type": "code",
   "execution_count": 201,
   "metadata": {
    "collapsed": true
   },
   "outputs": [],
   "source": [
    "before_dd = stacked_eps.loc[DD_filter, 'cumsum'] - stacked_eps.loc[DD_filter, 'add']"
   ]
  },
  {
   "cell_type": "code",
   "execution_count": 202,
   "metadata": {
    "collapsed": true
   },
   "outputs": [],
   "source": [
    "def nov2001valuefilter(before_dd: pd.core.series.Series, higher: bool=True, post: bool=True) -> pd.core.series.Series:\n",
    "    '''On November 26, 2001, the values of clues on Jeopardy were doubled. This is to account for that so that\n",
    "    I'm being unbiased to contestants who could have earned less money'''\n",
    "    if higher: \n",
    "        higher = operator.gt\n",
    "    else:\n",
    "        higher = operator.le\n",
    "    if post:\n",
    "        post = operator.ge\n",
    "        j_val = 1000\n",
    "        dj_val = 2000\n",
    "    else:\n",
    "        post = operator.lt\n",
    "        j_val = 500\n",
    "        dj_val = 1000\n",
    "    \n",
    "    return (((higher(before_dd,j_val) & (stacked_eps['round']=='jeopardy_round'))|\\\n",
    "             (higher(before_dd,dj_val) & (stacked_eps['round']=='double_jeopardy_round'))) & \\\n",
    "            post(stacked_eps['show_num'],3966))           "
   ]
  },
  {
   "cell_type": "code",
   "execution_count": 203,
   "metadata": {
    "scrolled": true
   },
   "outputs": [
    {
     "name": "stderr",
     "output_type": "stream",
     "text": [
      "/Users/isaac/anaconda/envs/jeopardy_env/lib/python3.6/site-packages/ipykernel_launcher.py:2: FutureWarning: using a dict on a Series for aggregation\n",
      "is deprecated and will be removed in a future version\n",
      "  \n"
     ]
    },
    {
     "data": {
      "text/html": [
       "<div>\n",
       "<style scoped>\n",
       "    .dataframe tbody tr th:only-of-type {\n",
       "        vertical-align: middle;\n",
       "    }\n",
       "\n",
       "    .dataframe tbody tr th {\n",
       "        vertical-align: top;\n",
       "    }\n",
       "\n",
       "    .dataframe thead th {\n",
       "        text-align: right;\n",
       "    }\n",
       "</style>\n",
       "<table border=\"1\" class=\"dataframe\">\n",
       "  <thead>\n",
       "    <tr style=\"text-align: right;\">\n",
       "      <th></th>\n",
       "      <th>mean</th>\n",
       "      <th>count</th>\n",
       "    </tr>\n",
       "    <tr>\n",
       "      <th>job_category</th>\n",
       "      <th></th>\n",
       "      <th></th>\n",
       "    </tr>\n",
       "  </thead>\n",
       "  <tbody>\n",
       "    <tr>\n",
       "      <th>kid</th>\n",
       "      <td>0.321816</td>\n",
       "      <td>113</td>\n",
       "    </tr>\n",
       "    <tr>\n",
       "      <th>homemaker</th>\n",
       "      <td>0.415954</td>\n",
       "      <td>166</td>\n",
       "    </tr>\n",
       "    <tr>\n",
       "      <th>legal_job</th>\n",
       "      <td>0.418379</td>\n",
       "      <td>623</td>\n",
       "    </tr>\n",
       "    <tr>\n",
       "      <th></th>\n",
       "      <td>0.426427</td>\n",
       "      <td>59</td>\n",
       "    </tr>\n",
       "    <tr>\n",
       "      <th>writing_job</th>\n",
       "      <td>0.427823</td>\n",
       "      <td>709</td>\n",
       "    </tr>\n",
       "    <tr>\n",
       "      <th>creative_job</th>\n",
       "      <td>0.429383</td>\n",
       "      <td>350</td>\n",
       "    </tr>\n",
       "    <tr>\n",
       "      <th>education_job</th>\n",
       "      <td>0.431163</td>\n",
       "      <td>2632</td>\n",
       "    </tr>\n",
       "    <tr>\n",
       "      <th>management_job</th>\n",
       "      <td>0.435697</td>\n",
       "      <td>752</td>\n",
       "    </tr>\n",
       "    <tr>\n",
       "      <th>computer_job</th>\n",
       "      <td>0.437761</td>\n",
       "      <td>322</td>\n",
       "    </tr>\n",
       "    <tr>\n",
       "      <th>analyst_job</th>\n",
       "      <td>0.446423</td>\n",
       "      <td>560</td>\n",
       "    </tr>\n",
       "    <tr>\n",
       "      <th>medical_job</th>\n",
       "      <td>0.451051</td>\n",
       "      <td>243</td>\n",
       "    </tr>\n",
       "    <tr>\n",
       "      <th>Other</th>\n",
       "      <td>0.451558</td>\n",
       "      <td>1094</td>\n",
       "    </tr>\n",
       "    <tr>\n",
       "      <th>science_job</th>\n",
       "      <td>0.477468</td>\n",
       "      <td>361</td>\n",
       "    </tr>\n",
       "    <tr>\n",
       "      <th>real_estate</th>\n",
       "      <td>0.479306</td>\n",
       "      <td>26</td>\n",
       "    </tr>\n",
       "    <tr>\n",
       "      <th>government_job</th>\n",
       "      <td>0.483444</td>\n",
       "      <td>74</td>\n",
       "    </tr>\n",
       "    <tr>\n",
       "      <th>service_job</th>\n",
       "      <td>0.499745</td>\n",
       "      <td>350</td>\n",
       "    </tr>\n",
       "    <tr>\n",
       "      <th>religious_job</th>\n",
       "      <td>0.612015</td>\n",
       "      <td>26</td>\n",
       "    </tr>\n",
       "  </tbody>\n",
       "</table>\n",
       "</div>"
      ],
      "text/plain": [
       "                    mean  count\n",
       "job_category                   \n",
       "kid             0.321816    113\n",
       "homemaker       0.415954    166\n",
       "legal_job       0.418379    623\n",
       "                0.426427     59\n",
       "writing_job     0.427823    709\n",
       "creative_job    0.429383    350\n",
       "education_job   0.431163   2632\n",
       "management_job  0.435697    752\n",
       "computer_job    0.437761    322\n",
       "analyst_job     0.446423    560\n",
       "medical_job     0.451051    243\n",
       "Other           0.451558   1094\n",
       "science_job     0.477468    361\n",
       "real_estate     0.479306     26\n",
       "government_job  0.483444     74\n",
       "service_job     0.499745    350\n",
       "religious_job   0.612015     26"
      ]
     },
     "execution_count": 203,
     "metadata": {},
     "output_type": "execute_result"
    }
   ],
   "source": [
    "#JOB CATEGORY DD WAGERS\n",
    "stacked_eps[DD_filter & (nov2001valuefilter(before_dd, post=False) | nov2001valuefilter(before_dd))]\\\n",
    ".groupby('job_category')['DD_wager_percent'].agg({'mean': 'mean', 'count': 'count'}).sort_values(by='mean')"
   ]
  },
  {
   "cell_type": "code",
   "execution_count": 51,
   "metadata": {},
   "outputs": [
    {
     "data": {
      "text/plain": [
       "job_category\n",
       "kid               0.093525\n",
       "religious_job     0.100000\n",
       "homemaker         0.102941\n",
       "medical_job       0.109434\n",
       "management_job    0.116092\n",
       "service_job       0.125604\n",
       "education_job     0.128413\n",
       "legal_job         0.131824\n",
       "writing_job       0.137441\n",
       "government_job    0.138298\n",
       "real_estate       0.142857\n",
       "creative_job      0.143939\n",
       "Other             0.147718\n",
       "computer_job      0.155738\n",
       "science_job       0.156627\n",
       "analyst_job       0.160828\n",
       "Name: add, dtype: float64"
      ]
     },
     "execution_count": 51,
     "metadata": {},
     "output_type": "execute_result"
    }
   ],
   "source": [
    "#True DD for job categories\n",
    "true_dd_jobs = stacked_eps[DD_filter & (nov2001valuefilter(before_dd, post=False) |\\\n",
    "                                        nov2001valuefilter(before_dd)) &\\\n",
    "                           (stacked_eps['DD_wager_percent'] > 0.9999)].groupby('job_category')['add'].count()/\\\n",
    "stacked_eps[DD_filter & (nov2001valuefilter(before_dd, post=False) |\\\n",
    "                         nov2001valuefilter(before_dd))].groupby('job_category')['add'].count()\n",
    "true_dd_jobs.sort_values()"
   ]
  },
  {
   "cell_type": "code",
   "execution_count": 54,
   "metadata": {
    "scrolled": true
   },
   "outputs": [
    {
     "data": {
      "text/html": [
       "<div>\n",
       "<table border=\"1\" class=\"dataframe\">\n",
       "  <thead>\n",
       "    <tr style=\"text-align: right;\">\n",
       "      <th></th>\n",
       "      <th>mean</th>\n",
       "      <th>count</th>\n",
       "    </tr>\n",
       "    <tr>\n",
       "      <th>state</th>\n",
       "      <th></th>\n",
       "      <th></th>\n",
       "    </tr>\n",
       "  </thead>\n",
       "  <tbody>\n",
       "    <tr>\n",
       "      <th>North Dakota</th>\n",
       "      <td>0.373503</td>\n",
       "      <td>5</td>\n",
       "    </tr>\n",
       "    <tr>\n",
       "      <th>Oklahoma</th>\n",
       "      <td>0.383382</td>\n",
       "      <td>71</td>\n",
       "    </tr>\n",
       "    <tr>\n",
       "      <th>Utah</th>\n",
       "      <td>0.394848</td>\n",
       "      <td>119</td>\n",
       "    </tr>\n",
       "    <tr>\n",
       "      <th>Louisiana</th>\n",
       "      <td>0.425682</td>\n",
       "      <td>112</td>\n",
       "    </tr>\n",
       "    <tr>\n",
       "      <th>Rhode Island</th>\n",
       "      <td>0.426996</td>\n",
       "      <td>41</td>\n",
       "    </tr>\n",
       "    <tr>\n",
       "      <th>Kentucky</th>\n",
       "      <td>0.427995</td>\n",
       "      <td>115</td>\n",
       "    </tr>\n",
       "    <tr>\n",
       "      <th>Georgia</th>\n",
       "      <td>0.431383</td>\n",
       "      <td>257</td>\n",
       "    </tr>\n",
       "    <tr>\n",
       "      <th>Michigan</th>\n",
       "      <td>0.432974</td>\n",
       "      <td>219</td>\n",
       "    </tr>\n",
       "    <tr>\n",
       "      <th>Wyoming</th>\n",
       "      <td>0.439337</td>\n",
       "      <td>6</td>\n",
       "    </tr>\n",
       "    <tr>\n",
       "      <th>New Jersey</th>\n",
       "      <td>0.442384</td>\n",
       "      <td>315</td>\n",
       "    </tr>\n",
       "    <tr>\n",
       "      <th>Indiana</th>\n",
       "      <td>0.444413</td>\n",
       "      <td>119</td>\n",
       "    </tr>\n",
       "    <tr>\n",
       "      <th>South Carolina</th>\n",
       "      <td>0.445657</td>\n",
       "      <td>80</td>\n",
       "    </tr>\n",
       "    <tr>\n",
       "      <th>Florida</th>\n",
       "      <td>0.453841</td>\n",
       "      <td>302</td>\n",
       "    </tr>\n",
       "    <tr>\n",
       "      <th>Vermont</th>\n",
       "      <td>0.455289</td>\n",
       "      <td>34</td>\n",
       "    </tr>\n",
       "    <tr>\n",
       "      <th>Nevada</th>\n",
       "      <td>0.459529</td>\n",
       "      <td>35</td>\n",
       "    </tr>\n",
       "    <tr>\n",
       "      <th>Oregon</th>\n",
       "      <td>0.459812</td>\n",
       "      <td>105</td>\n",
       "    </tr>\n",
       "    <tr>\n",
       "      <th>Alaska</th>\n",
       "      <td>0.464091</td>\n",
       "      <td>23</td>\n",
       "    </tr>\n",
       "    <tr>\n",
       "      <th>Virginia</th>\n",
       "      <td>0.464390</td>\n",
       "      <td>398</td>\n",
       "    </tr>\n",
       "    <tr>\n",
       "      <th>Ohio</th>\n",
       "      <td>0.465086</td>\n",
       "      <td>332</td>\n",
       "    </tr>\n",
       "    <tr>\n",
       "      <th>California</th>\n",
       "      <td>0.468132</td>\n",
       "      <td>1484</td>\n",
       "    </tr>\n",
       "    <tr>\n",
       "      <th>Illinois</th>\n",
       "      <td>0.470421</td>\n",
       "      <td>498</td>\n",
       "    </tr>\n",
       "    <tr>\n",
       "      <th>Maryland</th>\n",
       "      <td>0.471035</td>\n",
       "      <td>343</td>\n",
       "    </tr>\n",
       "    <tr>\n",
       "      <th>New York</th>\n",
       "      <td>0.471777</td>\n",
       "      <td>1241</td>\n",
       "    </tr>\n",
       "    <tr>\n",
       "      <th>Pennsylvania</th>\n",
       "      <td>0.471867</td>\n",
       "      <td>350</td>\n",
       "    </tr>\n",
       "    <tr>\n",
       "      <th>Missouri</th>\n",
       "      <td>0.474756</td>\n",
       "      <td>109</td>\n",
       "    </tr>\n",
       "    <tr>\n",
       "      <th>Wisconsin</th>\n",
       "      <td>0.475611</td>\n",
       "      <td>99</td>\n",
       "    </tr>\n",
       "    <tr>\n",
       "      <th>Mississippi</th>\n",
       "      <td>0.477956</td>\n",
       "      <td>24</td>\n",
       "    </tr>\n",
       "    <tr>\n",
       "      <th>Texas</th>\n",
       "      <td>0.480410</td>\n",
       "      <td>337</td>\n",
       "    </tr>\n",
       "    <tr>\n",
       "      <th>Other</th>\n",
       "      <td>0.484013</td>\n",
       "      <td>582</td>\n",
       "    </tr>\n",
       "    <tr>\n",
       "      <th>West Virginia</th>\n",
       "      <td>0.484876</td>\n",
       "      <td>27</td>\n",
       "    </tr>\n",
       "    <tr>\n",
       "      <th>New Hampshire</th>\n",
       "      <td>0.484919</td>\n",
       "      <td>51</td>\n",
       "    </tr>\n",
       "    <tr>\n",
       "      <th>North Carolina</th>\n",
       "      <td>0.485086</td>\n",
       "      <td>164</td>\n",
       "    </tr>\n",
       "    <tr>\n",
       "      <th>Massachusetts</th>\n",
       "      <td>0.486579</td>\n",
       "      <td>395</td>\n",
       "    </tr>\n",
       "    <tr>\n",
       "      <th>Delaware</th>\n",
       "      <td>0.488537</td>\n",
       "      <td>62</td>\n",
       "    </tr>\n",
       "    <tr>\n",
       "      <th>Tennessee</th>\n",
       "      <td>0.490794</td>\n",
       "      <td>77</td>\n",
       "    </tr>\n",
       "    <tr>\n",
       "      <th>South Dakota</th>\n",
       "      <td>0.491142</td>\n",
       "      <td>13</td>\n",
       "    </tr>\n",
       "    <tr>\n",
       "      <th>D.C.</th>\n",
       "      <td>0.492004</td>\n",
       "      <td>201</td>\n",
       "    </tr>\n",
       "    <tr>\n",
       "      <th>Alabama</th>\n",
       "      <td>0.495596</td>\n",
       "      <td>79</td>\n",
       "    </tr>\n",
       "    <tr>\n",
       "      <th>Colorado</th>\n",
       "      <td>0.497607</td>\n",
       "      <td>99</td>\n",
       "    </tr>\n",
       "    <tr>\n",
       "      <th>Connecticut</th>\n",
       "      <td>0.499665</td>\n",
       "      <td>136</td>\n",
       "    </tr>\n",
       "    <tr>\n",
       "      <th>Iowa</th>\n",
       "      <td>0.500009</td>\n",
       "      <td>75</td>\n",
       "    </tr>\n",
       "    <tr>\n",
       "      <th>Hawaii</th>\n",
       "      <td>0.508808</td>\n",
       "      <td>23</td>\n",
       "    </tr>\n",
       "    <tr>\n",
       "      <th>Washington</th>\n",
       "      <td>0.509679</td>\n",
       "      <td>176</td>\n",
       "    </tr>\n",
       "    <tr>\n",
       "      <th>Arizona</th>\n",
       "      <td>0.510775</td>\n",
       "      <td>96</td>\n",
       "    </tr>\n",
       "    <tr>\n",
       "      <th>Maine</th>\n",
       "      <td>0.519411</td>\n",
       "      <td>33</td>\n",
       "    </tr>\n",
       "    <tr>\n",
       "      <th>Montana</th>\n",
       "      <td>0.525844</td>\n",
       "      <td>14</td>\n",
       "    </tr>\n",
       "    <tr>\n",
       "      <th>Nebraska</th>\n",
       "      <td>0.527804</td>\n",
       "      <td>21</td>\n",
       "    </tr>\n",
       "    <tr>\n",
       "      <th>Minnesota</th>\n",
       "      <td>0.529423</td>\n",
       "      <td>129</td>\n",
       "    </tr>\n",
       "    <tr>\n",
       "      <th>Arkansas</th>\n",
       "      <td>0.529562</td>\n",
       "      <td>43</td>\n",
       "    </tr>\n",
       "    <tr>\n",
       "      <th>Kansas</th>\n",
       "      <td>0.529929</td>\n",
       "      <td>46</td>\n",
       "    </tr>\n",
       "    <tr>\n",
       "      <th>New Mexico</th>\n",
       "      <td>0.553331</td>\n",
       "      <td>27</td>\n",
       "    </tr>\n",
       "    <tr>\n",
       "      <th>Idaho</th>\n",
       "      <td>0.562106</td>\n",
       "      <td>18</td>\n",
       "    </tr>\n",
       "  </tbody>\n",
       "</table>\n",
       "</div>"
      ],
      "text/plain": [
       "                    mean  count\n",
       "state                          \n",
       "North Dakota    0.373503      5\n",
       "Oklahoma        0.383382     71\n",
       "Utah            0.394848    119\n",
       "Louisiana       0.425682    112\n",
       "Rhode Island    0.426996     41\n",
       "Kentucky        0.427995    115\n",
       "Georgia         0.431383    257\n",
       "Michigan        0.432974    219\n",
       "Wyoming         0.439337      6\n",
       "New Jersey      0.442384    315\n",
       "Indiana         0.444413    119\n",
       "South Carolina  0.445657     80\n",
       "Florida         0.453841    302\n",
       "Vermont         0.455289     34\n",
       "Nevada          0.459529     35\n",
       "Oregon          0.459812    105\n",
       "Alaska          0.464091     23\n",
       "Virginia        0.464390    398\n",
       "Ohio            0.465086    332\n",
       "California      0.468132   1484\n",
       "Illinois        0.470421    498\n",
       "Maryland        0.471035    343\n",
       "New York        0.471777   1241\n",
       "Pennsylvania    0.471867    350\n",
       "Missouri        0.474756    109\n",
       "Wisconsin       0.475611     99\n",
       "Mississippi     0.477956     24\n",
       "Texas           0.480410    337\n",
       "Other           0.484013    582\n",
       "West Virginia   0.484876     27\n",
       "New Hampshire   0.484919     51\n",
       "North Carolina  0.485086    164\n",
       "Massachusetts   0.486579    395\n",
       "Delaware        0.488537     62\n",
       "Tennessee       0.490794     77\n",
       "South Dakota    0.491142     13\n",
       "D.C.            0.492004    201\n",
       "Alabama         0.495596     79\n",
       "Colorado        0.497607     99\n",
       "Connecticut     0.499665    136\n",
       "Iowa            0.500009     75\n",
       "Hawaii          0.508808     23\n",
       "Washington      0.509679    176\n",
       "Arizona         0.510775     96\n",
       "Maine           0.519411     33\n",
       "Montana         0.525844     14\n",
       "Nebraska        0.527804     21\n",
       "Minnesota       0.529423    129\n",
       "Arkansas        0.529562     43\n",
       "Kansas          0.529929     46\n",
       "New Mexico      0.553331     27\n",
       "Idaho           0.562106     18"
      ]
     },
     "execution_count": 54,
     "metadata": {},
     "output_type": "execute_result"
    }
   ],
   "source": [
    "#STATE DD WAGERS\n",
    "stacked_eps[DD_filter & (nov2001valuefilter(before_dd, post=False) | nov2001valuefilter(before_dd))]\\\n",
    ".groupby('state')['DD_wager_percent'].agg({'mean': 'mean', 'count': 'count'}).sort_values(by='mean')"
   ]
  },
  {
   "cell_type": "code",
   "execution_count": 52,
   "metadata": {},
   "outputs": [
    {
     "data": {
      "text/plain": [
       "state\n",
       "Hawaii            0.086957\n",
       "Maine             0.090909\n",
       "Indiana           0.092437\n",
       "Georgia           0.097276\n",
       "Rhode Island      0.097561\n",
       "Oklahoma          0.098592\n",
       "Michigan          0.100457\n",
       "Utah              0.100840\n",
       "New Jersey        0.104762\n",
       "Florida           0.105960\n",
       "Louisiana         0.107143\n",
       "South Carolina    0.112500\n",
       "Nevada            0.114286\n",
       "Oregon            0.114286\n",
       "Tennessee         0.116883\n",
       "Pennsylvania      0.117143\n",
       "New Hampshire     0.117647\n",
       "Iowa              0.120000\n",
       "Kentucky          0.121739\n",
       "California        0.122642\n",
       "D.C.              0.129353\n",
       "New York          0.129734\n",
       "Alaska            0.130435\n",
       "Wisconsin         0.131313\n",
       "Virginia          0.135678\n",
       "Alabama           0.139241\n",
       "Ohio              0.141566\n",
       "Texas             0.142433\n",
       "Montana           0.142857\n",
       "Maryland          0.145773\n",
       "Vermont           0.147059\n",
       "West Virginia     0.148148\n",
       "Massachusetts     0.149367\n",
       "Other             0.151203\n",
       "South Dakota      0.153846\n",
       "Missouri          0.155963\n",
       "North Carolina    0.158537\n",
       "Delaware          0.161290\n",
       "Colorado          0.161616\n",
       "Illinois          0.164659\n",
       "Mississippi       0.166667\n",
       "Idaho             0.166667\n",
       "Wyoming           0.166667\n",
       "Connecticut       0.169118\n",
       "Washington        0.176136\n",
       "New Mexico        0.185185\n",
       "Arizona           0.187500\n",
       "Nebraska          0.190476\n",
       "Kansas            0.195652\n",
       "Arkansas          0.209302\n",
       "Minnesota         0.232558\n",
       "North Dakota           NaN\n",
       "Name: add, dtype: float64"
      ]
     },
     "execution_count": 52,
     "metadata": {},
     "output_type": "execute_result"
    }
   ],
   "source": [
    "#True DD for states\n",
    "true_dd_states = stacked_eps[DD_filter & (nov2001valuefilter(before_dd, post=False) |\\\n",
    "                                        nov2001valuefilter(before_dd)) &\\\n",
    "                           (stacked_eps['DD_wager_percent'] > 0.9999)].groupby('state')['add'].count()/\\\n",
    "stacked_eps[DD_filter & (nov2001valuefilter(before_dd, post=False) |\\\n",
    "                         nov2001valuefilter(before_dd))].groupby('state')['add'].count()\n",
    "true_dd_states.sort_values()"
   ]
  },
  {
   "cell_type": "code",
   "execution_count": 204,
   "metadata": {
    "collapsed": true
   },
   "outputs": [],
   "source": [
    "stacked_eps['true_DD'] = np.nan\n",
    "stacked_eps.loc[DD_filter, 'true_DD'] = False"
   ]
  },
  {
   "cell_type": "code",
   "execution_count": 205,
   "metadata": {
    "collapsed": true
   },
   "outputs": [],
   "source": [
    "stacked_eps.loc[DD_filter & (nov2001valuefilter(before_dd, post=False) | nov2001valuefilter(before_dd)) &\\\n",
    "           (stacked_eps['DD_wager_percent']>0.999), 'true_DD'] = True"
   ]
  },
  {
   "cell_type": "code",
   "execution_count": 206,
   "metadata": {
    "collapsed": true
   },
   "outputs": [],
   "source": [
    "!mv stacked_ep_df_saved.csv stacked_ep_df_saved_backup.csv\n",
    "stacked_eps.to_csv('stacked_ep_df_saved.csv', sep='¤')\n",
    "#!rm stacked_ep_df_saved_backup.csv"
   ]
  },
  {
   "cell_type": "code",
   "execution_count": 43,
   "metadata": {},
   "outputs": [],
   "source": [
    "stacked_eps = pd.read_csv('stacked_ep_df_saved.csv', sep='¤', engine='python')\n",
    "stacked_eps.drop('Unnamed: 0', axis=1, inplace=True)"
   ]
  },
  {
   "cell_type": "code",
   "execution_count": 28,
   "metadata": {
    "collapsed": true
   },
   "outputs": [],
   "source": [
    "notnull = stacked_eps.notnull()\n",
    "stacked_eps = stacked_eps.loc[notnull.mean(1)>.5,:]"
   ]
  },
  {
   "cell_type": "code",
   "execution_count": 58,
   "metadata": {},
   "outputs": [
    {
     "data": {
      "text/plain": [
       "'Getting information for contestant winning streaks'"
      ]
     },
     "execution_count": 58,
     "metadata": {},
     "output_type": "execute_result"
    }
   ],
   "source": [
    "\"\"\"Getting information for contestant winning streaks\"\"\""
   ]
  },
  {
   "cell_type": "code",
   "execution_count": 29,
   "metadata": {
    "collapsed": true
   },
   "outputs": [],
   "source": [
    "#Adapted from https://stackoverflow.com/questions/25119524/pandas-conditional-rolling-count\n",
    "#Intended to give streak counts for contestants\n",
    "def rolling_id(val):\n",
    "    if val != rolling_id.previous:\n",
    "        rolling_id.id +=1\n",
    "        rolling_id.previous = val\n",
    "    return rolling_id.id\n",
    "rolling_id.id = 0 #static variable\n",
    "rolling_id.previous = None #static variable"
   ]
  },
  {
   "cell_type": "code",
   "execution_count": 30,
   "metadata": {
    "collapsed": true
   },
   "outputs": [],
   "source": [
    "def next_ep(val):\n",
    "    if next_ep.next - val ==1:\n",
    "        next_ep.truth = 1\n",
    "    else:\n",
    "        next_ep.truth = 0\n",
    "    next_ep.next = val\n",
    "    return next_ep.truth\n",
    "next_ep.truth = 0\n",
    "next_ep.next = 0"
   ]
  },
  {
   "cell_type": "code",
   "execution_count": 57,
   "metadata": {
    "collapsed": true
   },
   "outputs": [],
   "source": [
    "keys = ['show_num', 'state']\n",
    "i1 = stacked_eps.set_index(keys).index\n",
    "i2 = two_show_nums.set_index(keys).index"
   ]
  },
  {
   "cell_type": "code",
   "execution_count": 59,
   "metadata": {
    "collapsed": true
   },
   "outputs": [],
   "source": [
    "stacked_eps['win_weight'] = 1\n",
    "stacked_eps.loc[i1.isin(i2), 'win_weight'] = 0.5\n",
    "stacked_eps.loc[stacked_eps['show_num'].isin(allstate_shownums), 'win_weight'] = 0"
   ]
  },
  {
   "cell_type": "code",
   "execution_count": 86,
   "metadata": {
    "collapsed": true
   },
   "outputs": [],
   "source": [
    "stacked_eps['next_weight'] = list(stacked_eps.iloc[1:]['win_weight'].copy()) + [1]"
   ]
  },
  {
   "cell_type": "code",
   "execution_count": 31,
   "metadata": {
    "collapsed": true
   },
   "outputs": [],
   "source": [
    "stacked_eps.comments.fillna('', inplace=True)"
   ]
  },
  {
   "cell_type": "code",
   "execution_count": 32,
   "metadata": {
    "collapsed": true
   },
   "outputs": [],
   "source": [
    "not_special_week = [all(word not in comment for word in ['tournament', 'championship', 'kid']) for comment in stacked_eps['comments'].str.lower()]"
   ]
  },
  {
   "cell_type": "code",
   "execution_count": 34,
   "metadata": {
    "collapsed": true
   },
   "outputs": [],
   "source": [
    "consec_ep_index = stacked_eps.loc[((stacked_eps['winner']==1) & (not_special_week)), ['name', 'show_num']]\\\n",
    ".groupby('show_num', as_index=False).first().sort_values('show_num', ascending=False)['show_num']"
   ]
  },
  {
   "cell_type": "code",
   "execution_count": 35,
   "metadata": {
    "collapsed": true
   },
   "outputs": [],
   "source": [
    "consec_ep = stacked_eps.loc[((stacked_eps['winner']==1) & (not_special_week)), ['name', 'show_num']]\\\n",
    ".groupby('show_num', as_index=False).first().sort_values('show_num', ascending=False)['show_num'].apply(next_ep)"
   ]
  },
  {
   "cell_type": "code",
   "execution_count": 36,
   "metadata": {
    "collapsed": true
   },
   "outputs": [],
   "source": [
    "consec_ep = consec_ep.to_frame().set_index(consec_ep_index)"
   ]
  },
  {
   "cell_type": "code",
   "execution_count": 37,
   "metadata": {
    "collapsed": true
   },
   "outputs": [],
   "source": [
    "consec_ep.columns = ['consecutive']"
   ]
  },
  {
   "cell_type": "code",
   "execution_count": 38,
   "metadata": {
    "collapsed": true
   },
   "outputs": [],
   "source": [
    "consec_ep = consec_ep.reset_index()"
   ]
  },
  {
   "cell_type": "code",
   "execution_count": 39,
   "metadata": {
    "collapsed": true
   },
   "outputs": [],
   "source": [
    "stacked_eps = pd.merge(stacked_eps,\n",
    "                      consec_ep,\n",
    "                      on='show_num',\n",
    "                      how='left')"
   ]
  },
  {
   "cell_type": "code",
   "execution_count": 40,
   "metadata": {
    "collapsed": true
   },
   "outputs": [],
   "source": [
    "streaks = pd.DataFrame(stacked_eps.loc[((stacked_eps['winner']==1) & (not_special_week)), ['name', 'show_num']]\\\n",
    "                       .groupby('show_num').first()['name'].apply(rolling_id))\n",
    "streaks.columns = ['streaks']\n",
    "streaks.reset_index(inplace=True)"
   ]
  },
  {
   "cell_type": "code",
   "execution_count": 41,
   "metadata": {
    "collapsed": true
   },
   "outputs": [],
   "source": [
    "not_special_df = stacked_eps[((stacked_eps['winner']==1) & \\\n",
    "             ([not x for x in not_special_week]))]\\\n",
    ".groupby('show_num', as_index=False).first()['show_num'].to_frame()"
   ]
  },
  {
   "cell_type": "code",
   "execution_count": 42,
   "metadata": {
    "collapsed": true
   },
   "outputs": [],
   "source": [
    "not_special_df['streaks'] = list(range(streaks['streaks'].max()+1,streaks['streaks'].max() + len(not_special_df)+1))"
   ]
  },
  {
   "cell_type": "code",
   "execution_count": 43,
   "metadata": {
    "collapsed": true
   },
   "outputs": [],
   "source": [
    "streaks = pd.concat([streaks, not_special_df])"
   ]
  },
  {
   "cell_type": "code",
   "execution_count": 44,
   "metadata": {
    "collapsed": true
   },
   "outputs": [],
   "source": [
    "stacked_eps = pd.merge(stacked_eps,\n",
    "                      streaks,\n",
    "                      on='show_num',\n",
    "                      how='left')"
   ]
  },
  {
   "cell_type": "code",
   "execution_count": 45,
   "metadata": {
    "collapsed": true,
    "scrolled": true
   },
   "outputs": [],
   "source": [
    "stacked_eps['streaks'].fillna(1, inplace=True)"
   ]
  },
  {
   "cell_type": "code",
   "execution_count": 87,
   "metadata": {
    "collapsed": true
   },
   "outputs": [],
   "source": [
    "streak_agg = {'show_num': ['nunique', 'last'], 'state': ['first'], \n",
    "              'consecutive': ['last'], 'win_weight': ['last'],\n",
    "              'next_weight': ['last']}"
   ]
  },
  {
   "cell_type": "code",
   "execution_count": 148,
   "metadata": {
    "collapsed": true
   },
   "outputs": [],
   "source": [
    "winner_counts = stacked_eps[((stacked_eps['winner']==1)&stacked_eps['show_num'].isin(sep_show_nums))]\\\n",
    ".groupby('streaks', as_index=False)['show_num', 'state', 'consecutive', 'win_weight', 'next_weight']\\\n",
    ".agg(streak_agg).copy()"
   ]
  },
  {
   "cell_type": "code",
   "execution_count": 149,
   "metadata": {
    "collapsed": true
   },
   "outputs": [],
   "source": [
    "winner_counts.columns = ['streak_id', 'count', 'show_num', 'state', 'consecutive', 'win_weight', 'next_weight']"
   ]
  },
  {
   "cell_type": "code",
   "execution_count": 150,
   "metadata": {
    "collapsed": true
   },
   "outputs": [],
   "source": [
    "redundancy_agg = {'consecutive': ['sum'], \n",
    "                 'next_weight': ['mean']}"
   ]
  },
  {
   "cell_type": "code",
   "execution_count": 151,
   "metadata": {
    "collapsed": true
   },
   "outputs": [],
   "source": [
    "redundancies = winner_counts[winner_counts['consecutive']==1].groupby('state').agg(redundancy_agg)[['consecutive', 'next_weight']]"
   ]
  },
  {
   "cell_type": "code",
   "execution_count": 152,
   "metadata": {
    "collapsed": true
   },
   "outputs": [],
   "source": [
    "redundancies.columns = ['consecutive', 'next_weight']"
   ]
  },
  {
   "cell_type": "code",
   "execution_count": 153,
   "metadata": {
    "collapsed": true
   },
   "outputs": [],
   "source": [
    "redundancies['consecutive'] = redundancies['consecutive']*redundancies['next_weight']"
   ]
  },
  {
   "cell_type": "code",
   "execution_count": 154,
   "metadata": {
    "collapsed": true
   },
   "outputs": [],
   "source": [
    "winner_counts.loc[(winner_counts['win_weight']!=1) & (winner_counts['count']>1), 'win_weight'] = 1"
   ]
  },
  {
   "cell_type": "code",
   "execution_count": 155,
   "metadata": {
    "collapsed": true
   },
   "outputs": [],
   "source": [
    "winner_aggs = {'count': ['count'], 'win_weight': ['mean']}"
   ]
  },
  {
   "cell_type": "code",
   "execution_count": 156,
   "metadata": {
    "collapsed": true
   },
   "outputs": [],
   "source": [
    "winner_counts = winner_counts.groupby('state', as_index=False).agg(winner_aggs)[['state', 'count', 'win_weight']]"
   ]
  },
  {
   "cell_type": "code",
   "execution_count": 157,
   "metadata": {
    "collapsed": true
   },
   "outputs": [],
   "source": [
    "winner_counts.columns = ['state', 'winner_count', 'win_weight']"
   ]
  },
  {
   "cell_type": "code",
   "execution_count": 158,
   "metadata": {
    "collapsed": true
   },
   "outputs": [],
   "source": [
    "winner_counts['winner_count'] = winner_counts['winner_count']*winner_counts['win_weight']\n",
    "winner_counts.drop('win_weight', axis=1, inplace=True)"
   ]
  },
  {
   "cell_type": "code",
   "execution_count": 159,
   "metadata": {
    "collapsed": true
   },
   "outputs": [],
   "source": [
    "loser_counts = stacked_eps[stacked_eps['winner']==0].copy()"
   ]
  },
  {
   "cell_type": "code",
   "execution_count": 160,
   "metadata": {
    "collapsed": true
   },
   "outputs": [],
   "source": [
    "loser_counts = loser_counts.groupby(['show_num', 'name'], as_index=False).first()"
   ]
  },
  {
   "cell_type": "code",
   "execution_count": 161,
   "metadata": {
    "collapsed": true
   },
   "outputs": [],
   "source": [
    "loser_agg = {'streaks': ['count'], 'win_weight': ['mean']}"
   ]
  },
  {
   "cell_type": "code",
   "execution_count": 162,
   "metadata": {
    "collapsed": true
   },
   "outputs": [],
   "source": [
    "loser_counts = loser_counts.groupby('state').agg(loser_agg)[['streaks', 'win_weight']].reset_index()"
   ]
  },
  {
   "cell_type": "code",
   "execution_count": 163,
   "metadata": {
    "collapsed": true
   },
   "outputs": [],
   "source": [
    "loser_counts.columns = ['state', 'loser_count', 'weight']"
   ]
  },
  {
   "cell_type": "code",
   "execution_count": 164,
   "metadata": {
    "collapsed": true
   },
   "outputs": [],
   "source": [
    "loser_counts['loser_count'] = (loser_counts['loser_count']*loser_counts['weight']) - redundancies['consecutive'].values"
   ]
  },
  {
   "cell_type": "code",
   "execution_count": 165,
   "metadata": {
    "collapsed": true
   },
   "outputs": [],
   "source": [
    "loser_counts.drop('weight', axis=1, inplace=True)"
   ]
  },
  {
   "cell_type": "code",
   "execution_count": 166,
   "metadata": {
    "collapsed": true
   },
   "outputs": [],
   "source": [
    "state_percentages = pd.merge(winner_counts, loser_counts, on='state')"
   ]
  },
  {
   "cell_type": "code",
   "execution_count": 167,
   "metadata": {
    "collapsed": true
   },
   "outputs": [],
   "source": [
    "state_percentages.set_index('state', inplace=True)\n",
    "state_percentages = state_percentages['winner_count']/(state_percentages['winner_count'] + state_percentages['loser_count'])"
   ]
  },
  {
   "cell_type": "code",
   "execution_count": 168,
   "metadata": {
    "collapsed": true
   },
   "outputs": [],
   "source": [
    "streak_info = stacked_eps[((stacked_eps['winner']==1)&not_special_week)].groupby('streaks', as_index=False)['show_num', 'state'].agg(streak_agg).copy()"
   ]
  },
  {
   "cell_type": "code",
   "execution_count": 169,
   "metadata": {
    "collapsed": true
   },
   "outputs": [],
   "source": [
    "streak_info.columns = ['streak_id', 'count', 'show_num', 'state', 'consecutive', 'weight', 'next_weight']"
   ]
  },
  {
   "cell_type": "code",
   "execution_count": 170,
   "metadata": {
    "collapsed": true,
    "scrolled": true
   },
   "outputs": [],
   "source": [
    "streak_info = streak_info.groupby('state').mean()['count']"
   ]
  },
  {
   "cell_type": "code",
   "execution_count": 171,
   "metadata": {
    "collapsed": true
   },
   "outputs": [],
   "source": [
    "state_winner_info = pd.merge(state_percentages.to_frame(), streak_info.to_frame(), left_index=True, right_index=True, how='right')"
   ]
  },
  {
   "cell_type": "code",
   "execution_count": 172,
   "metadata": {
    "collapsed": true
   },
   "outputs": [],
   "source": [
    "state_winner_info.columns = ['rate', 'streak']"
   ]
  },
  {
   "cell_type": "code",
   "execution_count": 173,
   "metadata": {
    "collapsed": true
   },
   "outputs": [],
   "source": [
    "\"\"\"Taken from https://gist.githubusercontent.com/meiqimichelle/7727723/raw/0109432d22f28fd1a669a3fd113e41c4193dbb5d/USstates_avg_latLong\"\"\"\n",
    "longs_and_lats = pd.read_json('longs_and_lats.json')"
   ]
  },
  {
   "cell_type": "code",
   "execution_count": 174,
   "metadata": {
    "collapsed": true
   },
   "outputs": [],
   "source": [
    "pd.merge(longs_and_lats, state_winner_info.reset_index(), on='state').to_csv('state_win_rates.csv')"
   ]
  },
  {
   "cell_type": "code",
   "execution_count": 180,
   "metadata": {
    "collapsed": true
   },
   "outputs": [],
   "source": [
    "state_winner_info.sort_values('rate', ascending=False, inplace=True)\n",
    "state_winner_info['rate_rank'] = list(range(1,len(state_winner_info)+1))\n",
    "state_winner_info.sort_values('streak', ascending=False, inplace=True)\n",
    "state_winner_info['streak_rank'] = list(range(1,len(state_winner_info)+1))\n",
    "state_winner_info['total_rank'] = state_winner_info['rate_rank'] + state_winner_info['streak_rank']\n",
    "state_winner_info.sort_values('total_rank', inplace=True)"
   ]
  },
  {
   "cell_type": "code",
   "execution_count": null,
   "metadata": {
    "collapsed": true
   },
   "outputs": [],
   "source": [
    "\"\"\"---------------------------------------------\"\"\""
   ]
  },
  {
   "cell_type": "code",
   "execution_count": 5,
   "metadata": {
    "collapsed": true
   },
   "outputs": [],
   "source": [
    "stacked_eps['num_DD'] = sum(stacked_eps['DD{}_answered'.format(i)] for i in range(1,4))"
   ]
  },
  {
   "cell_type": "code",
   "execution_count": 186,
   "metadata": {
    "collapsed": true
   },
   "outputs": [],
   "source": [
    "mean_state_values = stacked_eps.groupby(['show_num', 'contestant'], as_index=False).first().groupby('state').mean()"
   ]
  },
  {
   "cell_type": "code",
   "execution_count": 187,
   "metadata": {
    "collapsed": true
   },
   "outputs": [],
   "source": [
    "mean_job_values = stacked_eps.groupby(['show_num', 'contestant'], as_index=False).first().groupby('job_category').mean()"
   ]
  },
  {
   "cell_type": "code",
   "execution_count": 188,
   "metadata": {
    "collapsed": true
   },
   "outputs": [],
   "source": [
    "top_25_r1_cats = episodes[episodes['round']=='jeopardy_round'].groupby(['season', 'show_num', 'category'], as_index=False)\\\n",
    ".first()['category'].value_counts().index[0:25]"
   ]
  },
  {
   "cell_type": "code",
   "execution_count": 189,
   "metadata": {
    "collapsed": true
   },
   "outputs": [],
   "source": [
    "r1_cats_right = []\n",
    "for cat in top_25_r1_cats:\n",
    "    r1_cats_right.append((cat, stacked_eps[(stacked_eps['round']=='jeopardy_round') & (stacked_eps['category']==cat)]\\\n",
    "    .groupby(['show_num', 'question_num']).agg({'answered': lambda x: sum(x=='right')}).sum()/\\\n",
    "    stacked_eps[(stacked_eps['round']=='jeopardy_round') & (stacked_eps['category']==cat)]\\\n",
    "    .groupby(['show_num','question_num']).first().count()['season']))"
   ]
  },
  {
   "cell_type": "code",
   "execution_count": 190,
   "metadata": {
    "collapsed": true
   },
   "outputs": [],
   "source": [
    "top_25_r2_cats = episodes[episodes['round']=='double_jeopardy_round'].groupby(['season', 'show_num', 'category'], as_index=False)\\\n",
    ".first()['category'].value_counts().index[0:25]"
   ]
  },
  {
   "cell_type": "code",
   "execution_count": 191,
   "metadata": {
    "collapsed": true
   },
   "outputs": [],
   "source": [
    "r2_cats_right = []\n",
    "for cat in top_25_r2_cats:\n",
    "    r2_cats_right.append((cat, stacked_eps[(stacked_eps['round']=='double_jeopardy_round') & (stacked_eps['category']==cat)]\\\n",
    "    .groupby(['show_num', 'question_num']).agg({'answered': lambda x: sum(x=='right')}).sum()/\\\n",
    "    stacked_eps[(stacked_eps['round']=='double_jeopardy_round') & (stacked_eps['category']==cat)]\\\n",
    "    .groupby(['show_num','question_num']).first().count()['season']))"
   ]
  },
  {
   "cell_type": "code",
   "execution_count": 212,
   "metadata": {
    "collapsed": true
   },
   "outputs": [],
   "source": [
    "cat_question_count = stacked_eps[(stacked_eps['contestant']=='c1') & \\\n",
    "                                 (stacked_eps['round']!='final_jeopardy_round')]['category']\\\n",
    ".value_counts().sort_index()"
   ]
  },
  {
   "cell_type": "code",
   "execution_count": 213,
   "metadata": {
    "collapsed": true
   },
   "outputs": [],
   "source": [
    "num_answered = stacked_eps[stacked_eps['round']!='final_jeopardy_round'].groupby(['show_num', 'category', 'question_num'], as_index=False)\\\n",
    ".agg({'answered': lambda x: sum(x=='right')})"
   ]
  },
  {
   "cell_type": "code",
   "execution_count": 214,
   "metadata": {
    "collapsed": true
   },
   "outputs": [],
   "source": [
    "cat_right_count = num_answered.groupby('category', as_index=False)\\\n",
    "                    .agg({'answered': lambda x: sum(x>0)}).sort_values(by='category')"
   ]
  },
  {
   "cell_type": "code",
   "execution_count": 215,
   "metadata": {
    "collapsed": true
   },
   "outputs": [],
   "source": [
    "cat_percent_right = cat_right_count['answered'].values / cat_question_count.values"
   ]
  },
  {
   "cell_type": "code",
   "execution_count": 216,
   "metadata": {
    "collapsed": true
   },
   "outputs": [],
   "source": [
    "cat_percent_right = pd.DataFrame(cat_percent_right)"
   ]
  },
  {
   "cell_type": "code",
   "execution_count": 217,
   "metadata": {
    "collapsed": true
   },
   "outputs": [],
   "source": [
    "cat_percent_right.index = cat_question_count.index"
   ]
  },
  {
   "cell_type": "code",
   "execution_count": 218,
   "metadata": {
    "collapsed": true
   },
   "outputs": [],
   "source": [
    "cat_percent_right.columns = ['percent_right']"
   ]
  },
  {
   "cell_type": "code",
   "execution_count": 219,
   "metadata": {
    "collapsed": true
   },
   "outputs": [],
   "source": [
    "cat_percent_right['count'] = cat_question_count.values"
   ]
  },
  {
   "cell_type": "code",
   "execution_count": 200,
   "metadata": {},
   "outputs": [
    {
     "data": {
      "text/html": [
       "<div>\n",
       "<style scoped>\n",
       "    .dataframe tbody tr th:only-of-type {\n",
       "        vertical-align: middle;\n",
       "    }\n",
       "\n",
       "    .dataframe tbody tr th {\n",
       "        vertical-align: top;\n",
       "    }\n",
       "\n",
       "    .dataframe thead th {\n",
       "        text-align: right;\n",
       "    }\n",
       "</style>\n",
       "<table border=\"1\" class=\"dataframe\">\n",
       "  <thead>\n",
       "    <tr style=\"text-align: right;\">\n",
       "      <th></th>\n",
       "      <th>season</th>\n",
       "      <th>show_num</th>\n",
       "      <th>question</th>\n",
       "      <th>answer</th>\n",
       "      <th>c1_answer</th>\n",
       "      <th>c2_answer</th>\n",
       "      <th>c3_answer</th>\n",
       "    </tr>\n",
       "  </thead>\n",
       "  <tbody>\n",
       "    <tr>\n",
       "      <th>299786</th>\n",
       "      <td>31</td>\n",
       "      <td>6931</td>\n",
       "      <td>An Air Force base on California's Central Coas...</td>\n",
       "      <td>Hoyt Vandenberg</td>\n",
       "      <td>neither</td>\n",
       "      <td>neither</td>\n",
       "      <td>wrong</td>\n",
       "    </tr>\n",
       "    <tr>\n",
       "      <th>299787</th>\n",
       "      <td>31</td>\n",
       "      <td>6931</td>\n",
       "      <td>Appointed by Gerald Ford, he's the only man to...</td>\n",
       "      <td>George H.W. Bush</td>\n",
       "      <td>wrong</td>\n",
       "      <td>neither</td>\n",
       "      <td>neither</td>\n",
       "    </tr>\n",
       "    <tr>\n",
       "      <th>299788</th>\n",
       "      <td>31</td>\n",
       "      <td>6931</td>\n",
       "      <td>This general resigned as director in 2012 afte...</td>\n",
       "      <td>David Petraeus</td>\n",
       "      <td>neither</td>\n",
       "      <td>neither</td>\n",
       "      <td>neither</td>\n",
       "    </tr>\n",
       "    <tr>\n",
       "      <th>299793</th>\n",
       "      <td>31</td>\n",
       "      <td>6931</td>\n",
       "      <td>Once President Clinton's Chief of Staff, he se...</td>\n",
       "      <td>Leon Panetta</td>\n",
       "      <td>neither</td>\n",
       "      <td>neither</td>\n",
       "      <td>neither</td>\n",
       "    </tr>\n",
       "    <tr>\n",
       "      <th>299795</th>\n",
       "      <td>31</td>\n",
       "      <td>6931</td>\n",
       "      <td>This brother of John Foster Dulles resigned as...</td>\n",
       "      <td>Allen Dulles</td>\n",
       "      <td>neither</td>\n",
       "      <td>neither</td>\n",
       "      <td>neither</td>\n",
       "    </tr>\n",
       "  </tbody>\n",
       "</table>\n",
       "</div>"
      ],
      "text/plain": [
       "        season  show_num                                           question  \\\n",
       "299786      31      6931  An Air Force base on California's Central Coas...   \n",
       "299787      31      6931  Appointed by Gerald Ford, he's the only man to...   \n",
       "299788      31      6931  This general resigned as director in 2012 afte...   \n",
       "299793      31      6931  Once President Clinton's Chief of Staff, he se...   \n",
       "299795      31      6931  This brother of John Foster Dulles resigned as...   \n",
       "\n",
       "                  answer c1_answer c2_answer c3_answer  \n",
       "299786   Hoyt Vandenberg   neither   neither     wrong  \n",
       "299787  George H.W. Bush     wrong   neither   neither  \n",
       "299788    David Petraeus   neither   neither   neither  \n",
       "299793      Leon Panetta   neither   neither   neither  \n",
       "299795      Allen Dulles   neither   neither   neither  "
      ]
     },
     "execution_count": 200,
     "metadata": {},
     "output_type": "execute_result"
    }
   ],
   "source": [
    "episodes[episodes['category']=='C.I.A. DIRECTORS'][['season','show_num','question', \n",
    "                                                    'answer', 'c1_answer', 'c2_answer', 'c3_answer']]"
   ]
  },
  {
   "cell_type": "code",
   "execution_count": 223,
   "metadata": {},
   "outputs": [
    {
     "data": {
      "text/html": [
       "<div>\n",
       "<style scoped>\n",
       "    .dataframe tbody tr th:only-of-type {\n",
       "        vertical-align: middle;\n",
       "    }\n",
       "\n",
       "    .dataframe tbody tr th {\n",
       "        vertical-align: top;\n",
       "    }\n",
       "\n",
       "    .dataframe thead th {\n",
       "        text-align: right;\n",
       "    }\n",
       "</style>\n",
       "<table border=\"1\" class=\"dataframe\">\n",
       "  <thead>\n",
       "    <tr style=\"text-align: right;\">\n",
       "      <th></th>\n",
       "      <th>percent_right</th>\n",
       "      <th>count</th>\n",
       "    </tr>\n",
       "  </thead>\n",
       "  <tbody>\n",
       "    <tr>\n",
       "      <th>C.I.A. DIRECTORS</th>\n",
       "      <td>0.0</td>\n",
       "      <td>5</td>\n",
       "    </tr>\n",
       "    <tr>\n",
       "      <th>CENTRAL AMERICAN CAPITALS</th>\n",
       "      <td>0.0</td>\n",
       "      <td>5</td>\n",
       "    </tr>\n",
       "    <tr>\n",
       "      <th>COMMOND BONDS</th>\n",
       "      <td>0.0</td>\n",
       "      <td>5</td>\n",
       "    </tr>\n",
       "    <tr>\n",
       "      <th>GIVE THE ORDER</th>\n",
       "      <td>0.0</td>\n",
       "      <td>5</td>\n",
       "    </tr>\n",
       "    <tr>\n",
       "      <th>QUOTABLE OSCAR HOSTS</th>\n",
       "      <td>0.0</td>\n",
       "      <td>5</td>\n",
       "    </tr>\n",
       "    <tr>\n",
       "      <th>STAR TREK: VOYAGER</th>\n",
       "      <td>0.0</td>\n",
       "      <td>5</td>\n",
       "    </tr>\n",
       "    <tr>\n",
       "      <th>ALFRED HITCHCOCK RESENTS</th>\n",
       "      <td>0.0</td>\n",
       "      <td>4</td>\n",
       "    </tr>\n",
       "    <tr>\n",
       "      <th>ECUADOR OF YORE</th>\n",
       "      <td>0.0</td>\n",
       "      <td>4</td>\n",
       "    </tr>\n",
       "    <tr>\n",
       "      <th>QUEEN'S BIRTHDAY HONOURS 2000</th>\n",
       "      <td>0.0</td>\n",
       "      <td>4</td>\n",
       "    </tr>\n",
       "    <tr>\n",
       "      <th>SCRAMBLED HARRY POTTER CHARACTERS</th>\n",
       "      <td>0.0</td>\n",
       "      <td>4</td>\n",
       "    </tr>\n",
       "    <tr>\n",
       "      <th>SPORTS NOBILITY</th>\n",
       "      <td>0.0</td>\n",
       "      <td>4</td>\n",
       "    </tr>\n",
       "    <tr>\n",
       "      <th>TIME TO JAZZ-ERCISE</th>\n",
       "      <td>0.0</td>\n",
       "      <td>4</td>\n",
       "    </tr>\n",
       "    <tr>\n",
       "      <th>VAN GOGH A-GO-GO</th>\n",
       "      <td>0.0</td>\n",
       "      <td>4</td>\n",
       "    </tr>\n",
       "    <tr>\n",
       "      <th>VIDEO &amp; FILM</th>\n",
       "      <td>0.0</td>\n",
       "      <td>4</td>\n",
       "    </tr>\n",
       "    <tr>\n",
       "      <th>ANTONYM &amp; CLEOPATRA</th>\n",
       "      <td>0.0</td>\n",
       "      <td>3</td>\n",
       "    </tr>\n",
       "    <tr>\n",
       "      <th>BASEBALL RECORDS</th>\n",
       "      <td>0.0</td>\n",
       "      <td>3</td>\n",
       "    </tr>\n",
       "    <tr>\n",
       "      <th>CANADIAN NATIONAL PARKS</th>\n",
       "      <td>0.0</td>\n",
       "      <td>3</td>\n",
       "    </tr>\n",
       "    <tr>\n",
       "      <th>CLASSIC STAR TREK</th>\n",
       "      <td>0.0</td>\n",
       "      <td>3</td>\n",
       "    </tr>\n",
       "    <tr>\n",
       "      <th>DOING HARD RHYME</th>\n",
       "      <td>0.0</td>\n",
       "      <td>3</td>\n",
       "    </tr>\n",
       "    <tr>\n",
       "      <th>HALL &amp; OATES</th>\n",
       "      <td>0.0</td>\n",
       "      <td>3</td>\n",
       "    </tr>\n",
       "    <tr>\n",
       "      <th>HER TOP 40 BAND</th>\n",
       "      <td>0.0</td>\n",
       "      <td>3</td>\n",
       "    </tr>\n",
       "    <tr>\n",
       "      <th>INTERNATIONAL ARCHITECTURE</th>\n",
       "      <td>0.0</td>\n",
       "      <td>3</td>\n",
       "    </tr>\n",
       "    <tr>\n",
       "      <th>LITERARY NUMBERS</th>\n",
       "      <td>0.0</td>\n",
       "      <td>3</td>\n",
       "    </tr>\n",
       "    <tr>\n",
       "      <th>M.I.A.</th>\n",
       "      <td>0.0</td>\n",
       "      <td>3</td>\n",
       "    </tr>\n",
       "    <tr>\n",
       "      <th>MUSIC ACT BY SIBLINGS</th>\n",
       "      <td>0.0</td>\n",
       "      <td>3</td>\n",
       "    </tr>\n",
       "    <tr>\n",
       "      <th>NFL TEAMS BY HALL OF FAMER</th>\n",
       "      <td>0.0</td>\n",
       "      <td>3</td>\n",
       "    </tr>\n",
       "    <tr>\n",
       "      <th>POPULAR CLASSICAL MUSIC</th>\n",
       "      <td>0.0</td>\n",
       "      <td>3</td>\n",
       "    </tr>\n",
       "    <tr>\n",
       "      <th>PRO SPORTS VENUES</th>\n",
       "      <td>0.0</td>\n",
       "      <td>3</td>\n",
       "    </tr>\n",
       "    <tr>\n",
       "      <th>SMALL MAMMALS</th>\n",
       "      <td>0.0</td>\n",
       "      <td>3</td>\n",
       "    </tr>\n",
       "    <tr>\n",
       "      <th>TEAM JACOB</th>\n",
       "      <td>0.0</td>\n",
       "      <td>3</td>\n",
       "    </tr>\n",
       "    <tr>\n",
       "      <th>THAT NEWFANGLED ROCK 'N' ROLL</th>\n",
       "      <td>0.0</td>\n",
       "      <td>3</td>\n",
       "    </tr>\n",
       "    <tr>\n",
       "      <th>THE GREEN PAGES</th>\n",
       "      <td>0.0</td>\n",
       "      <td>3</td>\n",
       "    </tr>\n",
       "    <tr>\n",
       "      <th>THE MILITARY AT HOME</th>\n",
       "      <td>0.0</td>\n",
       "      <td>3</td>\n",
       "    </tr>\n",
       "    <tr>\n",
       "      <th>TOO MUCH INFORMATION</th>\n",
       "      <td>0.0</td>\n",
       "      <td>3</td>\n",
       "    </tr>\n",
       "    <tr>\n",
       "      <th>7 LETTERS, ONLY ONE VOWEL</th>\n",
       "      <td>0.0</td>\n",
       "      <td>2</td>\n",
       "    </tr>\n",
       "    <tr>\n",
       "      <th>A GLASS OF PORT</th>\n",
       "      <td>0.0</td>\n",
       "      <td>2</td>\n",
       "    </tr>\n",
       "    <tr>\n",
       "      <th>CONSONANT-LESS COUNTRIES</th>\n",
       "      <td>0.0</td>\n",
       "      <td>2</td>\n",
       "    </tr>\n",
       "    <tr>\n",
       "      <th>DROP DEAD DIVA</th>\n",
       "      <td>0.0</td>\n",
       "      <td>2</td>\n",
       "    </tr>\n",
       "    <tr>\n",
       "      <th>GETTING A PATENT</th>\n",
       "      <td>0.0</td>\n",
       "      <td>2</td>\n",
       "    </tr>\n",
       "    <tr>\n",
       "      <th>GOD SAVE THE QUEEN</th>\n",
       "      <td>0.0</td>\n",
       "      <td>2</td>\n",
       "    </tr>\n",
       "    <tr>\n",
       "      <th>GREAT DANES</th>\n",
       "      <td>0.0</td>\n",
       "      <td>2</td>\n",
       "    </tr>\n",
       "    <tr>\n",
       "      <th>HANOI</th>\n",
       "      <td>0.0</td>\n",
       "      <td>2</td>\n",
       "    </tr>\n",
       "    <tr>\n",
       "      <th>JOB HUNTING</th>\n",
       "      <td>0.0</td>\n",
       "      <td>2</td>\n",
       "    </tr>\n",
       "    <tr>\n",
       "      <th>MEDIEVAL WORDS</th>\n",
       "      <td>0.0</td>\n",
       "      <td>2</td>\n",
       "    </tr>\n",
       "    <tr>\n",
       "      <th>MEN OF TRINITY COLLEGE</th>\n",
       "      <td>0.0</td>\n",
       "      <td>2</td>\n",
       "    </tr>\n",
       "    <tr>\n",
       "      <th>NATIONAL MARINE SANCTUARIES</th>\n",
       "      <td>0.0</td>\n",
       "      <td>2</td>\n",
       "    </tr>\n",
       "    <tr>\n",
       "      <th>NOTED HISPANICS</th>\n",
       "      <td>0.0</td>\n",
       "      <td>2</td>\n",
       "    </tr>\n",
       "    <tr>\n",
       "      <th>OLD ROME</th>\n",
       "      <td>0.0</td>\n",
       "      <td>2</td>\n",
       "    </tr>\n",
       "    <tr>\n",
       "      <th>ON SATURDAY NIGHT LIVE</th>\n",
       "      <td>0.0</td>\n",
       "      <td>2</td>\n",
       "    </tr>\n",
       "    <tr>\n",
       "      <th>ON THE PRAIRIE</th>\n",
       "      <td>0.0</td>\n",
       "      <td>2</td>\n",
       "    </tr>\n",
       "  </tbody>\n",
       "</table>\n",
       "</div>"
      ],
      "text/plain": [
       "                                   percent_right  count\n",
       "C.I.A. DIRECTORS                             0.0      5\n",
       "CENTRAL AMERICAN CAPITALS                    0.0      5\n",
       "COMMOND BONDS                                0.0      5\n",
       "GIVE THE ORDER                               0.0      5\n",
       "QUOTABLE OSCAR HOSTS                         0.0      5\n",
       "STAR TREK: VOYAGER                           0.0      5\n",
       "ALFRED HITCHCOCK RESENTS                     0.0      4\n",
       "ECUADOR OF YORE                              0.0      4\n",
       "QUEEN'S BIRTHDAY HONOURS 2000                0.0      4\n",
       "SCRAMBLED HARRY POTTER CHARACTERS            0.0      4\n",
       "SPORTS NOBILITY                              0.0      4\n",
       "TIME TO JAZZ-ERCISE                          0.0      4\n",
       "VAN GOGH A-GO-GO                             0.0      4\n",
       "VIDEO & FILM                                 0.0      4\n",
       "ANTONYM & CLEOPATRA                          0.0      3\n",
       "BASEBALL RECORDS                             0.0      3\n",
       "CANADIAN NATIONAL PARKS                      0.0      3\n",
       "CLASSIC STAR TREK                            0.0      3\n",
       "DOING HARD RHYME                             0.0      3\n",
       "HALL & OATES                                 0.0      3\n",
       "HER TOP 40 BAND                              0.0      3\n",
       "INTERNATIONAL ARCHITECTURE                   0.0      3\n",
       "LITERARY NUMBERS                             0.0      3\n",
       "M.I.A.                                       0.0      3\n",
       "MUSIC ACT BY SIBLINGS                        0.0      3\n",
       "NFL TEAMS BY HALL OF FAMER                   0.0      3\n",
       "POPULAR CLASSICAL MUSIC                      0.0      3\n",
       "PRO SPORTS VENUES                            0.0      3\n",
       "SMALL MAMMALS                                0.0      3\n",
       "TEAM JACOB                                   0.0      3\n",
       "THAT NEWFANGLED ROCK 'N' ROLL                0.0      3\n",
       "THE GREEN PAGES                              0.0      3\n",
       "THE MILITARY AT HOME                         0.0      3\n",
       "TOO MUCH INFORMATION                         0.0      3\n",
       "7 LETTERS, ONLY ONE VOWEL                    0.0      2\n",
       "A GLASS OF PORT                              0.0      2\n",
       "CONSONANT-LESS COUNTRIES                     0.0      2\n",
       "DROP DEAD DIVA                               0.0      2\n",
       "GETTING A PATENT                             0.0      2\n",
       "GOD SAVE THE QUEEN                           0.0      2\n",
       "GREAT DANES                                  0.0      2\n",
       "HANOI                                        0.0      2\n",
       "JOB HUNTING                                  0.0      2\n",
       "MEDIEVAL WORDS                               0.0      2\n",
       "MEN OF TRINITY COLLEGE                       0.0      2\n",
       "NATIONAL MARINE SANCTUARIES                  0.0      2\n",
       "NOTED HISPANICS                              0.0      2\n",
       "OLD ROME                                     0.0      2\n",
       "ON SATURDAY NIGHT LIVE                       0.0      2\n",
       "ON THE PRAIRIE                               0.0      2"
      ]
     },
     "execution_count": 223,
     "metadata": {},
     "output_type": "execute_result"
    }
   ],
   "source": [
    "cat_percent_right.sort_values(by=['percent_right', 'count'], ascending=[True,False]).head(50)"
   ]
  },
  {
   "cell_type": "code",
   "execution_count": 86,
   "metadata": {},
   "outputs": [
    {
     "data": {
      "text/html": [
       "<div>\n",
       "<table border=\"1\" class=\"dataframe\">\n",
       "  <thead>\n",
       "    <tr style=\"text-align: right;\">\n",
       "      <th></th>\n",
       "      <th>show_num</th>\n",
       "      <th>season</th>\n",
       "      <th>question_num</th>\n",
       "      <th>DD</th>\n",
       "      <th>winner_winnings</th>\n",
       "      <th>add</th>\n",
       "      <th>cumsum</th>\n",
       "      <th>percent_right</th>\n",
       "      <th>percent_wrong</th>\n",
       "      <th>percent_neither</th>\n",
       "      <th>percent_attempted_correct</th>\n",
       "    </tr>\n",
       "    <tr>\n",
       "      <th>state</th>\n",
       "      <th></th>\n",
       "      <th></th>\n",
       "      <th></th>\n",
       "      <th></th>\n",
       "      <th></th>\n",
       "      <th></th>\n",
       "      <th></th>\n",
       "      <th></th>\n",
       "      <th></th>\n",
       "      <th></th>\n",
       "      <th></th>\n",
       "    </tr>\n",
       "  </thead>\n",
       "  <tbody>\n",
       "    <tr>\n",
       "      <th>Hawaii</th>\n",
       "      <td>4275.860000</td>\n",
       "      <td>19.060000</td>\n",
       "      <td>1.0</td>\n",
       "      <td>0.000000</td>\n",
       "      <td>18163.020000</td>\n",
       "      <td>22.000000</td>\n",
       "      <td>22.000000</td>\n",
       "      <td>0.239624</td>\n",
       "      <td>0.060010</td>\n",
       "      <td>0.700366</td>\n",
       "      <td>0.791646</td>\n",
       "    </tr>\n",
       "    <tr>\n",
       "      <th>Wyoming</th>\n",
       "      <td>4741.071429</td>\n",
       "      <td>20.928571</td>\n",
       "      <td>1.0</td>\n",
       "      <td>0.000000</td>\n",
       "      <td>19728.714286</td>\n",
       "      <td>64.285714</td>\n",
       "      <td>64.285714</td>\n",
       "      <td>0.238004</td>\n",
       "      <td>0.058337</td>\n",
       "      <td>0.703659</td>\n",
       "      <td>0.794137</td>\n",
       "    </tr>\n",
       "    <tr>\n",
       "      <th>Rhode Island</th>\n",
       "      <td>4586.924242</td>\n",
       "      <td>20.484848</td>\n",
       "      <td>1.0</td>\n",
       "      <td>0.015152</td>\n",
       "      <td>17686.560606</td>\n",
       "      <td>48.484848</td>\n",
       "      <td>48.484848</td>\n",
       "      <td>0.264044</td>\n",
       "      <td>0.061401</td>\n",
       "      <td>0.674555</td>\n",
       "      <td>0.802296</td>\n",
       "    </tr>\n",
       "    <tr>\n",
       "      <th>New Mexico</th>\n",
       "      <td>4698.640000</td>\n",
       "      <td>20.920000</td>\n",
       "      <td>1.0</td>\n",
       "      <td>0.000000</td>\n",
       "      <td>17170.380000</td>\n",
       "      <td>38.000000</td>\n",
       "      <td>38.000000</td>\n",
       "      <td>0.259854</td>\n",
       "      <td>0.060107</td>\n",
       "      <td>0.680039</td>\n",
       "      <td>0.807979</td>\n",
       "    </tr>\n",
       "    <tr>\n",
       "      <th>Alabama</th>\n",
       "      <td>5076.248000</td>\n",
       "      <td>22.616000</td>\n",
       "      <td>1.0</td>\n",
       "      <td>0.000000</td>\n",
       "      <td>16799.808000</td>\n",
       "      <td>84.800000</td>\n",
       "      <td>84.800000</td>\n",
       "      <td>0.278449</td>\n",
       "      <td>0.064021</td>\n",
       "      <td>0.657530</td>\n",
       "      <td>0.810383</td>\n",
       "    </tr>\n",
       "    <tr>\n",
       "      <th>Nevada</th>\n",
       "      <td>4420.757143</td>\n",
       "      <td>19.685714</td>\n",
       "      <td>1.0</td>\n",
       "      <td>0.000000</td>\n",
       "      <td>18346.571429</td>\n",
       "      <td>34.285714</td>\n",
       "      <td>34.285714</td>\n",
       "      <td>0.268372</td>\n",
       "      <td>0.057598</td>\n",
       "      <td>0.674030</td>\n",
       "      <td>0.815687</td>\n",
       "    </tr>\n",
       "    <tr>\n",
       "      <th>Maine</th>\n",
       "      <td>4493.877193</td>\n",
       "      <td>20.105263</td>\n",
       "      <td>1.0</td>\n",
       "      <td>0.000000</td>\n",
       "      <td>17393.052632</td>\n",
       "      <td>38.596491</td>\n",
       "      <td>38.596491</td>\n",
       "      <td>0.261910</td>\n",
       "      <td>0.055024</td>\n",
       "      <td>0.683066</td>\n",
       "      <td>0.817560</td>\n",
       "    </tr>\n",
       "    <tr>\n",
       "      <th>Wisconsin</th>\n",
       "      <td>4735.228070</td>\n",
       "      <td>21.122807</td>\n",
       "      <td>1.0</td>\n",
       "      <td>0.000000</td>\n",
       "      <td>16818.760234</td>\n",
       "      <td>42.690058</td>\n",
       "      <td>42.690058</td>\n",
       "      <td>0.276011</td>\n",
       "      <td>0.058184</td>\n",
       "      <td>0.665804</td>\n",
       "      <td>0.819236</td>\n",
       "    </tr>\n",
       "    <tr>\n",
       "      <th>North Carolina</th>\n",
       "      <td>5239.417544</td>\n",
       "      <td>23.350877</td>\n",
       "      <td>1.0</td>\n",
       "      <td>0.003509</td>\n",
       "      <td>17921.950877</td>\n",
       "      <td>55.789474</td>\n",
       "      <td>55.789474</td>\n",
       "      <td>0.271639</td>\n",
       "      <td>0.054107</td>\n",
       "      <td>0.674254</td>\n",
       "      <td>0.820952</td>\n",
       "    </tr>\n",
       "    <tr>\n",
       "      <th>Florida</th>\n",
       "      <td>4655.582734</td>\n",
       "      <td>20.775180</td>\n",
       "      <td>1.0</td>\n",
       "      <td>0.003597</td>\n",
       "      <td>16578.987410</td>\n",
       "      <td>58.812950</td>\n",
       "      <td>58.812950</td>\n",
       "      <td>0.281977</td>\n",
       "      <td>0.058635</td>\n",
       "      <td>0.659388</td>\n",
       "      <td>0.822370</td>\n",
       "    </tr>\n",
       "    <tr>\n",
       "      <th>Oregon</th>\n",
       "      <td>4262.558974</td>\n",
       "      <td>19.056410</td>\n",
       "      <td>1.0</td>\n",
       "      <td>0.000000</td>\n",
       "      <td>14956.276923</td>\n",
       "      <td>32.307692</td>\n",
       "      <td>32.307692</td>\n",
       "      <td>0.269090</td>\n",
       "      <td>0.055897</td>\n",
       "      <td>0.675013</td>\n",
       "      <td>0.822420</td>\n",
       "    </tr>\n",
       "    <tr>\n",
       "      <th>Massachusetts</th>\n",
       "      <td>4742.426950</td>\n",
       "      <td>21.144681</td>\n",
       "      <td>1.0</td>\n",
       "      <td>0.004255</td>\n",
       "      <td>16508.099291</td>\n",
       "      <td>56.595745</td>\n",
       "      <td>56.595745</td>\n",
       "      <td>0.277643</td>\n",
       "      <td>0.056034</td>\n",
       "      <td>0.666323</td>\n",
       "      <td>0.822830</td>\n",
       "    </tr>\n",
       "    <tr>\n",
       "      <th>Georgia</th>\n",
       "      <td>4870.891775</td>\n",
       "      <td>21.686147</td>\n",
       "      <td>1.0</td>\n",
       "      <td>0.008658</td>\n",
       "      <td>16751.294372</td>\n",
       "      <td>62.337662</td>\n",
       "      <td>62.337662</td>\n",
       "      <td>0.286493</td>\n",
       "      <td>0.057993</td>\n",
       "      <td>0.655514</td>\n",
       "      <td>0.822866</td>\n",
       "    </tr>\n",
       "    <tr>\n",
       "      <th>Pennsylvania</th>\n",
       "      <td>4585.340223</td>\n",
       "      <td>20.484897</td>\n",
       "      <td>1.0</td>\n",
       "      <td>0.001590</td>\n",
       "      <td>16852.721781</td>\n",
       "      <td>53.100159</td>\n",
       "      <td>53.100159</td>\n",
       "      <td>0.278092</td>\n",
       "      <td>0.056632</td>\n",
       "      <td>0.665276</td>\n",
       "      <td>0.823576</td>\n",
       "    </tr>\n",
       "    <tr>\n",
       "      <th>Missouri</th>\n",
       "      <td>4761.831111</td>\n",
       "      <td>21.213333</td>\n",
       "      <td>1.0</td>\n",
       "      <td>0.000000</td>\n",
       "      <td>15827.715556</td>\n",
       "      <td>42.666667</td>\n",
       "      <td>42.666667</td>\n",
       "      <td>0.280960</td>\n",
       "      <td>0.057916</td>\n",
       "      <td>0.661124</td>\n",
       "      <td>0.823692</td>\n",
       "    </tr>\n",
       "    <tr>\n",
       "      <th>Colorado</th>\n",
       "      <td>5406.184080</td>\n",
       "      <td>23.995025</td>\n",
       "      <td>1.0</td>\n",
       "      <td>0.000000</td>\n",
       "      <td>17681.462687</td>\n",
       "      <td>53.233831</td>\n",
       "      <td>53.233831</td>\n",
       "      <td>0.288407</td>\n",
       "      <td>0.057794</td>\n",
       "      <td>0.653799</td>\n",
       "      <td>0.825413</td>\n",
       "    </tr>\n",
       "    <tr>\n",
       "      <th>Alaska</th>\n",
       "      <td>5445.678571</td>\n",
       "      <td>24.285714</td>\n",
       "      <td>1.0</td>\n",
       "      <td>0.000000</td>\n",
       "      <td>18378.750000</td>\n",
       "      <td>35.714286</td>\n",
       "      <td>35.714286</td>\n",
       "      <td>0.295407</td>\n",
       "      <td>0.060473</td>\n",
       "      <td>0.644120</td>\n",
       "      <td>0.825485</td>\n",
       "    </tr>\n",
       "    <tr>\n",
       "      <th>Washington</th>\n",
       "      <td>4917.907975</td>\n",
       "      <td>21.877301</td>\n",
       "      <td>1.0</td>\n",
       "      <td>0.000000</td>\n",
       "      <td>17322.981595</td>\n",
       "      <td>55.214724</td>\n",
       "      <td>55.214724</td>\n",
       "      <td>0.281586</td>\n",
       "      <td>0.055444</td>\n",
       "      <td>0.662969</td>\n",
       "      <td>0.826249</td>\n",
       "    </tr>\n",
       "    <tr>\n",
       "      <th>Nebraska</th>\n",
       "      <td>5665.604167</td>\n",
       "      <td>25.187500</td>\n",
       "      <td>1.0</td>\n",
       "      <td>0.000000</td>\n",
       "      <td>19829.625000</td>\n",
       "      <td>50.000000</td>\n",
       "      <td>50.000000</td>\n",
       "      <td>0.262342</td>\n",
       "      <td>0.052350</td>\n",
       "      <td>0.685308</td>\n",
       "      <td>0.826566</td>\n",
       "    </tr>\n",
       "    <tr>\n",
       "      <th>California</th>\n",
       "      <td>3936.802974</td>\n",
       "      <td>17.624535</td>\n",
       "      <td>1.0</td>\n",
       "      <td>0.002974</td>\n",
       "      <td>15366.372119</td>\n",
       "      <td>48.550186</td>\n",
       "      <td>48.550186</td>\n",
       "      <td>0.285731</td>\n",
       "      <td>0.056880</td>\n",
       "      <td>0.657389</td>\n",
       "      <td>0.826984</td>\n",
       "    </tr>\n",
       "    <tr>\n",
       "      <th>Virginia</th>\n",
       "      <td>4573.788235</td>\n",
       "      <td>20.420588</td>\n",
       "      <td>1.0</td>\n",
       "      <td>0.000000</td>\n",
       "      <td>16359.925000</td>\n",
       "      <td>50.588235</td>\n",
       "      <td>50.588235</td>\n",
       "      <td>0.283434</td>\n",
       "      <td>0.056015</td>\n",
       "      <td>0.660551</td>\n",
       "      <td>0.828275</td>\n",
       "    </tr>\n",
       "    <tr>\n",
       "      <th>Connecticut</th>\n",
       "      <td>4371.106464</td>\n",
       "      <td>19.520913</td>\n",
       "      <td>1.0</td>\n",
       "      <td>0.003802</td>\n",
       "      <td>15115.098859</td>\n",
       "      <td>40.684411</td>\n",
       "      <td>40.684411</td>\n",
       "      <td>0.270336</td>\n",
       "      <td>0.055341</td>\n",
       "      <td>0.674323</td>\n",
       "      <td>0.829221</td>\n",
       "    </tr>\n",
       "    <tr>\n",
       "      <th>Louisiana</th>\n",
       "      <td>4429.423077</td>\n",
       "      <td>19.846154</td>\n",
       "      <td>1.0</td>\n",
       "      <td>0.005495</td>\n",
       "      <td>14725.461538</td>\n",
       "      <td>51.648352</td>\n",
       "      <td>51.648352</td>\n",
       "      <td>0.291411</td>\n",
       "      <td>0.057947</td>\n",
       "      <td>0.650641</td>\n",
       "      <td>0.829262</td>\n",
       "    </tr>\n",
       "    <tr>\n",
       "      <th>Mississippi</th>\n",
       "      <td>4262.825000</td>\n",
       "      <td>19.100000</td>\n",
       "      <td>1.0</td>\n",
       "      <td>0.000000</td>\n",
       "      <td>16355.025000</td>\n",
       "      <td>47.500000</td>\n",
       "      <td>47.500000</td>\n",
       "      <td>0.277115</td>\n",
       "      <td>0.054105</td>\n",
       "      <td>0.668780</td>\n",
       "      <td>0.829586</td>\n",
       "    </tr>\n",
       "    <tr>\n",
       "      <th>Kansas</th>\n",
       "      <td>4608.561798</td>\n",
       "      <td>20.606742</td>\n",
       "      <td>1.0</td>\n",
       "      <td>0.000000</td>\n",
       "      <td>16306.494382</td>\n",
       "      <td>40.449438</td>\n",
       "      <td>40.449438</td>\n",
       "      <td>0.269602</td>\n",
       "      <td>0.053242</td>\n",
       "      <td>0.677156</td>\n",
       "      <td>0.829595</td>\n",
       "    </tr>\n",
       "    <tr>\n",
       "      <th>South Carolina</th>\n",
       "      <td>4894.000000</td>\n",
       "      <td>21.810458</td>\n",
       "      <td>1.0</td>\n",
       "      <td>0.006536</td>\n",
       "      <td>16481.235294</td>\n",
       "      <td>64.705882</td>\n",
       "      <td>64.705882</td>\n",
       "      <td>0.277632</td>\n",
       "      <td>0.053414</td>\n",
       "      <td>0.668954</td>\n",
       "      <td>0.830106</td>\n",
       "    </tr>\n",
       "    <tr>\n",
       "      <th>New York</th>\n",
       "      <td>4821.618812</td>\n",
       "      <td>21.523402</td>\n",
       "      <td>1.0</td>\n",
       "      <td>0.007201</td>\n",
       "      <td>17283.111611</td>\n",
       "      <td>57.335734</td>\n",
       "      <td>57.335734</td>\n",
       "      <td>0.282098</td>\n",
       "      <td>0.054872</td>\n",
       "      <td>0.663030</td>\n",
       "      <td>0.830209</td>\n",
       "    </tr>\n",
       "    <tr>\n",
       "      <th>Illinois</th>\n",
       "      <td>4824.690158</td>\n",
       "      <td>21.537060</td>\n",
       "      <td>1.0</td>\n",
       "      <td>0.002430</td>\n",
       "      <td>16465.602673</td>\n",
       "      <td>59.781288</td>\n",
       "      <td>59.781288</td>\n",
       "      <td>0.288600</td>\n",
       "      <td>0.055798</td>\n",
       "      <td>0.655602</td>\n",
       "      <td>0.830311</td>\n",
       "    </tr>\n",
       "    <tr>\n",
       "      <th>South Dakota</th>\n",
       "      <td>4230.809524</td>\n",
       "      <td>18.857143</td>\n",
       "      <td>1.0</td>\n",
       "      <td>0.000000</td>\n",
       "      <td>20143.000000</td>\n",
       "      <td>-42.857143</td>\n",
       "      <td>-42.857143</td>\n",
       "      <td>0.279433</td>\n",
       "      <td>0.053504</td>\n",
       "      <td>0.667063</td>\n",
       "      <td>0.830627</td>\n",
       "    </tr>\n",
       "    <tr>\n",
       "      <th>New Jersey</th>\n",
       "      <td>4381.769504</td>\n",
       "      <td>19.592199</td>\n",
       "      <td>1.0</td>\n",
       "      <td>0.003546</td>\n",
       "      <td>16328.863475</td>\n",
       "      <td>59.751773</td>\n",
       "      <td>59.751773</td>\n",
       "      <td>0.285426</td>\n",
       "      <td>0.055048</td>\n",
       "      <td>0.659526</td>\n",
       "      <td>0.831247</td>\n",
       "    </tr>\n",
       "    <tr>\n",
       "      <th>Kentucky</th>\n",
       "      <td>5077.169154</td>\n",
       "      <td>22.592040</td>\n",
       "      <td>1.0</td>\n",
       "      <td>0.009950</td>\n",
       "      <td>19453.890547</td>\n",
       "      <td>55.721393</td>\n",
       "      <td>55.721393</td>\n",
       "      <td>0.298414</td>\n",
       "      <td>0.056382</td>\n",
       "      <td>0.645204</td>\n",
       "      <td>0.831749</td>\n",
       "    </tr>\n",
       "    <tr>\n",
       "      <th>Maryland</th>\n",
       "      <td>4595.039088</td>\n",
       "      <td>20.521173</td>\n",
       "      <td>1.0</td>\n",
       "      <td>0.004886</td>\n",
       "      <td>16375.009772</td>\n",
       "      <td>47.231270</td>\n",
       "      <td>47.231270</td>\n",
       "      <td>0.279357</td>\n",
       "      <td>0.054123</td>\n",
       "      <td>0.666520</td>\n",
       "      <td>0.832201</td>\n",
       "    </tr>\n",
       "    <tr>\n",
       "      <th>Other</th>\n",
       "      <td>4258.340444</td>\n",
       "      <td>18.990222</td>\n",
       "      <td>1.0</td>\n",
       "      <td>0.003556</td>\n",
       "      <td>16503.921778</td>\n",
       "      <td>48.533333</td>\n",
       "      <td>48.533333</td>\n",
       "      <td>0.290118</td>\n",
       "      <td>0.054283</td>\n",
       "      <td>0.655600</td>\n",
       "      <td>0.833880</td>\n",
       "    </tr>\n",
       "    <tr>\n",
       "      <th>Iowa</th>\n",
       "      <td>4316.365079</td>\n",
       "      <td>19.365079</td>\n",
       "      <td>1.0</td>\n",
       "      <td>0.000000</td>\n",
       "      <td>15495.396825</td>\n",
       "      <td>50.000000</td>\n",
       "      <td>50.000000</td>\n",
       "      <td>0.302630</td>\n",
       "      <td>0.057407</td>\n",
       "      <td>0.639963</td>\n",
       "      <td>0.834250</td>\n",
       "    </tr>\n",
       "    <tr>\n",
       "      <th>Vermont</th>\n",
       "      <td>5189.426230</td>\n",
       "      <td>23.114754</td>\n",
       "      <td>1.0</td>\n",
       "      <td>0.016393</td>\n",
       "      <td>19907.754098</td>\n",
       "      <td>62.295082</td>\n",
       "      <td>62.295082</td>\n",
       "      <td>0.286443</td>\n",
       "      <td>0.052507</td>\n",
       "      <td>0.661050</td>\n",
       "      <td>0.834636</td>\n",
       "    </tr>\n",
       "    <tr>\n",
       "      <th>Texas</th>\n",
       "      <td>4869.816746</td>\n",
       "      <td>21.717220</td>\n",
       "      <td>1.0</td>\n",
       "      <td>0.003160</td>\n",
       "      <td>16439.666667</td>\n",
       "      <td>50.078989</td>\n",
       "      <td>50.078989</td>\n",
       "      <td>0.283516</td>\n",
       "      <td>0.053806</td>\n",
       "      <td>0.662678</td>\n",
       "      <td>0.835584</td>\n",
       "    </tr>\n",
       "    <tr>\n",
       "      <th>Arizona</th>\n",
       "      <td>4033.941860</td>\n",
       "      <td>18.081395</td>\n",
       "      <td>1.0</td>\n",
       "      <td>0.005814</td>\n",
       "      <td>15735.052326</td>\n",
       "      <td>51.162791</td>\n",
       "      <td>51.162791</td>\n",
       "      <td>0.292408</td>\n",
       "      <td>0.053881</td>\n",
       "      <td>0.653711</td>\n",
       "      <td>0.835586</td>\n",
       "    </tr>\n",
       "    <tr>\n",
       "      <th>West Virginia</th>\n",
       "      <td>4686.360000</td>\n",
       "      <td>20.820000</td>\n",
       "      <td>1.0</td>\n",
       "      <td>0.000000</td>\n",
       "      <td>15953.160000</td>\n",
       "      <td>76.000000</td>\n",
       "      <td>76.000000</td>\n",
       "      <td>0.295432</td>\n",
       "      <td>0.053624</td>\n",
       "      <td>0.650944</td>\n",
       "      <td>0.836818</td>\n",
       "    </tr>\n",
       "    <tr>\n",
       "      <th>D.C.</th>\n",
       "      <td>5043.525140</td>\n",
       "      <td>22.522346</td>\n",
       "      <td>1.0</td>\n",
       "      <td>0.005587</td>\n",
       "      <td>18031.458101</td>\n",
       "      <td>58.379888</td>\n",
       "      <td>58.379888</td>\n",
       "      <td>0.288650</td>\n",
       "      <td>0.052640</td>\n",
       "      <td>0.658710</td>\n",
       "      <td>0.837642</td>\n",
       "    </tr>\n",
       "    <tr>\n",
       "      <th>Arkansas</th>\n",
       "      <td>5248.013889</td>\n",
       "      <td>23.208333</td>\n",
       "      <td>1.0</td>\n",
       "      <td>0.013889</td>\n",
       "      <td>19323.861111</td>\n",
       "      <td>72.222222</td>\n",
       "      <td>72.222222</td>\n",
       "      <td>0.304940</td>\n",
       "      <td>0.055915</td>\n",
       "      <td>0.639144</td>\n",
       "      <td>0.837841</td>\n",
       "    </tr>\n",
       "    <tr>\n",
       "      <th>Michigan</th>\n",
       "      <td>4747.446927</td>\n",
       "      <td>21.192737</td>\n",
       "      <td>1.0</td>\n",
       "      <td>0.000000</td>\n",
       "      <td>16474.885475</td>\n",
       "      <td>48.603352</td>\n",
       "      <td>48.603352</td>\n",
       "      <td>0.290207</td>\n",
       "      <td>0.053756</td>\n",
       "      <td>0.656038</td>\n",
       "      <td>0.838105</td>\n",
       "    </tr>\n",
       "    <tr>\n",
       "      <th>Indiana</th>\n",
       "      <td>4666.790816</td>\n",
       "      <td>20.841837</td>\n",
       "      <td>1.0</td>\n",
       "      <td>0.000000</td>\n",
       "      <td>16605.989796</td>\n",
       "      <td>47.448980</td>\n",
       "      <td>47.448980</td>\n",
       "      <td>0.287117</td>\n",
       "      <td>0.053070</td>\n",
       "      <td>0.659813</td>\n",
       "      <td>0.839084</td>\n",
       "    </tr>\n",
       "    <tr>\n",
       "      <th>Minnesota</th>\n",
       "      <td>4581.418919</td>\n",
       "      <td>20.414414</td>\n",
       "      <td>1.0</td>\n",
       "      <td>0.004505</td>\n",
       "      <td>16909.081081</td>\n",
       "      <td>58.558559</td>\n",
       "      <td>58.558559</td>\n",
       "      <td>0.302230</td>\n",
       "      <td>0.051884</td>\n",
       "      <td>0.645886</td>\n",
       "      <td>0.839275</td>\n",
       "    </tr>\n",
       "    <tr>\n",
       "      <th>Oklahoma</th>\n",
       "      <td>5015.176471</td>\n",
       "      <td>22.343137</td>\n",
       "      <td>1.0</td>\n",
       "      <td>0.000000</td>\n",
       "      <td>17097.656863</td>\n",
       "      <td>75.490196</td>\n",
       "      <td>75.490196</td>\n",
       "      <td>0.285949</td>\n",
       "      <td>0.052429</td>\n",
       "      <td>0.661621</td>\n",
       "      <td>0.839620</td>\n",
       "    </tr>\n",
       "    <tr>\n",
       "      <th>Tennessee</th>\n",
       "      <td>5177.605882</td>\n",
       "      <td>23.070588</td>\n",
       "      <td>1.0</td>\n",
       "      <td>0.005882</td>\n",
       "      <td>17865.917647</td>\n",
       "      <td>61.176471</td>\n",
       "      <td>61.176471</td>\n",
       "      <td>0.269431</td>\n",
       "      <td>0.050680</td>\n",
       "      <td>0.679890</td>\n",
       "      <td>0.839670</td>\n",
       "    </tr>\n",
       "    <tr>\n",
       "      <th>Ohio</th>\n",
       "      <td>4712.534615</td>\n",
       "      <td>21.040385</td>\n",
       "      <td>1.0</td>\n",
       "      <td>0.003846</td>\n",
       "      <td>16922.911538</td>\n",
       "      <td>76.346154</td>\n",
       "      <td>76.346154</td>\n",
       "      <td>0.298594</td>\n",
       "      <td>0.054716</td>\n",
       "      <td>0.646690</td>\n",
       "      <td>0.840201</td>\n",
       "    </tr>\n",
       "    <tr>\n",
       "      <th>Idaho</th>\n",
       "      <td>5649.333333</td>\n",
       "      <td>25.090909</td>\n",
       "      <td>1.0</td>\n",
       "      <td>0.000000</td>\n",
       "      <td>22019.787879</td>\n",
       "      <td>75.757576</td>\n",
       "      <td>75.757576</td>\n",
       "      <td>0.303912</td>\n",
       "      <td>0.047143</td>\n",
       "      <td>0.648946</td>\n",
       "      <td>0.856406</td>\n",
       "    </tr>\n",
       "    <tr>\n",
       "      <th>New Hampshire</th>\n",
       "      <td>4946.428571</td>\n",
       "      <td>22.040816</td>\n",
       "      <td>1.0</td>\n",
       "      <td>0.000000</td>\n",
       "      <td>18068.673469</td>\n",
       "      <td>61.224490</td>\n",
       "      <td>61.224490</td>\n",
       "      <td>0.296177</td>\n",
       "      <td>0.046978</td>\n",
       "      <td>0.656845</td>\n",
       "      <td>0.856591</td>\n",
       "    </tr>\n",
       "    <tr>\n",
       "      <th>Delaware</th>\n",
       "      <td>5351.975000</td>\n",
       "      <td>23.900000</td>\n",
       "      <td>1.0</td>\n",
       "      <td>0.000000</td>\n",
       "      <td>20212.687500</td>\n",
       "      <td>76.250000</td>\n",
       "      <td>76.250000</td>\n",
       "      <td>0.320927</td>\n",
       "      <td>0.050264</td>\n",
       "      <td>0.628809</td>\n",
       "      <td>0.857463</td>\n",
       "    </tr>\n",
       "    <tr>\n",
       "      <th>Montana</th>\n",
       "      <td>3224.281250</td>\n",
       "      <td>14.500000</td>\n",
       "      <td>1.0</td>\n",
       "      <td>0.000000</td>\n",
       "      <td>12514.531250</td>\n",
       "      <td>31.250000</td>\n",
       "      <td>31.250000</td>\n",
       "      <td>0.261020</td>\n",
       "      <td>0.042015</td>\n",
       "      <td>0.696965</td>\n",
       "      <td>0.862534</td>\n",
       "    </tr>\n",
       "    <tr>\n",
       "      <th>Utah</th>\n",
       "      <td>4979.206612</td>\n",
       "      <td>22.173554</td>\n",
       "      <td>1.0</td>\n",
       "      <td>0.000000</td>\n",
       "      <td>27787.685950</td>\n",
       "      <td>113.223140</td>\n",
       "      <td>113.223140</td>\n",
       "      <td>0.477568</td>\n",
       "      <td>0.056365</td>\n",
       "      <td>0.466067</td>\n",
       "      <td>0.884004</td>\n",
       "    </tr>\n",
       "    <tr>\n",
       "      <th>North Dakota</th>\n",
       "      <td>3659.000000</td>\n",
       "      <td>16.250000</td>\n",
       "      <td>1.0</td>\n",
       "      <td>0.000000</td>\n",
       "      <td>14124.750000</td>\n",
       "      <td>150.000000</td>\n",
       "      <td>150.000000</td>\n",
       "      <td>0.401639</td>\n",
       "      <td>0.053279</td>\n",
       "      <td>0.545082</td>\n",
       "      <td>0.887296</td>\n",
       "    </tr>\n",
       "  </tbody>\n",
       "</table>\n",
       "</div>"
      ],
      "text/plain": [
       "                   show_num     season  question_num        DD  \\\n",
       "state                                                            \n",
       "Hawaii          4275.860000  19.060000           1.0  0.000000   \n",
       "Wyoming         4741.071429  20.928571           1.0  0.000000   \n",
       "Rhode Island    4586.924242  20.484848           1.0  0.015152   \n",
       "New Mexico      4698.640000  20.920000           1.0  0.000000   \n",
       "Alabama         5076.248000  22.616000           1.0  0.000000   \n",
       "Nevada          4420.757143  19.685714           1.0  0.000000   \n",
       "Maine           4493.877193  20.105263           1.0  0.000000   \n",
       "Wisconsin       4735.228070  21.122807           1.0  0.000000   \n",
       "North Carolina  5239.417544  23.350877           1.0  0.003509   \n",
       "Florida         4655.582734  20.775180           1.0  0.003597   \n",
       "Oregon          4262.558974  19.056410           1.0  0.000000   \n",
       "Massachusetts   4742.426950  21.144681           1.0  0.004255   \n",
       "Georgia         4870.891775  21.686147           1.0  0.008658   \n",
       "Pennsylvania    4585.340223  20.484897           1.0  0.001590   \n",
       "Missouri        4761.831111  21.213333           1.0  0.000000   \n",
       "Colorado        5406.184080  23.995025           1.0  0.000000   \n",
       "Alaska          5445.678571  24.285714           1.0  0.000000   \n",
       "Washington      4917.907975  21.877301           1.0  0.000000   \n",
       "Nebraska        5665.604167  25.187500           1.0  0.000000   \n",
       "California      3936.802974  17.624535           1.0  0.002974   \n",
       "Virginia        4573.788235  20.420588           1.0  0.000000   \n",
       "Connecticut     4371.106464  19.520913           1.0  0.003802   \n",
       "Louisiana       4429.423077  19.846154           1.0  0.005495   \n",
       "Mississippi     4262.825000  19.100000           1.0  0.000000   \n",
       "Kansas          4608.561798  20.606742           1.0  0.000000   \n",
       "South Carolina  4894.000000  21.810458           1.0  0.006536   \n",
       "New York        4821.618812  21.523402           1.0  0.007201   \n",
       "Illinois        4824.690158  21.537060           1.0  0.002430   \n",
       "South Dakota    4230.809524  18.857143           1.0  0.000000   \n",
       "New Jersey      4381.769504  19.592199           1.0  0.003546   \n",
       "Kentucky        5077.169154  22.592040           1.0  0.009950   \n",
       "Maryland        4595.039088  20.521173           1.0  0.004886   \n",
       "Other           4258.340444  18.990222           1.0  0.003556   \n",
       "Iowa            4316.365079  19.365079           1.0  0.000000   \n",
       "Vermont         5189.426230  23.114754           1.0  0.016393   \n",
       "Texas           4869.816746  21.717220           1.0  0.003160   \n",
       "Arizona         4033.941860  18.081395           1.0  0.005814   \n",
       "West Virginia   4686.360000  20.820000           1.0  0.000000   \n",
       "D.C.            5043.525140  22.522346           1.0  0.005587   \n",
       "Arkansas        5248.013889  23.208333           1.0  0.013889   \n",
       "Michigan        4747.446927  21.192737           1.0  0.000000   \n",
       "Indiana         4666.790816  20.841837           1.0  0.000000   \n",
       "Minnesota       4581.418919  20.414414           1.0  0.004505   \n",
       "Oklahoma        5015.176471  22.343137           1.0  0.000000   \n",
       "Tennessee       5177.605882  23.070588           1.0  0.005882   \n",
       "Ohio            4712.534615  21.040385           1.0  0.003846   \n",
       "Idaho           5649.333333  25.090909           1.0  0.000000   \n",
       "New Hampshire   4946.428571  22.040816           1.0  0.000000   \n",
       "Delaware        5351.975000  23.900000           1.0  0.000000   \n",
       "Montana         3224.281250  14.500000           1.0  0.000000   \n",
       "Utah            4979.206612  22.173554           1.0  0.000000   \n",
       "North Dakota    3659.000000  16.250000           1.0  0.000000   \n",
       "\n",
       "                winner_winnings         add      cumsum  percent_right  \\\n",
       "state                                                                    \n",
       "Hawaii             18163.020000   22.000000   22.000000       0.239624   \n",
       "Wyoming            19728.714286   64.285714   64.285714       0.238004   \n",
       "Rhode Island       17686.560606   48.484848   48.484848       0.264044   \n",
       "New Mexico         17170.380000   38.000000   38.000000       0.259854   \n",
       "Alabama            16799.808000   84.800000   84.800000       0.278449   \n",
       "Nevada             18346.571429   34.285714   34.285714       0.268372   \n",
       "Maine              17393.052632   38.596491   38.596491       0.261910   \n",
       "Wisconsin          16818.760234   42.690058   42.690058       0.276011   \n",
       "North Carolina     17921.950877   55.789474   55.789474       0.271639   \n",
       "Florida            16578.987410   58.812950   58.812950       0.281977   \n",
       "Oregon             14956.276923   32.307692   32.307692       0.269090   \n",
       "Massachusetts      16508.099291   56.595745   56.595745       0.277643   \n",
       "Georgia            16751.294372   62.337662   62.337662       0.286493   \n",
       "Pennsylvania       16852.721781   53.100159   53.100159       0.278092   \n",
       "Missouri           15827.715556   42.666667   42.666667       0.280960   \n",
       "Colorado           17681.462687   53.233831   53.233831       0.288407   \n",
       "Alaska             18378.750000   35.714286   35.714286       0.295407   \n",
       "Washington         17322.981595   55.214724   55.214724       0.281586   \n",
       "Nebraska           19829.625000   50.000000   50.000000       0.262342   \n",
       "California         15366.372119   48.550186   48.550186       0.285731   \n",
       "Virginia           16359.925000   50.588235   50.588235       0.283434   \n",
       "Connecticut        15115.098859   40.684411   40.684411       0.270336   \n",
       "Louisiana          14725.461538   51.648352   51.648352       0.291411   \n",
       "Mississippi        16355.025000   47.500000   47.500000       0.277115   \n",
       "Kansas             16306.494382   40.449438   40.449438       0.269602   \n",
       "South Carolina     16481.235294   64.705882   64.705882       0.277632   \n",
       "New York           17283.111611   57.335734   57.335734       0.282098   \n",
       "Illinois           16465.602673   59.781288   59.781288       0.288600   \n",
       "South Dakota       20143.000000  -42.857143  -42.857143       0.279433   \n",
       "New Jersey         16328.863475   59.751773   59.751773       0.285426   \n",
       "Kentucky           19453.890547   55.721393   55.721393       0.298414   \n",
       "Maryland           16375.009772   47.231270   47.231270       0.279357   \n",
       "Other              16503.921778   48.533333   48.533333       0.290118   \n",
       "Iowa               15495.396825   50.000000   50.000000       0.302630   \n",
       "Vermont            19907.754098   62.295082   62.295082       0.286443   \n",
       "Texas              16439.666667   50.078989   50.078989       0.283516   \n",
       "Arizona            15735.052326   51.162791   51.162791       0.292408   \n",
       "West Virginia      15953.160000   76.000000   76.000000       0.295432   \n",
       "D.C.               18031.458101   58.379888   58.379888       0.288650   \n",
       "Arkansas           19323.861111   72.222222   72.222222       0.304940   \n",
       "Michigan           16474.885475   48.603352   48.603352       0.290207   \n",
       "Indiana            16605.989796   47.448980   47.448980       0.287117   \n",
       "Minnesota          16909.081081   58.558559   58.558559       0.302230   \n",
       "Oklahoma           17097.656863   75.490196   75.490196       0.285949   \n",
       "Tennessee          17865.917647   61.176471   61.176471       0.269431   \n",
       "Ohio               16922.911538   76.346154   76.346154       0.298594   \n",
       "Idaho              22019.787879   75.757576   75.757576       0.303912   \n",
       "New Hampshire      18068.673469   61.224490   61.224490       0.296177   \n",
       "Delaware           20212.687500   76.250000   76.250000       0.320927   \n",
       "Montana            12514.531250   31.250000   31.250000       0.261020   \n",
       "Utah               27787.685950  113.223140  113.223140       0.477568   \n",
       "North Dakota       14124.750000  150.000000  150.000000       0.401639   \n",
       "\n",
       "                percent_wrong  percent_neither  percent_attempted_correct  \n",
       "state                                                                      \n",
       "Hawaii               0.060010         0.700366                   0.791646  \n",
       "Wyoming              0.058337         0.703659                   0.794137  \n",
       "Rhode Island         0.061401         0.674555                   0.802296  \n",
       "New Mexico           0.060107         0.680039                   0.807979  \n",
       "Alabama              0.064021         0.657530                   0.810383  \n",
       "Nevada               0.057598         0.674030                   0.815687  \n",
       "Maine                0.055024         0.683066                   0.817560  \n",
       "Wisconsin            0.058184         0.665804                   0.819236  \n",
       "North Carolina       0.054107         0.674254                   0.820952  \n",
       "Florida              0.058635         0.659388                   0.822370  \n",
       "Oregon               0.055897         0.675013                   0.822420  \n",
       "Massachusetts        0.056034         0.666323                   0.822830  \n",
       "Georgia              0.057993         0.655514                   0.822866  \n",
       "Pennsylvania         0.056632         0.665276                   0.823576  \n",
       "Missouri             0.057916         0.661124                   0.823692  \n",
       "Colorado             0.057794         0.653799                   0.825413  \n",
       "Alaska               0.060473         0.644120                   0.825485  \n",
       "Washington           0.055444         0.662969                   0.826249  \n",
       "Nebraska             0.052350         0.685308                   0.826566  \n",
       "California           0.056880         0.657389                   0.826984  \n",
       "Virginia             0.056015         0.660551                   0.828275  \n",
       "Connecticut          0.055341         0.674323                   0.829221  \n",
       "Louisiana            0.057947         0.650641                   0.829262  \n",
       "Mississippi          0.054105         0.668780                   0.829586  \n",
       "Kansas               0.053242         0.677156                   0.829595  \n",
       "South Carolina       0.053414         0.668954                   0.830106  \n",
       "New York             0.054872         0.663030                   0.830209  \n",
       "Illinois             0.055798         0.655602                   0.830311  \n",
       "South Dakota         0.053504         0.667063                   0.830627  \n",
       "New Jersey           0.055048         0.659526                   0.831247  \n",
       "Kentucky             0.056382         0.645204                   0.831749  \n",
       "Maryland             0.054123         0.666520                   0.832201  \n",
       "Other                0.054283         0.655600                   0.833880  \n",
       "Iowa                 0.057407         0.639963                   0.834250  \n",
       "Vermont              0.052507         0.661050                   0.834636  \n",
       "Texas                0.053806         0.662678                   0.835584  \n",
       "Arizona              0.053881         0.653711                   0.835586  \n",
       "West Virginia        0.053624         0.650944                   0.836818  \n",
       "D.C.                 0.052640         0.658710                   0.837642  \n",
       "Arkansas             0.055915         0.639144                   0.837841  \n",
       "Michigan             0.053756         0.656038                   0.838105  \n",
       "Indiana              0.053070         0.659813                   0.839084  \n",
       "Minnesota            0.051884         0.645886                   0.839275  \n",
       "Oklahoma             0.052429         0.661621                   0.839620  \n",
       "Tennessee            0.050680         0.679890                   0.839670  \n",
       "Ohio                 0.054716         0.646690                   0.840201  \n",
       "Idaho                0.047143         0.648946                   0.856406  \n",
       "New Hampshire        0.046978         0.656845                   0.856591  \n",
       "Delaware             0.050264         0.628809                   0.857463  \n",
       "Montana              0.042015         0.696965                   0.862534  \n",
       "Utah                 0.056365         0.466067                   0.884004  \n",
       "North Dakota         0.053279         0.545082                   0.887296  "
      ]
     },
     "execution_count": 86,
     "metadata": {},
     "output_type": "execute_result"
    }
   ],
   "source": [
    "mean_state_values.sort_values(by='percent_attempted_correct')"
   ]
  },
  {
   "cell_type": "code",
   "execution_count": 68,
   "metadata": {
    "collapsed": true
   },
   "outputs": [],
   "source": [
    "unique_locs = list(zip(*np.unique([x.replace(', ', ',') \n",
    "                                   for x in \n",
    "                                   episodes.groupby('show_num')[['c1_loc', 'c2_loc',\n",
    "                                                                 'c3_loc', 'c4_loc']].first().values.ravel('K')], \n",
    "                                  return_counts=True)))"
   ]
  },
  {
   "cell_type": "code",
   "execution_count": 69,
   "metadata": {
    "collapsed": true
   },
   "outputs": [],
   "source": [
    "unique_locs.sort(key=operator.itemgetter(1), reverse=True)"
   ]
  },
  {
   "cell_type": "code",
   "execution_count": 75,
   "metadata": {
    "collapsed": true
   },
   "outputs": [],
   "source": [
    "state_locs = list(itertools.compress(list(zip(*unique_locs))[0],\n",
    "                                     [state and not uni and not the \n",
    "                                      for state, uni, the in zip(has_state,has_uni, has_the)]))"
   ]
  },
  {
   "cell_type": "code",
   "execution_count": 77,
   "metadata": {
    "collapsed": true,
    "scrolled": true
   },
   "outputs": [],
   "source": [
    "scores_by_season = episodes.groupby('show_num').last().set_index('season')[['c{}_cumsum'.format(i) for i in range(1,4)]]\n",
    "mean_scores_by_season = scores_by_season.stack().groupby(level=0).mean().values\n",
    "score_se_by_season = scores_by_season.stack().groupby(level=0).apply(sem).values"
   ]
  },
  {
   "cell_type": "code",
   "execution_count": 78,
   "metadata": {},
   "outputs": [
    {
     "data": {
      "text/plain": [
       "<matplotlib.figure.Figure at 0x1324d82b0>"
      ]
     },
     "execution_count": 78,
     "metadata": {},
     "output_type": "execute_result"
    },
    {
     "data": {
      "text/plain": [
       "<matplotlib.figure.Figure at 0x1324d82b0>"
      ]
     },
     "metadata": {},
     "output_type": "display_data"
    }
   ],
   "source": [
    "plt.figure(figsize=(12,9));"
   ]
  },
  {
   "cell_type": "code",
   "execution_count": 79,
   "metadata": {
    "scrolled": true
   },
   "outputs": [
    {
     "data": {
      "image/png": "[encoded data removed]",
      "text/plain": [
       "<matplotlib.figure.Figure at 0x13198b2b0>"
      ]
     },
     "metadata": {},
     "output_type": "display_data"
    }
   ],
   "source": [
    "plt.plot(episodes.season.unique(), mean_scores_by_season);"
   ]
  },
  {
   "cell_type": "code",
   "execution_count": 1198,
   "metadata": {
    "collapsed": true
   },
   "outputs": [],
   "source": [
    "aggregations = {\n",
    "    'stumper': lambda x: sum(x>0)\n",
    "}"
   ]
  },
  {
   "cell_type": "code",
   "execution_count": 1219,
   "metadata": {
    "collapsed": true
   },
   "outputs": [],
   "source": [
    "#Working on seeing how many questions are answered wrong/right per contestant\n",
    "stumpers = episodes.set_index(['season', 'show_num', 'question_num'])[['c{}_add'.format(i) for i in range(1,5)]].stack().groupby(level=[0,1,2]).agg(aggregations)"
   ]
  },
  {
   "cell_type": "code",
   "execution_count": 1221,
   "metadata": {
    "collapsed": true
   },
   "outputs": [],
   "source": [
    "stumpers2 = stumpers.groupby(level=[0,1])['stumper'].agg({'stumpers': lambda x: sum(x==0)/x.count()})"
   ]
  },
  {
   "cell_type": "code",
   "execution_count": 1225,
   "metadata": {},
   "outputs": [
    {
     "data": {
      "text/plain": [
       "[<matplotlib.lines.Line2D at 0x1438fbe80>]"
      ]
     },
     "execution_count": 1225,
     "metadata": {},
     "output_type": "execute_result"
    },
    {
     "data": {
      "image/png": "[encoded data removed]",
      "text/plain": [
       "<matplotlib.figure.Figure at 0x1432ed2e8>"
      ]
     },
     "metadata": {},
     "output_type": "display_data"
    }
   ],
   "source": [
    "plt.plot(stumpers2.groupby(level=0)['stumpers'].mean().index,stumpers2.groupby(level=0)['stumpers'].mean().values)"
   ]
  },
  {
   "cell_type": "code",
   "execution_count": 1214,
   "metadata": {
    "scrolled": true
   },
   "outputs": [
    {
     "data": {
      "text/plain": [
       "[<matplotlib.lines.Line2D at 0x15f919198>]"
      ]
     },
     "execution_count": 1214,
     "metadata": {},
     "output_type": "execute_result"
    },
    {
     "data": {
      "image/png": "[encoded data removed]",
      "text/plain": [
       "<matplotlib.figure.Figure at 0x15f5f3940>"
      ]
     },
     "metadata": {},
     "output_type": "display_data"
    }
   ],
   "source": [
    "plt.plot(stumpers2.index, stumpers2.values)"
   ]
  }
 ],
 "metadata": {
  "kernelspec": {
   "display_name": "Python with updated Pandas",
   "language": "python",
   "name": "pythonp"
  },
  "language_info": {
   "codemirror_mode": {
    "name": "ipython",
    "version": 3
   },
   "file_extension": ".py",
   "mimetype": "text/x-python",
   "name": "python",
   "nbconvert_exporter": "python",
   "pygments_lexer": "ipython3",
   "version": "3.6.2"
  }
 },
 "nbformat": 4,
 "nbformat_minor": 1
}
