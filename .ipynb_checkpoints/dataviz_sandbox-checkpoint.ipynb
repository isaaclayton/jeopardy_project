{
 "cells": [
  {
   "cell_type": "code",
   "execution_count": 1177,
   "metadata": {},
   "outputs": [],
   "source": [
    "import pandas as pd\n",
    "import numpy as np\n",
    "import pickle\n",
    "import itertools\n",
    "import re\n",
    "from typing import List, Tuple, Dict\n",
    "import operator\n",
    "import math\n",
    "from scipy.stats import sem\n",
    "import matplotlib.pyplot as plt\n",
    "%matplotlib inline"
   ]
  },
  {
   "cell_type": "code",
   "execution_count": 912,
   "metadata": {
    "collapsed": true
   },
   "outputs": [],
   "source": [
    "def np_equal(list1, list2):\n",
    "    \"\"\"Return a boolean list of whether 2 elements of the same index are equal in the two given lists\"\"\"\n",
    "    return [x == y for x,y in zip(list1,list2)]"
   ]
  },
  {
   "cell_type": "code",
   "execution_count": 913,
   "metadata": {
    "collapsed": true
   },
   "outputs": [],
   "source": [
    "def any_equal(list1, value):\n",
    "    \"\"\"Return a boolean list of whether any elements of the given list are equal to the given value\"\"\"\n",
    "    return [x == value for x in list1]"
   ]
  },
  {
   "cell_type": "code",
   "execution_count": 914,
   "metadata": {
    "collapsed": true
   },
   "outputs": [],
   "source": [
    "def mult_col_search(df: pd.DataFrame, columns: List[str], \n",
    "                    string: str, strict: bool = False) -> Tuple[List[bool], List[np.ndarray]]:\n",
    "    '''Given a set of dataframe columns, which rows and columns return the substring'''\n",
    "    if strict:\n",
    "        col_bool = [df[col]==string for col in columns]\n",
    "    else:\n",
    "        col_bool = [df[col].str.contains(string) for col in columns]\n",
    "    bool_mask = np.dstack(col_bool).squeeze()\n",
    "    rows = [row.any() for row in bool_mask]\n",
    "    cols = list(itertools.compress(columns, [c.any() for c in col_bool]))\n",
    "    return rows, cols"
   ]
  },
  {
   "cell_type": "code",
   "execution_count": 915,
   "metadata": {
    "collapsed": true
   },
   "outputs": [],
   "source": [
    "def has_state(loc: str) -> bool:\n",
    "    '''See if a US state name is in location string'''\n",
    "    return any((state in loc) & (len(loc.split(','))<3) for state in states)\n",
    "def has_uni(loc: str) -> bool:\n",
    "    '''See if any college terms are in location string'''\n",
    "    return any(re.match(college, loc) \n",
    "               for college in [r'(?!.*Park)(?=.*College)^(.*)$', \n",
    "                               r'.*University.*', r'.*Tech.*',\n",
    "                               r'.* State'])\n",
    "def has_the(loc: str) -> bool:\n",
    "    '''See if the word \"The\" is in the beginning of the location string'''\n",
    "    return re.match(r'^[tT]he .*$', loc)"
   ]
  },
  {
   "cell_type": "code",
   "execution_count": 976,
   "metadata": {
    "collapsed": true
   },
   "outputs": [],
   "source": [
    "def name_order2(list1, list2, df_index=0):\n",
    "    list1 = list(enumerate(list1))\n",
    "    list2 = list(enumerate(list2))\n",
    "    l1_len = len(list1)\n",
    "    if l1_len != len(list2):\n",
    "        raise ValueError('List lengths must be equal')\n",
    "    indices = [-1]*l1_len\n",
    "    for i,x in list1:\n",
    "        if i > 2*l1_len: raise ValueError('Caught in infinite loop')\n",
    "        occurrences = sum(x in name[1] for name in list2)\n",
    "        if occurrences == 0:\n",
    "            raise ValueError('{} is not in list. Show number = {}'.format(x, df_index))\n",
    "        elif occurrences > 1:\n",
    "            list1.append((i,x))\n",
    "        else:\n",
    "            indices[next(j for j,n in list2 if x in n)] = i\n",
    "            l2_ix = next(j for j,n in enumerate(list2) if x in n[1])\n",
    "            del list2[l2_ix]\n",
    "    return indices"
   ]
  },
  {
   "cell_type": "code",
   "execution_count": 916,
   "metadata": {
    "collapsed": true
   },
   "outputs": [],
   "source": [
    "def name_order(list1, list2, df_index=0):\n",
    "    l1 = list1.copy()\n",
    "    l2 = list(enumerate(list2))\n",
    "    l1_len = len(l1)\n",
    "    indices = [-1]*l1_len\n",
    "    if l1_len != len(l2):\n",
    "        raise ValueError('List lengths must be equal')\n",
    "    for i,x in enumerate(l1):\n",
    "        if i > 2*l1_len: raise ValueError('Caught in infinite loop')\n",
    "        occurrences = sum(x in name[1] for name in l2)\n",
    "        if occurrences == 0:\n",
    "            raise ValueError('{} is not in list. Show number = {}'.format(x, df_index))\n",
    "        elif occurrences > 1:\n",
    "            l1.append(x)\n",
    "        else:\n",
    "            if i >= l1_len: i = indices.index(-1)\n",
    "            indices[i] = next(j for j,n in l2 if x in n)\n",
    "            l2_ix = next(j for j,n in enumerate(l2) if x in n[1])\n",
    "            del l2[l2_ix]\n",
    "    return indices"
   ]
  },
  {
   "cell_type": "code",
   "execution_count": 917,
   "metadata": {
    "collapsed": true
   },
   "outputs": [],
   "source": [
    "#Contestant information dataframe\n",
    "contestants = pd.read_csv('contestants.txt', header=None, sep='\\|\\|', error_bad_lines=True,\n",
    "                     names = ['show_num','date','comments','c1', 'c1_job', 'c1_loc', 'c2', \n",
    "                              'c2_job', 'c2_loc', 'c3', 'c3_job', 'c3_loc', 'c4', 'c4_job', 'c4_loc'], \n",
    "                     engine='python')"
   ]
  },
  {
   "cell_type": "code",
   "execution_count": 918,
   "metadata": {
    "collapsed": true
   },
   "outputs": [],
   "source": [
    "contestants.fillna(\"\", inplace=True)\n",
    "\n",
    "#Keep to only first names for easier matching\n",
    "for i in range(1,5):\n",
    "    #contestants['c'+str(i)] = [re.findall('^([\\w\"]+)?', name)[0] for name in contestants['c'+str(i)]]\n",
    "    contestants['c{}_loc'.format(i)] = [loc.strip() for loc in contestants['c{}_loc'.format(i)]]\n",
    "\n",
    "#Make super jeopardy show numbers unique\n",
    "superjep_filter = contestants['comments'].str.contains('Super Jeopardy')\n",
    "#contestants = contestants[~superjep_filter]\n",
    "contestants.loc[superjep_filter ,'show_num'] = [i + 10000 for i in contestants.loc[superjep_filter ,'show_num']]\n",
    "#Make super jeopardy show numbers unique\n",
    "pilot_filter = contestants['comments'].str.contains('Trebek pilot')\n",
    "contestants.loc[pilot_filter ,'show_num'] = [i + 20000 for i in contestants.loc[pilot_filter ,'show_num']]"
   ]
  },
  {
   "cell_type": "code",
   "execution_count": 919,
   "metadata": {
    "collapsed": true
   },
   "outputs": [],
   "source": [
    "#Question dataframe\n",
    "reader = pd.read_csv('jeopardy_questions.txt', header=None, sep='\\|\\|', error_bad_lines=True,\n",
    "                     names = ['season','show_num','question_num','round', 'category', 'difficulty', \n",
    "                              'question', 'answer', 'DD', 'c1', 'c1_add', 'c2', 'c2_add', 'c3', 'c3_add', \n",
    "                              'c4', 'c4_add'], \n",
    "                     engine='python', chunksize = 1000)\n",
    "episodes = pd.concat([chunk for chunk in reader], ignore_index=True)"
   ]
  },
  {
   "cell_type": "code",
   "execution_count": 920,
   "metadata": {
    "collapsed": true
   },
   "outputs": [],
   "source": [
    "for i in range(1,5):\n",
    "    episodes['c'+str(i)].fillna(\"\", inplace=True)\n",
    "    episodes['c{}_add'.format(i)].fillna(0, inplace=True)\n",
    "    episodes['c'+str(i)] = [re.findall('^([\\w\" ]+)?', name)[0] for name in episodes['c'+str(i)]]\n",
    "    \n",
    "#Make super jeopardy show numbers unique\n",
    "superjep_filter = episodes['season']=='superjeopardy'\n",
    "#episodes = episodes[~superjep_filter]\n",
    "episodes.loc[superjep_filter ,'show_num'] = [i + 10000 for i in episodes.loc[superjep_filter ,'show_num']]\n",
    "#Make Trebek Pilot show numbers unique\n",
    "pilot_filter = episodes['season']=='trebekpilots'\n",
    "episodes.loc[pilot_filter ,'show_num'] = [i + 20000 for i in episodes.loc[pilot_filter ,'show_num']]"
   ]
  },
  {
   "cell_type": "code",
   "execution_count": 921,
   "metadata": {
    "collapsed": true
   },
   "outputs": [],
   "source": [
    "#filter for seeing if any episodes have contestants with the same first name\n",
    "name_columns = ['c1', 'c2', 'c3', 'c4']\n",
    "first_names = [[name.split(' ')[0] for name in \n",
    "                episodes[contestant]] for contestant in \n",
    "               name_columns]\n",
    "same_names = [any(names) for names in \n",
    "              zip(*[np_equal(*name_couple) for name_couple in \n",
    "                    itertools.combinations(first_names, 2)])]"
   ]
  },
  {
   "cell_type": "code",
   "execution_count": 922,
   "metadata": {
    "collapsed": true
   },
   "outputs": [],
   "source": [
    "num_names = [[len(name.split(' ')) for name in episodes[contestant]] for contestant in name_columns]\n",
    "two_name_indices = [i for contestant in num_names for i,x in enumerate(contestant) if x>1]"
   ]
  },
  {
   "cell_type": "code",
   "execution_count": 923,
   "metadata": {
    "collapsed": true
   },
   "outputs": [],
   "source": [
    "#question dataframe name corrections\n",
    "qdf_name_changes = {(61, 'c2'): 'Daniel', (62, 'c2'): 'Daniel', (63, 'c1'): 'Daniel', (191, 'c2'): 'Michael',\n",
    "                    (308, 'c1'): 'Paul Croshier', (690, 'c2'): 'Denny', (712, 'c3'): 'Chloe', (789, 'c1'): 'Ernest', \n",
    "                    (789, 'c2'): 'Christine', (804, 'c2'): 'David Javerbaum', (805, 'c2'): 'David Javerbaum', \n",
    "                    (829, 'c1'): 'Arthur', (834, 'c3'): 'Michael', (834, 'c2'): 'Daniel', \n",
    "                    (842, 'c1'): 'Dorothy', (1245, 'c3'): 'Steven', (1246, 'c3'): 'Steven', (1286, 'c3'): 'Mary', \n",
    "                    (1635, 'c1'): 'Vincent', (2574, 'c1'): 'Charles', (2575, 'c3'): 'Thomas', (2926, 'c1'): 'Rob', \n",
    "                    (2929, 'c1'): 'Benjamin',(3023, 'c2'): 'Jimmy', (3124, 'c2'): 'Bob', (3123, 'c2'): 'Bob', \n",
    "                    (3125, 'c2'): 'Bob', (3756, 'c3'): 'Sandra', (3757, 'c3'): 'Benjamin', (3757, 'c1'): 'Anastasia',\n",
    "                    (4520, 'c3'): 'Scott', (4521, 'c1'): 'Scott', (4519, 'c2'): 'Scott', (4522, 'c2'): 'Scott',\n",
    "                    (4523, 'c2'): 'Scott', (4608, 'c3'): 'Scott', (4647, 'c2'): 'Christina', (5097, 'c3'): 'Ozgun',\n",
    "                    (5104, 'c2'): 'Brian', (5110, 'c2'): 'Jacob', (5716, 'c1'): 'Francois',\n",
    "                    (5717, 'c1'): 'Francois', (5718, 'c2'): 'Francois', (5772, 'c2'): 'Debra', (6432, 'c2'): 'Injee',\n",
    "                    (6179, 'c3'): 'Andrew', (6380, 'c2'): 'Thomas', (6934, 'c1'): 'Che', \n",
    "                    (7301, 'c2'): 'Jonathan', (7301, 'c3'): 'S.E.', (7437, 'c2'): 'Rebecca',}"
   ]
  },
  {
   "cell_type": "code",
   "execution_count": 924,
   "metadata": {
    "collapsed": true
   },
   "outputs": [],
   "source": [
    "for key in qdf_name_changes:\n",
    "    episodes.loc[episodes['show_num']==key[0], key[1]] = qdf_name_changes[key]"
   ]
  },
  {
   "cell_type": "code",
   "execution_count": 925,
   "metadata": {
    "collapsed": true
   },
   "outputs": [],
   "source": [
    "for i in range(1,5):\n",
    "    contestants.loc[:,'c{}_add'.format(i)] = 0"
   ]
  },
  {
   "cell_type": "code",
   "execution_count": 926,
   "metadata": {
    "collapsed": true
   },
   "outputs": [],
   "source": [
    "episodes = pd.merge(episodes,\n",
    "                        contestants, \n",
    "                        on='show_num', \n",
    "                        suffixes=['_y',''])"
   ]
  },
  {
   "cell_type": "code",
   "execution_count": 927,
   "metadata": {
    "collapsed": true
   },
   "outputs": [],
   "source": [
    "df2_name_filter = ['c{}_y'.format(i) for i in range(1,5)]\n",
    "df1_name_filter = ['c{}'.format(i) for i in range(1,5)]\n",
    "episode_df2_slice = episodes[df2_name_filter].copy()"
   ]
  },
  {
   "cell_type": "code",
   "execution_count": 977,
   "metadata": {
    "collapsed": true
   },
   "outputs": [],
   "source": [
    "df2_correct_order = [name_order2(list(ep[df2_name_filter].values), list(ep[df1_name_filter].values), i) \n",
    "                     for i,ep in episodes.iterrows()]"
   ]
  },
  {
   "cell_type": "code",
   "execution_count": 986,
   "metadata": {
    "collapsed": true
   },
   "outputs": [],
   "source": [
    "add_columns = ['c{}_add'.format(x) for x in range(1,5)]\n",
    "episodes.loc[:,add_columns] = [[episodes.loc[i,'c{}_add_y'.format(df2_i+1)] for df2_i in order] \n",
    "                               for i,order in enumerate(df2_correct_order)]\n",
    "episodes.drop(['c{}_y'.format(i) for i in range(1,5)], axis=1, inplace=True)\n",
    "episodes.drop(['c{}_add_y'.format(i) for i in range(1,5)], axis=1, inplace=True)"
   ]
  },
  {
   "cell_type": "code",
   "execution_count": 1113,
   "metadata": {
    "collapsed": true
   },
   "outputs": [],
   "source": [
    "!mv episode_df_saved.csv episode_df_saved_backup.csv\n",
    "episodes.to_csv('episode_df_saved.csv', sep='¤')\n",
    "!rm episode_df_saved_backup.csv"
   ]
  },
  {
   "cell_type": "code",
   "execution_count": 1110,
   "metadata": {
    "collapsed": true
   },
   "outputs": [],
   "source": [
    "'''episodes = pd.read_csv('episode_df_saved.csv', sep='¤', engine='python')\n",
    "episodes.drop('Unnamed: 0', axis=1, inplace=True)'''"
   ]
  },
  {
   "cell_type": "code",
   "execution_count": 1157,
   "metadata": {
    "collapsed": true
   },
   "outputs": [],
   "source": [
    "all_episodes = episodes.copy()\n",
    "episodes = episodes[(episodes['season'] != 'superjeopardy') & (episodes['season'] != 'trebekpilots')]"
   ]
  },
  {
   "cell_type": "code",
   "execution_count": 837,
   "metadata": {
    "collapsed": true,
    "scrolled": true
   },
   "outputs": [],
   "source": [
    "num_name_matches = [len(set(episodes.iloc[i][df2_name_filter]) & set(episodes.iloc[i][df1_name_filter])) for i,_ in enumerate(episodes)]"
   ]
  },
  {
   "cell_type": "code",
   "execution_count": 838,
   "metadata": {
    "collapsed": true
   },
   "outputs": [],
   "source": [
    "wrong_match_indices = [i for i,x in enumerate(num_name_matches) if x != 4]"
   ]
  },
  {
   "cell_type": "code",
   "execution_count": 1026,
   "metadata": {},
   "outputs": [
    {
     "ename": "AttributeError",
     "evalue": "'Timestamp' object has no attribute 'split'",
     "output_type": "error",
     "traceback": [
      "\u001b[0;31m---------------------------------------------------------------------------\u001b[0m",
      "\u001b[0;31mAttributeError\u001b[0m                            Traceback (most recent call last)",
      "\u001b[0;32m<ipython-input-1026-3c9bfbd312df>\u001b[0m in \u001b[0;36m<module>\u001b[0;34m()\u001b[0m\n\u001b[0;32m----> 1\u001b[0;31m \u001b[0mepisodes\u001b[0m\u001b[0;34m[\u001b[0m\u001b[0;34m'weekday'\u001b[0m\u001b[0;34m]\u001b[0m \u001b[0;34m=\u001b[0m \u001b[0;34m[\u001b[0m\u001b[0mdate\u001b[0m\u001b[0;34m.\u001b[0m\u001b[0msplit\u001b[0m\u001b[0;34m(\u001b[0m\u001b[0;34m','\u001b[0m\u001b[0;34m)\u001b[0m\u001b[0;34m[\u001b[0m\u001b[0;36m0\u001b[0m\u001b[0;34m]\u001b[0m \u001b[0;32mfor\u001b[0m \u001b[0mdate\u001b[0m \u001b[0;32min\u001b[0m \u001b[0mepisodes\u001b[0m\u001b[0;34m[\u001b[0m\u001b[0;34m'date'\u001b[0m\u001b[0;34m]\u001b[0m\u001b[0;34m]\u001b[0m\u001b[0;34m\u001b[0m\u001b[0m\n\u001b[0m",
      "\u001b[0;32m<ipython-input-1026-3c9bfbd312df>\u001b[0m in \u001b[0;36m<listcomp>\u001b[0;34m(.0)\u001b[0m\n\u001b[0;32m----> 1\u001b[0;31m \u001b[0mepisodes\u001b[0m\u001b[0;34m[\u001b[0m\u001b[0;34m'weekday'\u001b[0m\u001b[0;34m]\u001b[0m \u001b[0;34m=\u001b[0m \u001b[0;34m[\u001b[0m\u001b[0mdate\u001b[0m\u001b[0;34m.\u001b[0m\u001b[0msplit\u001b[0m\u001b[0;34m(\u001b[0m\u001b[0;34m','\u001b[0m\u001b[0;34m)\u001b[0m\u001b[0;34m[\u001b[0m\u001b[0;36m0\u001b[0m\u001b[0;34m]\u001b[0m \u001b[0;32mfor\u001b[0m \u001b[0mdate\u001b[0m \u001b[0;32min\u001b[0m \u001b[0mepisodes\u001b[0m\u001b[0;34m[\u001b[0m\u001b[0;34m'date'\u001b[0m\u001b[0;34m]\u001b[0m\u001b[0;34m]\u001b[0m\u001b[0;34m\u001b[0m\u001b[0m\n\u001b[0m",
      "\u001b[0;31mAttributeError\u001b[0m: 'Timestamp' object has no attribute 'split'"
     ]
    }
   ],
   "source": [
    "episodes['weekday'] = [date.split(',')[0] for date in episodes['date']]"
   ]
  },
  {
   "cell_type": "code",
   "execution_count": 988,
   "metadata": {
    "collapsed": true
   },
   "outputs": [],
   "source": [
    "episodes['date'] = [date.split(',',1)[1] for date in episodes['date']]"
   ]
  },
  {
   "cell_type": "code",
   "execution_count": 1158,
   "metadata": {},
   "outputs": [],
   "source": [
    "episodes['date'] = pd.to_datetime(episodes['date'])\n",
    "latest_season = max([int(s) if s.isdigit() else 0 for s in episodes.season.unique()])\n",
    "season_list = [str(i) for i in range(1,latest_season+1)]\n",
    "episodes['season'] = pd.to_numeric(episodes['season'])\n",
    "episodes['round'] = pd.Categorical(episodes['round'], ['jeopardy_round', 'double_jeopardy_round', 'final_jeopardy_round'])"
   ]
  },
  {
   "cell_type": "code",
   "execution_count": 990,
   "metadata": {
    "collapsed": true
   },
   "outputs": [],
   "source": [
    "episodes = episodes.replace(np.nan, '', regex=True)"
   ]
  },
  {
   "cell_type": "code",
   "execution_count": 1064,
   "metadata": {
    "collapsed": true
   },
   "outputs": [],
   "source": [
    "episodes.sort_values(by=['date','round', 'question_num'], inplace=True)"
   ]
  },
  {
   "cell_type": "code",
   "execution_count": 992,
   "metadata": {
    "collapsed": true
   },
   "outputs": [],
   "source": [
    "states = ['Alabama', 'Alaska', 'Arizona', 'Arkansas', 'California', \n",
    "          'Colorado', 'Connecticut', 'Delaware', 'District of Columbia', \n",
    "          'Florida', 'Georgia', 'Hawaii', 'Idaho', 'Illinois', 'Indiana', \n",
    "          'Iowa', 'Kansas', 'Kentucky', 'Louisiana', 'Maine', 'Maryland', \n",
    "          'Massachusetts', 'Michigan', 'Minnesota', 'Mississippi', 'Missouri', \n",
    "          'Montana', 'Nebraska', 'Nevada', 'New Hampshire', 'New Jersey', 'New Mexico', \n",
    "          'New York', 'North Carolina', 'North Dakota', 'Ohio', 'Oklahoma', 'Oregon', \n",
    "          'Pennsylvania', 'Rhode Island', 'South Carolina', 'South Dakota', 'Tennessee', \n",
    "          'Texas', 'Utah', 'Vermont', 'Virginia', 'Washington', 'West Virginia', 'Wisconsin', \n",
    "          'Wyoming']"
   ]
  },
  {
   "cell_type": "code",
   "execution_count": 993,
   "metadata": {
    "collapsed": true
   },
   "outputs": [],
   "source": [
    "state_errors = {'Missouri': ['Missiouri',], 'Virginia': ['Vriginia',], 'Kentucky': ['Kenrucky',], \n",
    "               'Illinois': ['Ilinois', 'IL',], 'Massachusetts': ['Masachusetts',], \n",
    "               'California': ['Caifornia',], 'Ohio': ['Onio',], 'New York': ['New Nork',],\n",
    "               'Delaware': ['Deleware',], 'Indiana': ['Indinia',], 'Nevada': ['Nevade',],\n",
    "               'Wyoming': ['Wyoming and Montana',],\n",
    "               }"
   ]
  },
  {
   "cell_type": "code",
   "execution_count": 994,
   "metadata": {
    "collapsed": true
   },
   "outputs": [],
   "source": [
    "for state in state_errors:\n",
    "    for error in state_errors[state]:\n",
    "        episodes.loc[mult_col_search(episodes, ['c{}_loc'.format(i) for i in range(1,5)], error)] = \\\n",
    "        [[string.replace(error, state) for string in question]\n",
    "        for question in episodes.loc[mult_col_search(episodes, ['c{}_loc'.format(i) \n",
    "                                                                for i in range(1,5)], error)].values]"
   ]
  },
  {
   "cell_type": "code",
   "execution_count": 995,
   "metadata": {
    "collapsed": true
   },
   "outputs": [],
   "source": [
    "city_errors = dict(**{',{}'.format(state): state for state in states},\n",
    "                   **{'New York City,New York': 'New York, New York', \n",
    "                      'New York City, New York': 'New York City',\n",
    "                      'Kansas City, Missouri': 'Kansas City',\n",
    "                      ', Texas': 'North Texas', \n",
    "                      ', New York': 'Trinidad and Tobago and now in New York',\n",
    "                      'Easton, Maryland': 'Easton Maryland',\n",
    "                      'Lynn, Massachusetts': 'Lynn Massachusetts',\n",
    "                      })"
   ]
  },
  {
   "cell_type": "code",
   "execution_count": 996,
   "metadata": {
    "collapsed": true
   },
   "outputs": [],
   "source": [
    "for city in city_errors:\n",
    "    episodes.loc[mult_col_search(episodes, ['c{}_loc'.format(i) for i in range(1,5)], \n",
    "                                 city_errors[city], strict=True)] = \\\n",
    "    [[city for string in question]\n",
    "    for question in episodes.loc[mult_col_search(episodes, ['c{}_loc'.format(i) for i in range(1,5)], \n",
    "                                                 city_errors[city], strict=True)].values]"
   ]
  },
  {
   "cell_type": "code",
   "execution_count": 998,
   "metadata": {
    "collapsed": true
   },
   "outputs": [],
   "source": [
    "for i in range(1,5):\n",
    "    episodes['c{}_state'.format(i)] = [loc.split(',')[1].strip() \n",
    "                                       if (has_state(loc) and not any([has_uni(loc),has_the(loc)])) \n",
    "                                       else '' if loc=='' \n",
    "                                       else 'Other'  \n",
    "                                       for loc in episodes['c{}_loc'.format(i)]]"
   ]
  },
  {
   "cell_type": "code",
   "execution_count": 999,
   "metadata": {
    "collapsed": true
   },
   "outputs": [],
   "source": [
    "state_counts = dict(zip(*np.unique(episodes.groupby('show_num').first()[['c{}_state'.format(i) \n",
    "                                                                        for i in range(1,5)]], return_counts=True)))"
   ]
  },
  {
   "cell_type": "code",
   "execution_count": 1020,
   "metadata": {
    "collapsed": true,
    "scrolled": false
   },
   "outputs": [],
   "source": [
    "unique_categories = list(zip(*np.unique(np.concatenate(list(episodes.groupby('show_num').category.unique())), return_counts=True)))"
   ]
  },
  {
   "cell_type": "code",
   "execution_count": null,
   "metadata": {
    "collapsed": true,
    "scrolled": true
   },
   "outputs": [],
   "source": [
    "unique_categories.sort(key=operator.itemgetter(1), reverse=True)"
   ]
  },
  {
   "cell_type": "code",
   "execution_count": null,
   "metadata": {
    "collapsed": true
   },
   "outputs": [],
   "source": [
    "sum(y for x,y in unique_categories[0:100])"
   ]
  },
  {
   "cell_type": "code",
   "execution_count": null,
   "metadata": {
    "collapsed": true,
    "scrolled": true
   },
   "outputs": [],
   "source": [
    "unique_categories[400:450]"
   ]
  },
  {
   "cell_type": "code",
   "execution_count": 646,
   "metadata": {
    "collapsed": true
   },
   "outputs": [],
   "source": [
    "#Credit to github user meiqimichelle at \n",
    "#https://gist.githubusercontent.com/meiqimichelle/7727723/raw/0109432d22f28fd1a669a3fd113e41c4193dbb5d/USstates_avg_latLong\n",
    "longs_and_lats = pd.read_json('USstates_avg_latLong.json')"
   ]
  },
  {
   "cell_type": "code",
   "execution_count": 671,
   "metadata": {},
   "outputs": [
    {
     "data": {
      "text/plain": [
       "dict_items([('Vermont', 6327), ('Oklahoma', 6348), ('Kansas', 5045), ('Michigan', 5340), ('Arkansas', 8495), ('Idaho', 8982), ('Missouri', 5078), ('Maine', 3109), ('D.C.', 6589), ('Utah', 22754), ('Nebraska', 5745), ('South Dakota', 5234), ('Alabama', 4755), ('Wisconsin', 3951), ('Delaware', 9228), ('Kentucky', 7887), ('Texas', 5369), ('Maryland', 5002), ('South Carolina', 5031), ('Iowa', 6428), ('Washington', 5792), ('California', 4963), ('Georgia', 5869), ('New Mexico', 4607), ('Virginia', 5018), ('Rhode Island', 3672), ('Florida', 4879), ('Wyoming', 4662), ('Ohio', 6512), ('Hawaii', 3567), ('Illinois', 5675), ('Arizona', 4799), ('Massachusetts', 5074), ('New Jersey', 5410), ('Minnesota', 6452), ('Mississippi', 4725), ('New Hampshire', 5884), ('Tennessee', 4494), ('New York', 5637), ('Pennsylvania', 4860), ('Connecticut', 4413), ('Louisiana', 5047), ('West Virginia', 6034), ('Alaska', 7451), ('North Dakota', 2024), ('North Carolina', 5328), ('Indiana', 5118), ('Nevada', 2730), ('Colorado', 6152), ('Montana', 2465), ('Oregon', 3238)])"
      ]
     },
     "execution_count": 671,
     "metadata": {},
     "output_type": "execute_result"
    }
   ],
   "source": [
    "state_mean_winnings.items()"
   ]
  },
  {
   "cell_type": "code",
   "execution_count": 677,
   "metadata": {
    "collapsed": true
   },
   "outputs": [],
   "source": [
    "pd.merge(pd.DataFrame(list(state_mean_winnings.items()), columns = ['state', 'winnings']), longs_and_lats).to_csv('state_mean_winnings.csv')"
   ]
  },
  {
   "cell_type": "code",
   "execution_count": 1147,
   "metadata": {
    "collapsed": true
   },
   "outputs": [],
   "source": [
    "#episodes.set_index(['season', 'show_num', 'round'], inplace=True)\n",
    "#episodes.sort_index(inplace=True)"
   ]
  },
  {
   "cell_type": "code",
   "execution_count": 1153,
   "metadata": {
    "collapsed": true
   },
   "outputs": [],
   "source": [
    "#episodes.reset_index(inplace=True)"
   ]
  },
  {
   "cell_type": "code",
   "execution_count": 522,
   "metadata": {
    "collapsed": true
   },
   "outputs": [],
   "source": [
    "#episodes.drop(labels = ['winner', 'winner_locs', 'winner_winnings'], axis=1, inplace=True)"
   ]
  },
  {
   "cell_type": "code",
   "execution_count": 1000,
   "metadata": {
    "collapsed": true
   },
   "outputs": [],
   "source": [
    "for i in range(1,5):\n",
    "    episodes['c{}_cumsum'.format(i)] = episodes.groupby('show_num')['c{}_add'.format(i)].transform(pd.Series.cumsum)"
   ]
  },
  {
   "cell_type": "code",
   "execution_count": 1001,
   "metadata": {
    "collapsed": true
   },
   "outputs": [],
   "source": [
    "winner = episodes.groupby('show_num').last()[['c1_cumsum','c2_cumsum', 'c3_cumsum', 'c4_cumsum']].idxmax(axis=1)"
   ]
  },
  {
   "cell_type": "code",
   "execution_count": 1002,
   "metadata": {
    "collapsed": true
   },
   "outputs": [],
   "source": [
    "winner = pd.DataFrame([[i, x[:2]] for i,x in zip(winner.index, winner)], columns = ['show_num', 'winner'])"
   ]
  },
  {
   "cell_type": "code",
   "execution_count": 1003,
   "metadata": {
    "collapsed": true
   },
   "outputs": [],
   "source": [
    "winner_winnings = episodes.groupby('show_num').last()[['c1_cumsum','c2_cumsum', 'c3_cumsum', 'c4_cumsum']].max(axis=1)"
   ]
  },
  {
   "cell_type": "code",
   "execution_count": 1004,
   "metadata": {
    "collapsed": true
   },
   "outputs": [],
   "source": [
    "winner_winnings = pd.DataFrame([[i, x] \n",
    "                                for i,x in zip(winner_winnings.index, winner_winnings)], \n",
    "                               columns = ['show_num', 'winner_winnings'])"
   ]
  },
  {
   "cell_type": "code",
   "execution_count": 1005,
   "metadata": {
    "collapsed": true
   },
   "outputs": [],
   "source": [
    "episodes = pd.merge(episodes,\n",
    "                    winner, \n",
    "                    on='show_num', \n",
    "                    suffixes=['','_y'])"
   ]
  },
  {
   "cell_type": "code",
   "execution_count": 1006,
   "metadata": {
    "collapsed": true
   },
   "outputs": [],
   "source": [
    "episodes = pd.merge(episodes,\n",
    "                    winner_winnings, \n",
    "                    on='show_num', \n",
    "                    suffixes=['','_y'])"
   ]
  },
  {
   "cell_type": "code",
   "execution_count": 1007,
   "metadata": {
    "collapsed": true
   },
   "outputs": [],
   "source": [
    "winner_locs = [episodes[contestant+'_loc'].iloc[i]\n",
    "                 for i, contestant in enumerate(episodes['winner'])]"
   ]
  },
  {
   "cell_type": "code",
   "execution_count": 1008,
   "metadata": {
    "collapsed": true
   },
   "outputs": [],
   "source": [
    "episodes['winner_loc'] = winner_locs"
   ]
  },
  {
   "cell_type": "code",
   "execution_count": 1009,
   "metadata": {
    "collapsed": true
   },
   "outputs": [],
   "source": [
    "winner_states = [episodes[contestant+'_state'].iloc[i]\n",
    "                 for i, contestant in enumerate(episodes['winner'])]"
   ]
  },
  {
   "cell_type": "code",
   "execution_count": 1010,
   "metadata": {
    "collapsed": true
   },
   "outputs": [],
   "source": [
    "episodes['winner_state'] = winner_states"
   ]
  },
  {
   "cell_type": "code",
   "execution_count": 1012,
   "metadata": {
    "collapsed": true
   },
   "outputs": [],
   "source": [
    "winner_state_counts = dict(zip(*np.unique(episodes.groupby('show_num').first()['winner_state'], return_counts=True)))"
   ]
  },
  {
   "cell_type": "code",
   "execution_count": 1022,
   "metadata": {},
   "outputs": [
    {
     "data": {
      "text/plain": [
       "{'': 5,\n",
       " 'Alabama': 37,\n",
       " 'Alaska': 10,\n",
       " 'Arizona': 61,\n",
       " 'Arkansas': 31,\n",
       " 'California': 895,\n",
       " 'Colorado': 76,\n",
       " 'Connecticut': 79,\n",
       " 'D.C.': 128,\n",
       " 'Delaware': 31,\n",
       " 'Florida': 170,\n",
       " 'Georgia': 165,\n",
       " 'Hawaii': 12,\n",
       " 'Idaho': 11,\n",
       " 'Illinois': 298,\n",
       " 'Indiana': 61,\n",
       " 'Iowa': 52,\n",
       " 'Kansas': 29,\n",
       " 'Kentucky': 75,\n",
       " 'Louisiana': 64,\n",
       " 'Maine': 13,\n",
       " 'Maryland': 196,\n",
       " 'Massachusetts': 207,\n",
       " 'Michigan': 124,\n",
       " 'Minnesota': 86,\n",
       " 'Mississippi': 11,\n",
       " 'Missouri': 80,\n",
       " 'Montana': 8,\n",
       " 'Nebraska': 12,\n",
       " 'Nevada': 16,\n",
       " 'New Hampshire': 32,\n",
       " 'New Jersey': 177,\n",
       " 'New Mexico': 14,\n",
       " 'New York': 741,\n",
       " 'North Carolina': 80,\n",
       " 'North Dakota': 1,\n",
       " 'Ohio': 209,\n",
       " 'Oklahoma': 39,\n",
       " 'Oregon': 52,\n",
       " 'Other': 385,\n",
       " 'Pennsylvania': 190,\n",
       " 'Rhode Island': 14,\n",
       " 'South Carolina': 46,\n",
       " 'South Dakota': 4,\n",
       " 'Tennessee': 49,\n",
       " 'Texas': 218,\n",
       " 'Utah': 90,\n",
       " 'Vermont': 19,\n",
       " 'Virginia': 228,\n",
       " 'Washington': 105,\n",
       " 'West Virginia': 22,\n",
       " 'Wisconsin': 43,\n",
       " 'Wyoming': 3}"
      ]
     },
     "execution_count": 1022,
     "metadata": {},
     "output_type": "execute_result"
    }
   ],
   "source": [
    "winner_state_counts"
   ]
  },
  {
   "cell_type": "code",
   "execution_count": 1014,
   "metadata": {
    "collapsed": true
   },
   "outputs": [],
   "source": [
    "state_win_percentage = {state: math.floor(winner_state_counts[state]/state_counts[state]*100)/100 for state in state_counts}"
   ]
  },
  {
   "cell_type": "code",
   "execution_count": 1015,
   "metadata": {
    "collapsed": true
   },
   "outputs": [],
   "source": [
    "state_winnings = episodes.groupby('show_num')[['winner_state','winner_winnings']].first().groupby('winner_state').mean().to_dict()['winner_winnings']"
   ]
  },
  {
   "cell_type": "code",
   "execution_count": 1016,
   "metadata": {
    "collapsed": true
   },
   "outputs": [],
   "source": [
    "state_mean_winnings = {state: math.floor(state_winnings[state]*state_win_percentage[state]) for state in state_winnings}"
   ]
  },
  {
   "cell_type": "code",
   "execution_count": null,
   "metadata": {
    "collapsed": true
   },
   "outputs": [],
   "source": [
    "!mv episode_df_saved.csv episode_df_saved_backup.csv\n",
    "episodes.to_csv('episode_df_saved.csv', sep='¤')\n",
    "!rm episode_df_saved_backup.csv"
   ]
  },
  {
   "cell_type": "code",
   "execution_count": 1030,
   "metadata": {
    "collapsed": true
   },
   "outputs": [],
   "source": [
    "episodes = episodes.ix[:,['season', 'show_num', 'date', 'weekday',\n",
    "                          'comments', 'question_num','round',\n",
    "                          'category', 'difficulty', 'question', 'answer', 'DD', \n",
    "                          'c1', 'c1_add', 'c1_cumsum', 'c1_job', 'c1_loc', 'c1_state',\n",
    "                          'c2', 'c2_add', 'c2_cumsum', 'c2_job', 'c2_loc', 'c2_state',\n",
    "                          'c3', 'c3_add', 'c3_cumsum', 'c3_job', 'c3_loc', 'c3_state',\n",
    "                          'c4', 'c4_add', 'c4_cumsum', 'c4_job', 'c4_loc', 'c4_state', \n",
    "                          'winner', 'winner_loc', 'winner_state', 'winner_winnings']]"
   ]
  },
  {
   "cell_type": "code",
   "execution_count": 630,
   "metadata": {
    "collapsed": true
   },
   "outputs": [],
   "source": [
    "unique_jobs = list(zip(*np.unique([x.replace(', ', ',') \n",
    "                                   for x in \n",
    "                                   episodes.groupby('show_num')[['c1_job', 'c2_job',\n",
    "                                                                 'c3_job', 'c4_job']].first().values.ravel('K')], \n",
    "                                  return_counts=True)))"
   ]
  },
  {
   "cell_type": "code",
   "execution_count": 635,
   "metadata": {
    "collapsed": true
   },
   "outputs": [],
   "source": [
    "unique_jobs.sort(key=operator.itemgetter(1), reverse=True)"
   ]
  },
  {
   "cell_type": "code",
   "execution_count": 530,
   "metadata": {
    "collapsed": true
   },
   "outputs": [],
   "source": [
    "unique_locs = list(zip(*np.unique([x.replace(', ', ',') \n",
    "                                   for x in \n",
    "                                   episodes.groupby('show_num')[['c1_loc', 'c2_loc',\n",
    "                                                                 'c3_loc', 'c4_loc']].first().values.ravel('K')], \n",
    "                                  return_counts=True)))"
   ]
  },
  {
   "cell_type": "code",
   "execution_count": 531,
   "metadata": {
    "collapsed": true
   },
   "outputs": [],
   "source": [
    "unique_locs.sort(key=operator.itemgetter(1), reverse=True)"
   ]
  },
  {
   "cell_type": "code",
   "execution_count": 533,
   "metadata": {},
   "outputs": [
    {
     "data": {
      "text/plain": [
       "3566"
      ]
     },
     "execution_count": 533,
     "metadata": {},
     "output_type": "execute_result"
    }
   ],
   "source": [
    "len(unique_locs)"
   ]
  },
  {
   "cell_type": "code",
   "execution_count": 438,
   "metadata": {
    "collapsed": true
   },
   "outputs": [],
   "source": [
    "has_state = [any(state in loc for state in states) for loc in list(zip(*unique_locs))[0]]"
   ]
  },
  {
   "cell_type": "code",
   "execution_count": 439,
   "metadata": {
    "collapsed": true
   },
   "outputs": [],
   "source": [
    "has_uni = [any(re.match(college, loc) \n",
    "               for college in [r'(?!.*Park)(?=.*College)^(.*)$', \n",
    "                               r'.*University.*', r'.*Tech.*',\n",
    "                               r'.* State']) \n",
    "           for loc in list(zip(*unique_locs))[0]]"
   ]
  },
  {
   "cell_type": "code",
   "execution_count": 440,
   "metadata": {
    "collapsed": true
   },
   "outputs": [],
   "source": [
    "has_the = [re.match(r'^[tT]he .*$', loc) for loc in list(zip(*unique_locs))[0]]"
   ]
  },
  {
   "cell_type": "code",
   "execution_count": 442,
   "metadata": {
    "collapsed": true
   },
   "outputs": [],
   "source": [
    "state_locs = list(itertools.compress(list(zip(*unique_locs))[0],\n",
    "                                     [state and not uni and not the \n",
    "                                      for state, uni, the in zip(has_state,has_uni, has_the)]))"
   ]
  },
  {
   "cell_type": "code",
   "execution_count": 1037,
   "metadata": {
    "scrolled": false
   },
   "outputs": [
    {
     "data": {
      "text/plain": [
       "show_num  winner_loc                            \n",
       "5977      Newark, Delaware                          77000.0\n",
       "4595      Salt Lake City, Utah                      75000.0\n",
       "7602      New York City,New York                    69000.0\n",
       "5749      The Tonight Show                          68000.0\n",
       "6663      Sonora, Kentucky                          66600.0\n",
       "7601      New York City,New York                    65600.0\n",
       "6784      Broadview Heights, Ohio                   58200.0\n",
       "7037      New York City,New York                    57198.0\n",
       "6375      Omaha, Nebraska                           56400.0\n",
       "5839      Wheel of Fortune                          55300.0\n",
       "4653      Salt Lake City, Utah                      55099.0\n",
       "6196      Moscow, Idaho                             55000.0\n",
       "4594      Salt Lake City, Utah                      52000.0\n",
       "4585      Salt Lake City, Utah                      52000.0\n",
       "4296      Minneapolis, Minnesota                    52000.0\n",
       "4586      Salt Lake City, Utah                      52000.0\n",
       "5782      Lincolnshire, Illinois                    51999.0\n",
       "7146      Washington, D.C.                          51000.0\n",
       "6217      Somerville, Massachusetts                 50800.0\n",
       "4139      Owatonna, Minnesota                       50000.0\n",
       "4638      Salt Lake City, Utah                      50000.0\n",
       "4605      Salt Lake City, Utah                      50000.0\n",
       "4567      Salt Lake City, Utah                      50000.0\n",
       "7145      Washington, D.C.                          50000.0\n",
       "6246      Newark, Delaware                          50000.0\n",
       "4564      Salt Lake City, Utah                      50000.0\n",
       "4590      Salt Lake City, Utah                      50000.0\n",
       "4654      Salt Lake City, Utah                      50000.0\n",
       "7257      New York City,New York                    49900.0\n",
       "5673      Leominster, Massachusetts                 49699.0\n",
       "                                                     ...   \n",
       "4316      Minneapolis, Minnesota                      799.0\n",
       "5374      Denver, Colorado                            799.0\n",
       "3354      Paris, Texas                                700.0\n",
       "2083      Venice, California                          700.0\n",
       "4958      Warwick, New York                           600.0\n",
       "2716      Glastonbury, Connecticut                    600.0\n",
       "5250      New York City,New York                      599.0\n",
       "5684      Garden City, New York                       599.0\n",
       "423       Detroit, Michigan                           599.0\n",
       "962       Brooklyn, New York                          500.0\n",
       "6711      Richardson, Texas                           500.0\n",
       "20001     Toledo, Ohio                                450.0\n",
       "3906      Toronto, Ontario                            400.0\n",
       "3242      Valparaiso, Indiana                         399.0\n",
       "765       Fairfax, California                         300.0\n",
       "5384      Houston, Texas                              255.0\n",
       "5370      Boston, Massachusetts                       200.0\n",
       "7123      Denver, Colorado                            200.0\n",
       "3043      the Association of American Publishers      100.0\n",
       "3067      Smyrna, Georgia                             100.0\n",
       "2928      The Nanny                                     1.0\n",
       "7612      Lacey, Washington                             1.0\n",
       "3790      the U.S. Olympic Women's Soccer Team          1.0\n",
       "1932      Washington, D.C.                              1.0\n",
       "2808      Party of Five                                 0.0\n",
       "3190      Alexandria, Virginia                          0.0\n",
       "6539      Englewood, Ohio                               0.0\n",
       "7216      Washington, D.C.                              0.0\n",
       "3116      Friends                                       0.0\n",
       "2         Philadelphia, Pennsylvania                    0.0\n",
       "Name: winner_winnings, dtype: float64"
      ]
     },
     "execution_count": 1037,
     "metadata": {},
     "output_type": "execute_result"
    }
   ],
   "source": [
    "episodes.groupby(['show_num','winner_loc'])['winner_winnings'].mean().sort_values(ascending=False)"
   ]
  },
  {
   "cell_type": "code",
   "execution_count": 1166,
   "metadata": {
    "scrolled": true
   },
   "outputs": [],
   "source": [
    "scores_by_season = episodes.groupby('show_num').last().set_index('season')[['c{}_cumsum'.format(i) for i in range(1,4)]]\n",
    "mean_scores_by_season = scores_by_season.stack().groupby(level=0).mean().values\n",
    "score_se_by_season = scores_by_season.stack().groupby(level=0).apply(sem).values"
   ]
  },
  {
   "cell_type": "code",
   "execution_count": 1178,
   "metadata": {},
   "outputs": [
    {
     "data": {
      "text/plain": [
       "<matplotlib.figure.Figure at 0x15c06e8d0>"
      ]
     },
     "execution_count": 1178,
     "metadata": {},
     "output_type": "execute_result"
    },
    {
     "data": {
      "text/plain": [
       "<matplotlib.figure.Figure at 0x15c06e8d0>"
      ]
     },
     "metadata": {},
     "output_type": "display_data"
    }
   ],
   "source": [
    "plt.figure(figsize=(12,9))"
   ]
  },
  {
   "cell_type": "code",
   "execution_count": 1180,
   "metadata": {
    "scrolled": true
   },
   "outputs": [
    {
     "data": {
      "image/png": "[encoded data removed]",
      "text/plain": [
       "<matplotlib.figure.Figure at 0x15f5d5320>"
      ]
     },
     "metadata": {},
     "output_type": "display_data"
    }
   ],
   "source": [
    "plt.plot(episodes.season.unique(), mean_scores_by_season);"
   ]
  },
  {
   "cell_type": "code",
   "execution_count": 1198,
   "metadata": {},
   "outputs": [],
   "source": [
    "aggregations = {\n",
    "    'stumper': lambda x: sum(x>0)\n",
    "}"
   ]
  },
  {
   "cell_type": "code",
   "execution_count": 1219,
   "metadata": {},
   "outputs": [],
   "source": [
    "#Working on seeing how many questions are answered wrong/right per contestant\n",
    "stumpers = episodes.set_index(['season', 'show_num', 'question_num'])[['c{}_add'.format(i) for i in range(1,5)]].stack().groupby(level=[0,1,2]).agg(aggregations)"
   ]
  },
  {
   "cell_type": "code",
   "execution_count": 1221,
   "metadata": {},
   "outputs": [],
   "source": [
    "stumpers2 = stumpers.groupby(level=[0,1])['stumper'].agg({'stumpers': lambda x: sum(x==0)/x.count()})"
   ]
  },
  {
   "cell_type": "code",
   "execution_count": 1225,
   "metadata": {},
   "outputs": [
    {
     "data": {
      "text/plain": [
       "[<matplotlib.lines.Line2D at 0x1438fbe80>]"
      ]
     },
     "execution_count": 1225,
     "metadata": {},
     "output_type": "execute_result"
    },
    {
     "data": {
      "image/png": "[encoded data removed]",
      "text/plain": [
       "<matplotlib.figure.Figure at 0x1432ed2e8>"
      ]
     },
     "metadata": {},
     "output_type": "display_data"
    }
   ],
   "source": [
    "plt.plot(stumpers2.groupby(level=0)['stumpers'].mean().index,stumpers2.groupby(level=0)['stumpers'].mean().values)"
   ]
  },
  {
   "cell_type": "code",
   "execution_count": 1214,
   "metadata": {},
   "outputs": [
    {
     "data": {
      "text/plain": [
       "[<matplotlib.lines.Line2D at 0x15f919198>]"
      ]
     },
     "execution_count": 1214,
     "metadata": {},
     "output_type": "execute_result"
    },
    {
     "data": {
      "image/png": "[encoded data removed]",
      "text/plain": [
       "<matplotlib.figure.Figure at 0x15f5f3940>"
      ]
     },
     "metadata": {},
     "output_type": "display_data"
    }
   ],
   "source": [
    "plt.plot(stumpers2.index, stumpers2.values)"
   ]
  },
  {
   "cell_type": "code",
   "execution_count": 1217,
   "metadata": {},
   "outputs": [
    {
     "data": {
      "text/plain": [
       "[383]"
      ]
     },
     "execution_count": 1217,
     "metadata": {},
     "output_type": "execute_result"
    }
   ],
   "source": [
    "[x for x,y in zip(stumpers2.index, stumpers2.values) if y > 0.5]"
   ]
  },
  {
   "cell_type": "code",
   "execution_count": null,
   "metadata": {},
   "outputs": [],
   "source": [
    "episodes['category'].unique()[0:10]"
   ]
  }
 ],
 "metadata": {
  "kernelspec": {
   "display_name": "Python 3",
   "language": "python",
   "name": "python3"
  },
  "language_info": {
   "codemirror_mode": {
    "name": "ipython",
    "version": 3
   },
   "file_extension": ".py",
   "mimetype": "text/x-python",
   "name": "python",
   "nbconvert_exporter": "python",
   "pygments_lexer": "ipython3",
   "version": "3.5.1"
  }
 },
 "nbformat": 4,
 "nbformat_minor": 1
}
