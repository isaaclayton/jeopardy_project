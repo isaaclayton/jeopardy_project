{
 "cells": [
  {
   "cell_type": "code",
   "execution_count": 23,
   "metadata": {
    "collapsed": true
   },
   "outputs": [],
   "source": [
    "from collections import defaultdict"
   ]
  },
  {
   "cell_type": "code",
   "execution_count": 34,
   "metadata": {},
   "outputs": [],
   "source": [
    "def number_needed(a,b):\n",
    "    a_dict = defaultdict(int)\n",
    "    b_dict=  defaultdict(int)\n",
    "    count = 0\n",
    "    for letter in a:\n",
    "        a_dict[letter]+=1\n",
    "    for letter in b:\n",
    "        b_dict[letter]+=1\n",
    "    for key in set(a+b):\n",
    "        count+=abs(a_dict[key] - b_dict[key])\n",
    "    return count"
   ]
  }
 ],
 "metadata": {
  "kernelspec": {
   "display_name": "Python 3",
   "language": "python",
   "name": "python3"
  },
  "language_info": {
   "codemirror_mode": {
    "name": "ipython",
    "version": 3
   },
   "file_extension": ".py",
   "mimetype": "text/x-python",
   "name": "python",
   "nbconvert_exporter": "python",
   "pygments_lexer": "ipython3",
   "version": "3.5.1"
  }
 },
 "nbformat": 4,
 "nbformat_minor": 1
}
